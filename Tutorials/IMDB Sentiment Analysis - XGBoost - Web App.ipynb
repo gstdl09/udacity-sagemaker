{
 "cells": [
  {
   "cell_type": "markdown",
   "metadata": {},
   "source": [
    "# Sentiment Analysis Web App\n",
    "\n",
    "_Deep Learning Nanodegree Program | Deployment_\n",
    "\n",
    "---\n",
    "\n",
    "In this notebook we will use Amazon's SageMaker service to construct a random tree model to predict the sentiment of a movie review. In addition, we will deploy this model to an endpoint and construct a very simple web app which will interact with our model's deployed endpoint.\n",
    "\n",
    "## General Outline\n",
    "\n",
    "Typically, when using a notebook instance with SageMaker, you will proceed through the following steps. Of course, not every step will need to be done with each project. Also, there is quite a lot of room for variation in many of the steps, as you will see throughout these lessons.\n",
    "\n",
    "1. Download or otherwise retrieve the data.\n",
    "2. Process / Prepare the data.\n",
    "3. Upload the processed data to S3.\n",
    "4. Train a chosen model.\n",
    "5. Test the trained model (typically using a batch transform job).\n",
    "6. Deploy the trained model.\n",
    "7. Use the deployed model.\n",
    "\n",
    "In this notebook we will progress through each of the steps above. We will also see that the final step, using the deployed model, can be quite challenging."
   ]
  },
  {
   "cell_type": "markdown",
   "metadata": {},
   "source": [
    "## Step 1: Downloading the data\n",
    "\n",
    "The dataset we are going to use is very popular among researchers in Natural Language Processing, usually referred to as the [IMDb dataset](http://ai.stanford.edu/~amaas/data/sentiment/). It consists of movie reviews from the website [imdb.com](http://www.imdb.com/), each labeled as either '**pos**itive', if the reviewer enjoyed the film, or '**neg**ative' otherwise.\n",
    "\n",
    "> Maas, Andrew L., et al. [Learning Word Vectors for Sentiment Analysis](http://ai.stanford.edu/~amaas/data/sentiment/). In _Proceedings of the 49th Annual Meeting of the Association for Computational Linguistics: Human Language Technologies_. Association for Computational Linguistics, 2011.\n",
    "\n",
    "We begin by using some Jupyter Notebook magic to download and extract the dataset."
   ]
  },
  {
   "cell_type": "code",
   "execution_count": 1,
   "metadata": {},
   "outputs": [
    {
     "name": "stdout",
     "output_type": "stream",
     "text": [
      "mkdir: cannot create directory ‘../data’: File exists\n",
      "--2020-09-03 05:28:01--  http://ai.stanford.edu/~amaas/data/sentiment/aclImdb_v1.tar.gz\n",
      "Resolving ai.stanford.edu (ai.stanford.edu)... 171.64.68.10\n",
      "Connecting to ai.stanford.edu (ai.stanford.edu)|171.64.68.10|:80... connected.\n",
      "HTTP request sent, awaiting response... 200 OK\n",
      "Length: 84125825 (80M) [application/x-gzip]\n",
      "Saving to: ‘../data/aclImdb_v1.tar.gz’\n",
      "\n",
      "../data/aclImdb_v1. 100%[===================>]  80.23M  11.1MB/s    in 10s     \n",
      "\n",
      "2020-09-03 05:28:12 (7.98 MB/s) - ‘../data/aclImdb_v1.tar.gz’ saved [84125825/84125825]\n",
      "\n"
     ]
    }
   ],
   "source": [
    "%mkdir ../data\n",
    "!wget -O ../data/aclImdb_v1.tar.gz http://ai.stanford.edu/~amaas/data/sentiment/aclImdb_v1.tar.gz\n",
    "!tar -zxf ../data/aclImdb_v1.tar.gz -C ../data"
   ]
  },
  {
   "cell_type": "markdown",
   "metadata": {},
   "source": [
    "## Step 2: Preparing and Processing the data\n",
    "\n",
    "The data we have downloaded is split into various files, each of which contains a single review. It will be much easier going forward if we combine these individual files into two large files, one for training and one for testing."
   ]
  },
  {
   "cell_type": "code",
   "execution_count": 2,
   "metadata": {},
   "outputs": [],
   "source": [
    "import os\n",
    "import glob\n",
    "\n",
    "def read_imdb_data(data_dir='../data/aclImdb'):\n",
    "    data = {}\n",
    "    labels = {}\n",
    "    \n",
    "    for data_type in ['train', 'test']:\n",
    "        data[data_type] = {}\n",
    "        labels[data_type] = {}\n",
    "        \n",
    "        for sentiment in ['pos', 'neg']:\n",
    "            data[data_type][sentiment] = []\n",
    "            labels[data_type][sentiment] = []\n",
    "            \n",
    "            path = os.path.join(data_dir, data_type, sentiment, '*.txt')\n",
    "            files = glob.glob(path)\n",
    "            \n",
    "            for f in files:\n",
    "                with open(f) as review:\n",
    "                    data[data_type][sentiment].append(review.read())\n",
    "                    # Here we represent a positive review by '1' and a negative review by '0'\n",
    "                    labels[data_type][sentiment].append(1 if sentiment == 'pos' else 0)\n",
    "                    \n",
    "            assert len(data[data_type][sentiment]) == len(labels[data_type][sentiment]), \\\n",
    "                    \"{}/{} data size does not match labels size\".format(data_type, sentiment)\n",
    "                \n",
    "    return data, labels"
   ]
  },
  {
   "cell_type": "code",
   "execution_count": 3,
   "metadata": {},
   "outputs": [
    {
     "name": "stdout",
     "output_type": "stream",
     "text": [
      "IMDB reviews: train = 12500 pos / 12500 neg, test = 12500 pos / 12500 neg\n"
     ]
    }
   ],
   "source": [
    "data, labels = read_imdb_data()\n",
    "print(\"IMDB reviews: train = {} pos / {} neg, test = {} pos / {} neg\".format(\n",
    "            len(data['train']['pos']), len(data['train']['neg']),\n",
    "            len(data['test']['pos']), len(data['test']['neg'])))"
   ]
  },
  {
   "cell_type": "code",
   "execution_count": 4,
   "metadata": {},
   "outputs": [],
   "source": [
    "from sklearn.utils import shuffle\n",
    "\n",
    "def prepare_imdb_data(data, labels):\n",
    "    \"\"\"Prepare training and test sets from IMDb movie reviews.\"\"\"\n",
    "    \n",
    "    #Combine positive and negative reviews and labels\n",
    "    data_train = data['train']['pos'] + data['train']['neg']\n",
    "    data_test = data['test']['pos'] + data['test']['neg']\n",
    "    labels_train = labels['train']['pos'] + labels['train']['neg']\n",
    "    labels_test = labels['test']['pos'] + labels['test']['neg']\n",
    "    \n",
    "    #Shuffle reviews and corresponding labels within training and test sets\n",
    "    data_train, labels_train = shuffle(data_train, labels_train)\n",
    "    data_test, labels_test = shuffle(data_test, labels_test)\n",
    "    \n",
    "    # Return a unified training data, test data, training labels, test labets\n",
    "    return data_train, data_test, labels_train, labels_test"
   ]
  },
  {
   "cell_type": "code",
   "execution_count": 5,
   "metadata": {},
   "outputs": [
    {
     "name": "stdout",
     "output_type": "stream",
     "text": [
      "IMDb reviews (combined): train = 25000, test = 25000\n"
     ]
    }
   ],
   "source": [
    "train_X, test_X, train_y, test_y = prepare_imdb_data(data, labels)\n",
    "print(\"IMDb reviews (combined): train = {}, test = {}\".format(len(train_X), len(test_X)))"
   ]
  },
  {
   "cell_type": "code",
   "execution_count": 6,
   "metadata": {},
   "outputs": [
    {
     "data": {
      "text/plain": [
       "'A remarkable documentary about the landmark achievements of the Women Lawyers Association (WLA) of Kumba, in southwest Cameroon, in legally safeguarding the rights of women and children from acts of domestic violence. In this Muslim culture, where men have always been sovereign over women, according to Sharia law, one can well imagine the difficulty of imposing secular legal rights for women and children. After 17 years of failed efforts, leaders of the WLA began recently to score a few wins, and the purpose of this film is to share these victorious stories.<br /><br />The leaders of this legal reform movement are Vera Ngassa, a state prosecutor, and Beatrice Ntuba, a senior judge (Court President). Both play themselves in this film, which may contain footage shot spontaneously, though I imagine much of it, if not all, consists of subsequent recreations of real events for the camera. Four cases are reviewed, and all of the plaintiffs also play themselves in the film.<br /><br />Two cases involve repeated wife beating, with forcible sex in one case; another involves forced sex upon a 10 year old girl; and yet another concerns the repeated beatings of a child, age 8, by an aunt. One of the beaten wives also is seeking a divorce. We follow the cases from the investigation of complaints to the outcomes of the trials. The outcomes in each case are favorable to the women and children. The perpetrators receive stiff prison terms and/or fines; the divorce is granted.<br /><br />The aggressive prosecution of the child beating aunt demonstrates that these female criminal justice officials are indeed gender-neutral when it comes to enforcing the law. Also noteworthy is the respect with which all parties, including those found guilty, are treated. This is a highly important and well made film. (Of interest is the fact that one of the directors, Ms. Longinotto, also co-directed the 1998 film, Divorce, Iranian Style, which dealt with related themes in Tehran.) (In broken English with English subtitles). My Grade: B+ 8/10'"
      ]
     },
     "execution_count": 6,
     "metadata": {},
     "output_type": "execute_result"
    }
   ],
   "source": [
    "train_X[100]"
   ]
  },
  {
   "cell_type": "markdown",
   "metadata": {},
   "source": [
    "## Processing the data\n",
    "\n",
    "Now that we have our training and testing datasets merged and ready to use, we need to start processing the raw data into something that will be useable by our machine learning algorithm. To begin with, we remove any html formatting and any non-alpha numeric characters that may appear in the reviews. We will do this in a very simplistic way using Python's regular expression module. We will discuss the reason for this rather simplistic pre-processing later on."
   ]
  },
  {
   "cell_type": "code",
   "execution_count": 7,
   "metadata": {},
   "outputs": [],
   "source": [
    "import re\n",
    "\n",
    "REPLACE_NO_SPACE = re.compile(\"(\\.)|(\\;)|(\\:)|(\\!)|(\\')|(\\?)|(\\,)|(\\\")|(\\()|(\\))|(\\[)|(\\])\")\n",
    "REPLACE_WITH_SPACE = re.compile(\"(<br\\s*/><br\\s*/>)|(\\-)|(\\/)\")\n",
    "\n",
    "def review_to_words(review):\n",
    "    words = REPLACE_NO_SPACE.sub(\"\", review.lower())\n",
    "    words = REPLACE_WITH_SPACE.sub(\" \", words)\n",
    "    return words"
   ]
  },
  {
   "cell_type": "code",
   "execution_count": 8,
   "metadata": {},
   "outputs": [
    {
     "data": {
      "text/plain": [
       "'a remarkable documentary about the landmark achievements of the women lawyers association wla of kumba in southwest cameroon in legally safeguarding the rights of women and children from acts of domestic violence in this muslim culture where men have always been sovereign over women according to sharia law one can well imagine the difficulty of imposing secular legal rights for women and children after 17 years of failed efforts leaders of the wla began recently to score a few wins and the purpose of this film is to share these victorious stories the leaders of this legal reform movement are vera ngassa a state prosecutor and beatrice ntuba a senior judge court president both play themselves in this film which may contain footage shot spontaneously though i imagine much of it if not all consists of subsequent recreations of real events for the camera four cases are reviewed and all of the plaintiffs also play themselves in the film two cases involve repeated wife beating with forcible sex in one case another involves forced sex upon a 10 year old girl and yet another concerns the repeated beatings of a child age 8 by an aunt one of the beaten wives also is seeking a divorce we follow the cases from the investigation of complaints to the outcomes of the trials the outcomes in each case are favorable to the women and children the perpetrators receive stiff prison terms and or fines the divorce is granted the aggressive prosecution of the child beating aunt demonstrates that these female criminal justice officials are indeed gender neutral when it comes to enforcing the law also noteworthy is the respect with which all parties including those found guilty are treated this is a highly important and well made film of interest is the fact that one of the directors ms longinotto also co directed the 1998 film divorce iranian style which dealt with related themes in tehran in broken english with english subtitles my grade b+ 8 10'"
      ]
     },
     "execution_count": 8,
     "metadata": {},
     "output_type": "execute_result"
    }
   ],
   "source": [
    "review_to_words(train_X[100])"
   ]
  },
  {
   "cell_type": "code",
   "execution_count": 9,
   "metadata": {},
   "outputs": [],
   "source": [
    "import pickle\n",
    "\n",
    "cache_dir = os.path.join(\"../cache\", \"sentiment_web_app\")  # where to store cache files\n",
    "os.makedirs(cache_dir, exist_ok=True)  # ensure cache directory exists\n",
    "\n",
    "def preprocess_data(data_train, data_test, labels_train, labels_test,\n",
    "                    cache_dir=cache_dir, cache_file=\"preprocessed_data.pkl\"):\n",
    "    \"\"\"Convert each review to words; read from cache if available.\"\"\"\n",
    "\n",
    "    # If cache_file is not None, try to read from it first\n",
    "    cache_data = None\n",
    "    if cache_file is not None:\n",
    "        try:\n",
    "            with open(os.path.join(cache_dir, cache_file), \"rb\") as f:\n",
    "                cache_data = pickle.load(f)\n",
    "            print(\"Read preprocessed data from cache file:\", cache_file)\n",
    "        except:\n",
    "            pass  # unable to read from cache, but that's okay\n",
    "    \n",
    "    # If cache is missing, then do the heavy lifting\n",
    "    if cache_data is None:\n",
    "        # Preprocess training and test data to obtain words for each review\n",
    "        #words_train = list(map(review_to_words, data_train))\n",
    "        #words_test = list(map(review_to_words, data_test))\n",
    "        words_train = [review_to_words(review) for review in data_train]\n",
    "        words_test = [review_to_words(review) for review in data_test]\n",
    "        \n",
    "        # Write to cache file for future runs\n",
    "        if cache_file is not None:\n",
    "            cache_data = dict(words_train=words_train, words_test=words_test,\n",
    "                              labels_train=labels_train, labels_test=labels_test)\n",
    "            with open(os.path.join(cache_dir, cache_file), \"wb\") as f:\n",
    "                pickle.dump(cache_data, f)\n",
    "            print(\"Wrote preprocessed data to cache file:\", cache_file)\n",
    "    else:\n",
    "        # Unpack data loaded from cache file\n",
    "        words_train, words_test, labels_train, labels_test = (cache_data['words_train'],\n",
    "                cache_data['words_test'], cache_data['labels_train'], cache_data['labels_test'])\n",
    "    \n",
    "    return words_train, words_test, labels_train, labels_test"
   ]
  },
  {
   "cell_type": "code",
   "execution_count": 10,
   "metadata": {},
   "outputs": [
    {
     "name": "stdout",
     "output_type": "stream",
     "text": [
      "Wrote preprocessed data to cache file: preprocessed_data.pkl\n"
     ]
    }
   ],
   "source": [
    "# Preprocess data\n",
    "train_X, test_X, train_y, test_y = preprocess_data(train_X, test_X, train_y, test_y)"
   ]
  },
  {
   "cell_type": "markdown",
   "metadata": {},
   "source": [
    "### Extract Bag-of-Words features\n",
    "\n",
    "For the model we will be implementing, rather than using the reviews directly, we are going to transform each review into a Bag-of-Words feature representation. Keep in mind that 'in the wild' we will only have access to the training set so our transformer can only use the training set to construct a representation."
   ]
  },
  {
   "cell_type": "code",
   "execution_count": 11,
   "metadata": {},
   "outputs": [],
   "source": [
    "import numpy as np\n",
    "from sklearn.feature_extraction.text import CountVectorizer\n",
    "# from sklearn.externals import joblib\n",
    "import joblib\n",
    "# joblib is an enhanced version of pickle that is more efficient for storing NumPy arrays\n",
    "\n",
    "def extract_BoW_features(words_train, words_test, vocabulary_size=5000,\n",
    "                         cache_dir=cache_dir, cache_file=\"bow_features.pkl\"):\n",
    "    \"\"\"Extract Bag-of-Words for a given set of documents, already preprocessed into words.\"\"\"\n",
    "    \n",
    "    # If cache_file is not None, try to read from it first\n",
    "    cache_data = None\n",
    "    if cache_file is not None:\n",
    "        try:\n",
    "            with open(os.path.join(cache_dir, cache_file), \"rb\") as f:\n",
    "                cache_data = joblib.load(f)\n",
    "            print(\"Read features from cache file:\", cache_file)\n",
    "        except:\n",
    "            pass  # unable to read from cache, but that's okay\n",
    "    \n",
    "    # If cache is missing, then do the heavy lifting\n",
    "    if cache_data is None:\n",
    "        # Fit a vectorizer to training documents and use it to transform them\n",
    "        # NOTE: Training documents have already been preprocessed and tokenized into words;\n",
    "        #       pass in dummy functions to skip those steps, e.g. preprocessor=lambda x: x\n",
    "        vectorizer = CountVectorizer(max_features=vocabulary_size)\n",
    "        features_train = vectorizer.fit_transform(words_train).toarray()\n",
    "\n",
    "        # Apply the same vectorizer to transform the test documents (ignore unknown words)\n",
    "        features_test = vectorizer.transform(words_test).toarray()\n",
    "        \n",
    "        # NOTE: Remember to convert the features using .toarray() for a compact representation\n",
    "        \n",
    "        # Write to cache file for future runs (store vocabulary as well)\n",
    "        if cache_file is not None:\n",
    "            vocabulary = vectorizer.vocabulary_\n",
    "            cache_data = dict(features_train=features_train, features_test=features_test,\n",
    "                             vocabulary=vocabulary)\n",
    "            with open(os.path.join(cache_dir, cache_file), \"wb\") as f:\n",
    "                joblib.dump(cache_data, f)\n",
    "            print(\"Wrote features to cache file:\", cache_file)\n",
    "    else:\n",
    "        # Unpack data loaded from cache file\n",
    "        features_train, features_test, vocabulary = (cache_data['features_train'],\n",
    "                cache_data['features_test'], cache_data['vocabulary'])\n",
    "    \n",
    "    # Return both the extracted features as well as the vocabulary\n",
    "    return features_train, features_test, vocabulary"
   ]
  },
  {
   "cell_type": "code",
   "execution_count": 12,
   "metadata": {},
   "outputs": [
    {
     "name": "stdout",
     "output_type": "stream",
     "text": [
      "Wrote features to cache file: bow_features.pkl\n"
     ]
    }
   ],
   "source": [
    "# Extract Bag of Words features for both training and test datasets\n",
    "train_X, test_X, vocabulary = extract_BoW_features(train_X, test_X)"
   ]
  },
  {
   "cell_type": "code",
   "execution_count": 13,
   "metadata": {},
   "outputs": [
    {
     "data": {
      "text/plain": [
       "5000"
      ]
     },
     "execution_count": 13,
     "metadata": {},
     "output_type": "execute_result"
    }
   ],
   "source": [
    "len(train_X[100])"
   ]
  },
  {
   "cell_type": "markdown",
   "metadata": {},
   "source": [
    "## Step 3: Upload data to S3\n",
    "\n",
    "Now that we have created the feature representation of our training (and testing) data, it is time to start setting up and using the XGBoost classifier provided by SageMaker.\n",
    "\n",
    "### Writing the datasets\n",
    "\n",
    "The XGBoost classifier that we will be using requires the dataset to be written to a file and stored using Amazon S3. To do this, we will start by splitting the training dataset into two parts, the data we will train the model with and a validation set. Then, we will write those datasets to a file locally and then upload the files to S3. In addition, we will write the test set to a file and upload that file to S3. This is so that we can use SageMakers Batch Transform functionality to test our model once we've fit it."
   ]
  },
  {
   "cell_type": "code",
   "execution_count": 14,
   "metadata": {},
   "outputs": [],
   "source": [
    "import pandas as pd\n",
    "\n",
    "# Earlier we shuffled the training dataset so to make things simple we can just assign\n",
    "# the first 10 000 reviews to the validation set and use the remaining reviews for training.\n",
    "val_X = pd.DataFrame(train_X[:10000])\n",
    "train_X = pd.DataFrame(train_X[10000:])\n",
    "\n",
    "val_y = pd.DataFrame(train_y[:10000])\n",
    "train_y = pd.DataFrame(train_y[10000:])"
   ]
  },
  {
   "cell_type": "markdown",
   "metadata": {},
   "source": [
    "The documentation for the XGBoost algorithm in SageMaker requires that the training and validation datasets should contain no headers or index and that the label should occur first for each sample.\n",
    "\n",
    "For more information about this and other algorithms, the SageMaker developer documentation can be found on __[Amazon's website.](https://docs.aws.amazon.com/sagemaker/latest/dg/)__"
   ]
  },
  {
   "cell_type": "code",
   "execution_count": 15,
   "metadata": {},
   "outputs": [],
   "source": [
    "# First we make sure that the local directory in which we'd like to store the training and validation csv files exists.\n",
    "data_dir = '../data/sentiment_web_app'\n",
    "if not os.path.exists(data_dir):\n",
    "    os.makedirs(data_dir)"
   ]
  },
  {
   "cell_type": "code",
   "execution_count": 16,
   "metadata": {},
   "outputs": [],
   "source": [
    "pd.DataFrame(test_X).to_csv(os.path.join(data_dir, 'test.csv'), header=False, index=False)\n",
    "\n",
    "pd.concat([val_y, val_X], axis=1).to_csv(os.path.join(data_dir, 'validation.csv'), header=False, index=False)\n",
    "pd.concat([train_y, train_X], axis=1).to_csv(os.path.join(data_dir, 'train.csv'), header=False, index=False)"
   ]
  },
  {
   "cell_type": "code",
   "execution_count": 17,
   "metadata": {},
   "outputs": [],
   "source": [
    "# To save a bit of memory we can set text_X, train_X, val_X, train_y and val_y to None.\n",
    "\n",
    "test_X = train_X = val_X = train_y = val_y = None"
   ]
  },
  {
   "cell_type": "markdown",
   "metadata": {},
   "source": [
    "### Uploading Training / Validation files to S3\n",
    "\n",
    "Amazon's S3 service allows us to store files that can be accessed by both the built-in training models such as the XGBoost model we will be using as well as custom models such as the one we will see a little later.\n",
    "\n",
    "For this and most other tasks we will be doing using SageMaker, there are two methods we could use. The first is to use the low level functionality of SageMaker which requires knowing each of the objects involved in the SageMaker environment. The second is to use the high level functionality in which certain choices have been made on the user's behalf. The low level approach benefits from allowing the user a great deal of flexibility while the high level approach makes development much quicker. For our purposes we will opt to use the high level approach although using the low-level approach is certainly an option.\n",
    "\n",
    "Recall the method `upload_data()` which is a member of the object representing our current SageMaker session. What this method does is upload the data to the default bucket (which is created if it does not exist) into the path described by the key_prefix variable. To see this for yourself, once you have uploaded the data files, go to the S3 console and look to see where the files have been uploaded.\n",
    "\n",
    "For additional resources, see the __[SageMaker API documentation](http://sagemaker.readthedocs.io/en/latest/)__ and in addition the __[SageMaker Developer Guide.](https://docs.aws.amazon.com/sagemaker/latest/dg/)__"
   ]
  },
  {
   "cell_type": "code",
   "execution_count": 18,
   "metadata": {},
   "outputs": [],
   "source": [
    "import sagemaker\n",
    "\n",
    "session = sagemaker.Session() # Store the current SageMaker session\n",
    "\n",
    "# S3 prefix (which folder will we use)\n",
    "prefix = 'sentiment-web-app'\n",
    "\n",
    "test_location = session.upload_data(os.path.join(data_dir, 'test.csv'), key_prefix=prefix)\n",
    "val_location = session.upload_data(os.path.join(data_dir, 'validation.csv'), key_prefix=prefix)\n",
    "train_location = session.upload_data(os.path.join(data_dir, 'train.csv'), key_prefix=prefix)"
   ]
  },
  {
   "cell_type": "markdown",
   "metadata": {},
   "source": [
    "## Step 4: Creating the XGBoost model\n",
    "\n",
    "Now that the data has been uploaded it is time to create the XGBoost model. To begin with, we need to do some setup. At this point it is worth discussing what a model is in SageMaker. It is easiest to think of a model of comprising three different objects in the SageMaker ecosystem, which interact with one another.\n",
    "\n",
    "- Model Artifacts\n",
    "- Training Code (Container)\n",
    "- Inference Code (Container)\n",
    "\n",
    "The Model Artifacts are what you might think of as the actual model itself. For example, if you were building a neural network, the model artifacts would be the weights of the various layers. In our case, for an XGBoost model, the artifacts are the actual trees that are created during training.\n",
    "\n",
    "The other two objects, the training code and the inference code are then used to manipulate the training artifacts. More precisely, the training code uses the training data that is provided and creates the model artifacts, while the inference code uses the model artifacts to make predictions on new data.\n",
    "\n",
    "The way that SageMaker runs the training and inference code is by making use of Docker containers. For now, think of a container as being a way of packaging code up so that dependencies aren't an issue."
   ]
  },
  {
   "cell_type": "code",
   "execution_count": 19,
   "metadata": {},
   "outputs": [],
   "source": [
    "from sagemaker import get_execution_role\n",
    "\n",
    "# Our current execution role is required when creating the model as the training\n",
    "# and inference code will need to access the model artifacts.\n",
    "role = get_execution_role()"
   ]
  },
  {
   "cell_type": "code",
   "execution_count": 20,
   "metadata": {},
   "outputs": [
    {
     "name": "stderr",
     "output_type": "stream",
     "text": [
      "'get_image_uri' method will be deprecated in favor of 'ImageURIProvider' class in SageMaker Python SDK v2.\n",
      "There is a more up to date SageMaker XGBoost image. To use the newer image, please set 'repo_version'='1.0-1'. For example:\n",
      "\tget_image_uri(region, 'xgboost', '1.0-1').\n"
     ]
    }
   ],
   "source": [
    "# We need to retrieve the location of the container which is provided by Amazon for using XGBoost.\n",
    "# As a matter of convenience, the training and inference code both use the same container.\n",
    "from sagemaker.amazon.amazon_estimator import get_image_uri\n",
    "\n",
    "container = get_image_uri(session.boto_region_name, 'xgboost')"
   ]
  },
  {
   "cell_type": "code",
   "execution_count": 21,
   "metadata": {},
   "outputs": [
    {
     "name": "stderr",
     "output_type": "stream",
     "text": [
      "Parameter image_name will be renamed to image_uri in SageMaker Python SDK v2.\n"
     ]
    }
   ],
   "source": [
    "# First we create a SageMaker estimator object for our model.\n",
    "xgb = sagemaker.estimator.Estimator(container, # The location of the container we wish to use\n",
    "                                    role,                                    # What is our current IAM Role\n",
    "                                    train_instance_count=1,                  # How many compute instances\n",
    "                                    train_instance_type='ml.m4.xlarge',      # What kind of compute instances\n",
    "                                    output_path='s3://{}/{}/output'.format(session.default_bucket(), prefix),\n",
    "                                    sagemaker_session=session)\n",
    "\n",
    "# And then set the algorithm specific parameters.\n",
    "xgb.set_hyperparameters(max_depth=5,\n",
    "                        eta=0.2,\n",
    "                        gamma=4,\n",
    "                        min_child_weight=6,\n",
    "                        subsample=0.8,\n",
    "                        silent=0,\n",
    "                        objective='binary:logistic',\n",
    "                        early_stopping_rounds=10,\n",
    "                        num_round=500)"
   ]
  },
  {
   "cell_type": "markdown",
   "metadata": {},
   "source": [
    "### Fit the XGBoost model\n",
    "\n",
    "Now that our model has been set up we simply need to attach the training and validation datasets and then ask SageMaker to set up the computation."
   ]
  },
  {
   "cell_type": "code",
   "execution_count": 22,
   "metadata": {},
   "outputs": [
    {
     "name": "stderr",
     "output_type": "stream",
     "text": [
      "'s3_input' class will be renamed to 'TrainingInput' in SageMaker Python SDK v2.\n",
      "'s3_input' class will be renamed to 'TrainingInput' in SageMaker Python SDK v2.\n"
     ]
    }
   ],
   "source": [
    "s3_input_train = sagemaker.s3_input(s3_data=train_location, content_type='csv')\n",
    "s3_input_validation = sagemaker.s3_input(s3_data=val_location, content_type='csv')"
   ]
  },
  {
   "cell_type": "code",
   "execution_count": 23,
   "metadata": {},
   "outputs": [
    {
     "name": "stdout",
     "output_type": "stream",
     "text": [
      "2020-09-03 05:30:54 Starting - Starting the training job...\n",
      "2020-09-03 05:30:57 Starting - Launching requested ML instances......\n",
      "2020-09-03 05:32:19 Starting - Preparing the instances for training......\n",
      "2020-09-03 05:33:10 Downloading - Downloading input data...\n",
      "2020-09-03 05:33:43 Training - Downloading the training image..\u001b[34mArguments: train\u001b[0m\n",
      "\u001b[34m[2020-09-03:05:34:03:INFO] Running standalone xgboost training.\u001b[0m\n",
      "\u001b[34m[2020-09-03:05:34:03:INFO] File size need to be processed in the node: 238.5mb. Available memory size in the node: 8489.66mb\u001b[0m\n",
      "\u001b[34m[2020-09-03:05:34:03:INFO] Determined delimiter of CSV input is ','\u001b[0m\n",
      "\u001b[34m[05:34:03] S3DistributionType set as FullyReplicated\u001b[0m\n",
      "\u001b[34m[05:34:05] 15000x5000 matrix with 75000000 entries loaded from /opt/ml/input/data/train?format=csv&label_column=0&delimiter=,\u001b[0m\n",
      "\u001b[34m[2020-09-03:05:34:05:INFO] Determined delimiter of CSV input is ','\u001b[0m\n",
      "\u001b[34m[05:34:05] S3DistributionType set as FullyReplicated\u001b[0m\n",
      "\u001b[34m[05:34:06] 10000x5000 matrix with 50000000 entries loaded from /opt/ml/input/data/validation?format=csv&label_column=0&delimiter=,\u001b[0m\n",
      "\n",
      "2020-09-03 05:34:03 Training - Training image download completed. Training in progress.\u001b[34m[05:34:10] src/tree/updater_prune.cc:74: tree pruning end, 1 roots, 36 extra nodes, 8 pruned nodes, max_depth=5\u001b[0m\n",
      "\u001b[34m[0]#011train-error:0.3052#011validation-error:0.3071\u001b[0m\n",
      "\u001b[34mMultiple eval metrics have been passed: 'validation-error' will be used for early stopping.\n",
      "\u001b[0m\n",
      "\u001b[34mWill train until validation-error hasn't improved in 10 rounds.\u001b[0m\n",
      "\u001b[34m[05:34:11] src/tree/updater_prune.cc:74: tree pruning end, 1 roots, 44 extra nodes, 0 pruned nodes, max_depth=5\u001b[0m\n",
      "\u001b[34m[1]#011train-error:0.293733#011validation-error:0.2976\u001b[0m\n",
      "\u001b[34m[05:34:12] src/tree/updater_prune.cc:74: tree pruning end, 1 roots, 40 extra nodes, 10 pruned nodes, max_depth=5\u001b[0m\n",
      "\u001b[34m[2]#011train-error:0.286#011validation-error:0.29\u001b[0m\n",
      "\u001b[34m[05:34:14] src/tree/updater_prune.cc:74: tree pruning end, 1 roots, 34 extra nodes, 16 pruned nodes, max_depth=5\u001b[0m\n",
      "\u001b[34m[3]#011train-error:0.271867#011validation-error:0.2762\u001b[0m\n",
      "\u001b[34m[05:34:15] src/tree/updater_prune.cc:74: tree pruning end, 1 roots, 44 extra nodes, 4 pruned nodes, max_depth=5\u001b[0m\n",
      "\u001b[34m[4]#011train-error:0.2632#011validation-error:0.2728\u001b[0m\n",
      "\u001b[34m[05:34:17] src/tree/updater_prune.cc:74: tree pruning end, 1 roots, 52 extra nodes, 2 pruned nodes, max_depth=5\u001b[0m\n",
      "\u001b[34m[5]#011train-error:0.257267#011validation-error:0.2686\u001b[0m\n",
      "\u001b[34m[05:34:18] src/tree/updater_prune.cc:74: tree pruning end, 1 roots, 28 extra nodes, 4 pruned nodes, max_depth=5\u001b[0m\n",
      "\u001b[34m[6]#011train-error:0.251533#011validation-error:0.2632\u001b[0m\n",
      "\u001b[34m[05:34:19] src/tree/updater_prune.cc:74: tree pruning end, 1 roots, 32 extra nodes, 2 pruned nodes, max_depth=5\u001b[0m\n",
      "\u001b[34m[7]#011train-error:0.242133#011validation-error:0.2568\u001b[0m\n",
      "\u001b[34m[05:34:21] src/tree/updater_prune.cc:74: tree pruning end, 1 roots, 40 extra nodes, 6 pruned nodes, max_depth=5\u001b[0m\n",
      "\u001b[34m[8]#011train-error:0.2364#011validation-error:0.2523\u001b[0m\n",
      "\u001b[34m[05:34:22] src/tree/updater_prune.cc:74: tree pruning end, 1 roots, 32 extra nodes, 2 pruned nodes, max_depth=5\u001b[0m\n",
      "\u001b[34m[9]#011train-error:0.234533#011validation-error:0.2512\u001b[0m\n",
      "\u001b[34m[05:34:23] src/tree/updater_prune.cc:74: tree pruning end, 1 roots, 34 extra nodes, 10 pruned nodes, max_depth=5\u001b[0m\n",
      "\u001b[34m[10]#011train-error:0.228733#011validation-error:0.2449\u001b[0m\n",
      "\u001b[34m[05:34:24] src/tree/updater_prune.cc:74: tree pruning end, 1 roots, 20 extra nodes, 12 pruned nodes, max_depth=5\u001b[0m\n",
      "\u001b[34m[11]#011train-error:0.223467#011validation-error:0.2369\u001b[0m\n",
      "\u001b[34m[05:34:26] src/tree/updater_prune.cc:74: tree pruning end, 1 roots, 28 extra nodes, 8 pruned nodes, max_depth=5\u001b[0m\n",
      "\u001b[34m[12]#011train-error:0.219867#011validation-error:0.2326\u001b[0m\n",
      "\u001b[34m[05:34:27] src/tree/updater_prune.cc:74: tree pruning end, 1 roots, 36 extra nodes, 10 pruned nodes, max_depth=5\u001b[0m\n",
      "\u001b[34m[13]#011train-error:0.2122#011validation-error:0.2284\u001b[0m\n",
      "\u001b[34m[05:34:28] src/tree/updater_prune.cc:74: tree pruning end, 1 roots, 32 extra nodes, 6 pruned nodes, max_depth=5\u001b[0m\n",
      "\u001b[34m[14]#011train-error:0.209067#011validation-error:0.2252\u001b[0m\n",
      "\u001b[34m[05:34:29] src/tree/updater_prune.cc:74: tree pruning end, 1 roots, 36 extra nodes, 4 pruned nodes, max_depth=5\u001b[0m\n",
      "\u001b[34m[15]#011train-error:0.205067#011validation-error:0.223\u001b[0m\n",
      "\u001b[34m[05:34:31] src/tree/updater_prune.cc:74: tree pruning end, 1 roots, 18 extra nodes, 10 pruned nodes, max_depth=5\u001b[0m\n",
      "\u001b[34m[16]#011train-error:0.202333#011validation-error:0.2219\u001b[0m\n",
      "\u001b[34m[05:34:32] src/tree/updater_prune.cc:74: tree pruning end, 1 roots, 46 extra nodes, 4 pruned nodes, max_depth=5\u001b[0m\n",
      "\u001b[34m[17]#011train-error:0.198733#011validation-error:0.2184\u001b[0m\n",
      "\u001b[34m[05:34:33] src/tree/updater_prune.cc:74: tree pruning end, 1 roots, 18 extra nodes, 12 pruned nodes, max_depth=5\u001b[0m\n",
      "\u001b[34m[18]#011train-error:0.196533#011validation-error:0.2167\u001b[0m\n",
      "\u001b[34m[05:34:34] src/tree/updater_prune.cc:74: tree pruning end, 1 roots, 30 extra nodes, 6 pruned nodes, max_depth=5\u001b[0m\n",
      "\u001b[34m[19]#011train-error:0.193067#011validation-error:0.2127\u001b[0m\n",
      "\u001b[34m[05:34:36] src/tree/updater_prune.cc:74: tree pruning end, 1 roots, 24 extra nodes, 6 pruned nodes, max_depth=5\u001b[0m\n",
      "\u001b[34m[20]#011train-error:0.1908#011validation-error:0.2106\u001b[0m\n",
      "\u001b[34m[05:34:37] src/tree/updater_prune.cc:74: tree pruning end, 1 roots, 34 extra nodes, 6 pruned nodes, max_depth=5\u001b[0m\n",
      "\u001b[34m[21]#011train-error:0.188733#011validation-error:0.2086\u001b[0m\n",
      "\u001b[34m[05:34:38] src/tree/updater_prune.cc:74: tree pruning end, 1 roots, 20 extra nodes, 16 pruned nodes, max_depth=5\u001b[0m\n",
      "\u001b[34m[22]#011train-error:0.184267#011validation-error:0.2053\u001b[0m\n",
      "\u001b[34m[05:34:40] src/tree/updater_prune.cc:74: tree pruning end, 1 roots, 48 extra nodes, 2 pruned nodes, max_depth=5\u001b[0m\n",
      "\u001b[34m[23]#011train-error:0.1806#011validation-error:0.2047\u001b[0m\n",
      "\u001b[34m[05:34:41] src/tree/updater_prune.cc:74: tree pruning end, 1 roots, 20 extra nodes, 10 pruned nodes, max_depth=5\u001b[0m\n",
      "\u001b[34m[24]#011train-error:0.179133#011validation-error:0.2037\u001b[0m\n",
      "\u001b[34m[05:34:42] src/tree/updater_prune.cc:74: tree pruning end, 1 roots, 30 extra nodes, 8 pruned nodes, max_depth=5\u001b[0m\n",
      "\u001b[34m[25]#011train-error:0.178133#011validation-error:0.2032\u001b[0m\n",
      "\u001b[34m[05:34:43] src/tree/updater_prune.cc:74: tree pruning end, 1 roots, 16 extra nodes, 12 pruned nodes, max_depth=5\u001b[0m\n",
      "\u001b[34m[26]#011train-error:0.176533#011validation-error:0.2012\u001b[0m\n",
      "\u001b[34m[05:34:45] src/tree/updater_prune.cc:74: tree pruning end, 1 roots, 24 extra nodes, 4 pruned nodes, max_depth=5\u001b[0m\n",
      "\u001b[34m[27]#011train-error:0.173333#011validation-error:0.1991\u001b[0m\n",
      "\u001b[34m[05:34:46] src/tree/updater_prune.cc:74: tree pruning end, 1 roots, 26 extra nodes, 10 pruned nodes, max_depth=5\u001b[0m\n",
      "\u001b[34m[28]#011train-error:0.1724#011validation-error:0.198\u001b[0m\n",
      "\u001b[34m[05:34:47] src/tree/updater_prune.cc:74: tree pruning end, 1 roots, 20 extra nodes, 12 pruned nodes, max_depth=5\u001b[0m\n",
      "\u001b[34m[29]#011train-error:0.170933#011validation-error:0.1973\u001b[0m\n",
      "\u001b[34m[05:34:48] src/tree/updater_prune.cc:74: tree pruning end, 1 roots, 36 extra nodes, 10 pruned nodes, max_depth=5\u001b[0m\n",
      "\u001b[34m[30]#011train-error:0.169267#011validation-error:0.1966\u001b[0m\n",
      "\u001b[34m[05:34:50] src/tree/updater_prune.cc:74: tree pruning end, 1 roots, 22 extra nodes, 4 pruned nodes, max_depth=5\u001b[0m\n",
      "\u001b[34m[31]#011train-error:0.1666#011validation-error:0.195\u001b[0m\n",
      "\u001b[34m[05:34:51] src/tree/updater_prune.cc:74: tree pruning end, 1 roots, 16 extra nodes, 8 pruned nodes, max_depth=5\u001b[0m\n",
      "\u001b[34m[32]#011train-error:0.164667#011validation-error:0.1931\u001b[0m\n",
      "\u001b[34m[05:34:52] src/tree/updater_prune.cc:74: tree pruning end, 1 roots, 36 extra nodes, 4 pruned nodes, max_depth=5\u001b[0m\n",
      "\u001b[34m[33]#011train-error:0.1638#011validation-error:0.1904\u001b[0m\n",
      "\u001b[34m[05:34:53] src/tree/updater_prune.cc:74: tree pruning end, 1 roots, 24 extra nodes, 2 pruned nodes, max_depth=5\u001b[0m\n",
      "\u001b[34m[34]#011train-error:0.161733#011validation-error:0.1895\u001b[0m\n",
      "\u001b[34m[05:34:55] src/tree/updater_prune.cc:74: tree pruning end, 1 roots, 20 extra nodes, 6 pruned nodes, max_depth=5\u001b[0m\n",
      "\u001b[34m[35]#011train-error:0.16#011validation-error:0.1883\u001b[0m\n",
      "\u001b[34m[05:34:56] src/tree/updater_prune.cc:74: tree pruning end, 1 roots, 18 extra nodes, 6 pruned nodes, max_depth=5\u001b[0m\n",
      "\u001b[34m[36]#011train-error:0.159267#011validation-error:0.1865\u001b[0m\n",
      "\u001b[34m[05:34:57] src/tree/updater_prune.cc:74: tree pruning end, 1 roots, 24 extra nodes, 10 pruned nodes, max_depth=5\u001b[0m\n",
      "\u001b[34m[37]#011train-error:0.156533#011validation-error:0.1855\u001b[0m\n",
      "\u001b[34m[05:34:59] src/tree/updater_prune.cc:74: tree pruning end, 1 roots, 22 extra nodes, 10 pruned nodes, max_depth=5\u001b[0m\n",
      "\u001b[34m[38]#011train-error:0.1562#011validation-error:0.185\u001b[0m\n",
      "\u001b[34m[05:35:00] src/tree/updater_prune.cc:74: tree pruning end, 1 roots, 20 extra nodes, 8 pruned nodes, max_depth=5\u001b[0m\n",
      "\u001b[34m[39]#011train-error:0.154333#011validation-error:0.1838\u001b[0m\n"
     ]
    },
    {
     "name": "stdout",
     "output_type": "stream",
     "text": [
      "\u001b[34m[05:35:01] src/tree/updater_prune.cc:74: tree pruning end, 1 roots, 28 extra nodes, 12 pruned nodes, max_depth=5\u001b[0m\n",
      "\u001b[34m[40]#011train-error:0.1526#011validation-error:0.1831\u001b[0m\n",
      "\u001b[34m[05:35:02] src/tree/updater_prune.cc:74: tree pruning end, 1 roots, 22 extra nodes, 12 pruned nodes, max_depth=5\u001b[0m\n",
      "\u001b[34m[41]#011train-error:0.150533#011validation-error:0.1817\u001b[0m\n",
      "\u001b[34m[05:35:04] src/tree/updater_prune.cc:74: tree pruning end, 1 roots, 30 extra nodes, 6 pruned nodes, max_depth=5\u001b[0m\n",
      "\u001b[34m[42]#011train-error:0.15#011validation-error:0.182\u001b[0m\n",
      "\u001b[34m[05:35:05] src/tree/updater_prune.cc:74: tree pruning end, 1 roots, 34 extra nodes, 12 pruned nodes, max_depth=5\u001b[0m\n",
      "\u001b[34m[43]#011train-error:0.1492#011validation-error:0.1801\u001b[0m\n",
      "\u001b[34m[05:35:06] src/tree/updater_prune.cc:74: tree pruning end, 1 roots, 22 extra nodes, 10 pruned nodes, max_depth=5\u001b[0m\n",
      "\u001b[34m[44]#011train-error:0.1486#011validation-error:0.1808\u001b[0m\n",
      "\u001b[34m[05:35:07] src/tree/updater_prune.cc:74: tree pruning end, 1 roots, 28 extra nodes, 8 pruned nodes, max_depth=5\u001b[0m\n",
      "\u001b[34m[45]#011train-error:0.147533#011validation-error:0.1795\u001b[0m\n",
      "\u001b[34m[05:35:09] src/tree/updater_prune.cc:74: tree pruning end, 1 roots, 20 extra nodes, 4 pruned nodes, max_depth=5\u001b[0m\n",
      "\u001b[34m[46]#011train-error:0.146867#011validation-error:0.1789\u001b[0m\n",
      "\u001b[34m[05:35:10] src/tree/updater_prune.cc:74: tree pruning end, 1 roots, 22 extra nodes, 6 pruned nodes, max_depth=5\u001b[0m\n",
      "\u001b[34m[47]#011train-error:0.1456#011validation-error:0.1796\u001b[0m\n",
      "\u001b[34m[05:35:11] src/tree/updater_prune.cc:74: tree pruning end, 1 roots, 20 extra nodes, 6 pruned nodes, max_depth=5\u001b[0m\n",
      "\u001b[34m[48]#011train-error:0.145533#011validation-error:0.1788\u001b[0m\n",
      "\u001b[34m[05:35:13] src/tree/updater_prune.cc:74: tree pruning end, 1 roots, 16 extra nodes, 4 pruned nodes, max_depth=5\u001b[0m\n",
      "\u001b[34m[49]#011train-error:0.144533#011validation-error:0.1791\u001b[0m\n",
      "\u001b[34m[05:35:14] src/tree/updater_prune.cc:74: tree pruning end, 1 roots, 20 extra nodes, 6 pruned nodes, max_depth=5\u001b[0m\n",
      "\u001b[34m[50]#011train-error:0.141867#011validation-error:0.1779\u001b[0m\n",
      "\u001b[34m[05:35:15] src/tree/updater_prune.cc:74: tree pruning end, 1 roots, 30 extra nodes, 4 pruned nodes, max_depth=5\u001b[0m\n",
      "\u001b[34m[51]#011train-error:0.14#011validation-error:0.1754\u001b[0m\n",
      "\u001b[34m[05:35:16] src/tree/updater_prune.cc:74: tree pruning end, 1 roots, 20 extra nodes, 12 pruned nodes, max_depth=5\u001b[0m\n",
      "\u001b[34m[52]#011train-error:0.139667#011validation-error:0.1766\u001b[0m\n",
      "\u001b[34m[05:35:18] src/tree/updater_prune.cc:74: tree pruning end, 1 roots, 22 extra nodes, 6 pruned nodes, max_depth=5\u001b[0m\n",
      "\u001b[34m[53]#011train-error:0.138667#011validation-error:0.1747\u001b[0m\n",
      "\u001b[34m[05:35:19] src/tree/updater_prune.cc:74: tree pruning end, 1 roots, 18 extra nodes, 12 pruned nodes, max_depth=5\u001b[0m\n",
      "\u001b[34m[54]#011train-error:0.137133#011validation-error:0.1734\u001b[0m\n",
      "\u001b[34m[05:35:20] src/tree/updater_prune.cc:74: tree pruning end, 1 roots, 44 extra nodes, 8 pruned nodes, max_depth=5\u001b[0m\n",
      "\u001b[34m[55]#011train-error:0.135933#011validation-error:0.173\u001b[0m\n",
      "\u001b[34m[05:35:21] src/tree/updater_prune.cc:74: tree pruning end, 1 roots, 24 extra nodes, 10 pruned nodes, max_depth=5\u001b[0m\n",
      "\u001b[34m[56]#011train-error:0.135267#011validation-error:0.1716\u001b[0m\n",
      "\u001b[34m[05:35:23] src/tree/updater_prune.cc:74: tree pruning end, 1 roots, 24 extra nodes, 8 pruned nodes, max_depth=5\u001b[0m\n",
      "\u001b[34m[57]#011train-error:0.134067#011validation-error:0.1714\u001b[0m\n",
      "\u001b[34m[05:35:24] src/tree/updater_prune.cc:74: tree pruning end, 1 roots, 32 extra nodes, 6 pruned nodes, max_depth=5\u001b[0m\n",
      "\u001b[34m[58]#011train-error:0.133933#011validation-error:0.1727\u001b[0m\n",
      "\u001b[34m[05:35:25] src/tree/updater_prune.cc:74: tree pruning end, 1 roots, 18 extra nodes, 2 pruned nodes, max_depth=5\u001b[0m\n",
      "\u001b[34m[59]#011train-error:0.132667#011validation-error:0.1717\u001b[0m\n",
      "\u001b[34m[05:35:26] src/tree/updater_prune.cc:74: tree pruning end, 1 roots, 18 extra nodes, 4 pruned nodes, max_depth=5\u001b[0m\n",
      "\u001b[34m[60]#011train-error:0.131933#011validation-error:0.1707\u001b[0m\n",
      "\u001b[34m[05:35:28] src/tree/updater_prune.cc:74: tree pruning end, 1 roots, 12 extra nodes, 4 pruned nodes, max_depth=5\u001b[0m\n",
      "\u001b[34m[61]#011train-error:0.131133#011validation-error:0.1701\u001b[0m\n",
      "\u001b[34m[05:35:29] src/tree/updater_prune.cc:74: tree pruning end, 1 roots, 22 extra nodes, 6 pruned nodes, max_depth=5\u001b[0m\n",
      "\u001b[34m[62]#011train-error:0.130667#011validation-error:0.1688\u001b[0m\n",
      "\u001b[34m[05:35:30] src/tree/updater_prune.cc:74: tree pruning end, 1 roots, 22 extra nodes, 10 pruned nodes, max_depth=5\u001b[0m\n",
      "\u001b[34m[63]#011train-error:0.131#011validation-error:0.1687\u001b[0m\n",
      "\u001b[34m[05:35:32] src/tree/updater_prune.cc:74: tree pruning end, 1 roots, 18 extra nodes, 4 pruned nodes, max_depth=5\u001b[0m\n",
      "\u001b[34m[64]#011train-error:0.129267#011validation-error:0.1673\u001b[0m\n",
      "\u001b[34m[05:35:33] src/tree/updater_prune.cc:74: tree pruning end, 1 roots, 16 extra nodes, 12 pruned nodes, max_depth=5\u001b[0m\n",
      "\u001b[34m[65]#011train-error:0.128533#011validation-error:0.1669\u001b[0m\n",
      "\u001b[34m[05:35:34] src/tree/updater_prune.cc:74: tree pruning end, 1 roots, 26 extra nodes, 10 pruned nodes, max_depth=5\u001b[0m\n",
      "\u001b[34m[66]#011train-error:0.127733#011validation-error:0.1659\u001b[0m\n",
      "\u001b[34m[05:35:35] src/tree/updater_prune.cc:74: tree pruning end, 1 roots, 20 extra nodes, 8 pruned nodes, max_depth=5\u001b[0m\n",
      "\u001b[34m[67]#011train-error:0.126933#011validation-error:0.1662\u001b[0m\n",
      "\u001b[34m[05:35:37] src/tree/updater_prune.cc:74: tree pruning end, 1 roots, 26 extra nodes, 6 pruned nodes, max_depth=5\u001b[0m\n",
      "\u001b[34m[68]#011train-error:0.1258#011validation-error:0.1666\u001b[0m\n",
      "\u001b[34m[05:35:38] src/tree/updater_prune.cc:74: tree pruning end, 1 roots, 26 extra nodes, 4 pruned nodes, max_depth=5\u001b[0m\n",
      "\u001b[34m[69]#011train-error:0.125#011validation-error:0.1661\u001b[0m\n",
      "\u001b[34m[05:35:39] src/tree/updater_prune.cc:74: tree pruning end, 1 roots, 42 extra nodes, 6 pruned nodes, max_depth=5\u001b[0m\n",
      "\u001b[34m[70]#011train-error:0.123333#011validation-error:0.166\u001b[0m\n",
      "\u001b[34m[05:35:40] src/tree/updater_prune.cc:74: tree pruning end, 1 roots, 22 extra nodes, 6 pruned nodes, max_depth=5\u001b[0m\n",
      "\u001b[34m[71]#011train-error:0.121933#011validation-error:0.164\u001b[0m\n",
      "\u001b[34m[05:35:42] src/tree/updater_prune.cc:74: tree pruning end, 1 roots, 20 extra nodes, 10 pruned nodes, max_depth=5\u001b[0m\n",
      "\u001b[34m[72]#011train-error:0.119867#011validation-error:0.1633\u001b[0m\n",
      "\u001b[34m[05:35:43] src/tree/updater_prune.cc:74: tree pruning end, 1 roots, 28 extra nodes, 12 pruned nodes, max_depth=5\u001b[0m\n",
      "\u001b[34m[73]#011train-error:0.119667#011validation-error:0.164\u001b[0m\n",
      "\u001b[34m[05:35:44] src/tree/updater_prune.cc:74: tree pruning end, 1 roots, 12 extra nodes, 10 pruned nodes, max_depth=5\u001b[0m\n",
      "\u001b[34m[74]#011train-error:0.119533#011validation-error:0.1634\u001b[0m\n",
      "\u001b[34m[05:35:46] src/tree/updater_prune.cc:74: tree pruning end, 1 roots, 14 extra nodes, 10 pruned nodes, max_depth=5\u001b[0m\n",
      "\u001b[34m[75]#011train-error:0.119333#011validation-error:0.1635\u001b[0m\n",
      "\u001b[34m[05:35:47] src/tree/updater_prune.cc:74: tree pruning end, 1 roots, 20 extra nodes, 4 pruned nodes, max_depth=5\u001b[0m\n",
      "\u001b[34m[76]#011train-error:0.1178#011validation-error:0.1626\u001b[0m\n",
      "\u001b[34m[05:35:48] src/tree/updater_prune.cc:74: tree pruning end, 1 roots, 24 extra nodes, 4 pruned nodes, max_depth=5\u001b[0m\n",
      "\u001b[34m[77]#011train-error:0.1178#011validation-error:0.1611\u001b[0m\n",
      "\u001b[34m[05:35:49] src/tree/updater_prune.cc:74: tree pruning end, 1 roots, 14 extra nodes, 10 pruned nodes, max_depth=5\u001b[0m\n",
      "\u001b[34m[78]#011train-error:0.1172#011validation-error:0.1604\u001b[0m\n",
      "\u001b[34m[05:35:51] src/tree/updater_prune.cc:74: tree pruning end, 1 roots, 24 extra nodes, 18 pruned nodes, max_depth=5\u001b[0m\n",
      "\u001b[34m[79]#011train-error:0.115533#011validation-error:0.1612\u001b[0m\n",
      "\u001b[34m[05:35:52] src/tree/updater_prune.cc:74: tree pruning end, 1 roots, 16 extra nodes, 8 pruned nodes, max_depth=5\u001b[0m\n",
      "\u001b[34m[80]#011train-error:0.1152#011validation-error:0.1605\u001b[0m\n",
      "\u001b[34m[05:35:53] src/tree/updater_prune.cc:74: tree pruning end, 1 roots, 10 extra nodes, 2 pruned nodes, max_depth=5\u001b[0m\n",
      "\u001b[34m[81]#011train-error:0.113933#011validation-error:0.161\u001b[0m\n",
      "\u001b[34m[05:35:54] src/tree/updater_prune.cc:74: tree pruning end, 1 roots, 18 extra nodes, 6 pruned nodes, max_depth=5\u001b[0m\n",
      "\u001b[34m[82]#011train-error:0.114533#011validation-error:0.1603\u001b[0m\n",
      "\u001b[34m[05:35:56] src/tree/updater_prune.cc:74: tree pruning end, 1 roots, 12 extra nodes, 14 pruned nodes, max_depth=5\u001b[0m\n",
      "\u001b[34m[83]#011train-error:0.1136#011validation-error:0.16\u001b[0m\n",
      "\u001b[34m[05:35:57] src/tree/updater_prune.cc:74: tree pruning end, 1 roots, 30 extra nodes, 6 pruned nodes, max_depth=5\u001b[0m\n",
      "\u001b[34m[84]#011train-error:0.112467#011validation-error:0.1597\u001b[0m\n",
      "\u001b[34m[05:35:58] src/tree/updater_prune.cc:74: tree pruning end, 1 roots, 20 extra nodes, 10 pruned nodes, max_depth=5\u001b[0m\n",
      "\u001b[34m[85]#011train-error:0.113133#011validation-error:0.1601\u001b[0m\n",
      "\u001b[34m[05:35:59] src/tree/updater_prune.cc:74: tree pruning end, 1 roots, 26 extra nodes, 6 pruned nodes, max_depth=5\u001b[0m\n",
      "\u001b[34m[86]#011train-error:0.1114#011validation-error:0.1598\u001b[0m\n",
      "\u001b[34m[05:36:01] src/tree/updater_prune.cc:74: tree pruning end, 1 roots, 16 extra nodes, 4 pruned nodes, max_depth=5\u001b[0m\n",
      "\u001b[34m[87]#011train-error:0.111#011validation-error:0.1589\u001b[0m\n"
     ]
    },
    {
     "name": "stdout",
     "output_type": "stream",
     "text": [
      "\u001b[34m[05:36:02] src/tree/updater_prune.cc:74: tree pruning end, 1 roots, 14 extra nodes, 16 pruned nodes, max_depth=5\u001b[0m\n",
      "\u001b[34m[88]#011train-error:0.1106#011validation-error:0.1583\u001b[0m\n",
      "\u001b[34m[05:36:03] src/tree/updater_prune.cc:74: tree pruning end, 1 roots, 20 extra nodes, 4 pruned nodes, max_depth=5\u001b[0m\n",
      "\u001b[34m[89]#011train-error:0.110667#011validation-error:0.158\u001b[0m\n",
      "\u001b[34m[05:36:05] src/tree/updater_prune.cc:74: tree pruning end, 1 roots, 32 extra nodes, 10 pruned nodes, max_depth=5\u001b[0m\n",
      "\u001b[34m[90]#011train-error:0.109933#011validation-error:0.158\u001b[0m\n",
      "\u001b[34m[05:36:06] src/tree/updater_prune.cc:74: tree pruning end, 1 roots, 10 extra nodes, 10 pruned nodes, max_depth=5\u001b[0m\n",
      "\u001b[34m[91]#011train-error:0.1094#011validation-error:0.158\u001b[0m\n",
      "\u001b[34m[05:36:07] src/tree/updater_prune.cc:74: tree pruning end, 1 roots, 12 extra nodes, 4 pruned nodes, max_depth=5\u001b[0m\n",
      "\u001b[34m[92]#011train-error:0.109067#011validation-error:0.158\u001b[0m\n",
      "\u001b[34m[05:36:08] src/tree/updater_prune.cc:74: tree pruning end, 1 roots, 14 extra nodes, 16 pruned nodes, max_depth=5\u001b[0m\n",
      "\u001b[34m[93]#011train-error:0.108667#011validation-error:0.1568\u001b[0m\n",
      "\u001b[34m[05:36:10] src/tree/updater_prune.cc:74: tree pruning end, 1 roots, 24 extra nodes, 6 pruned nodes, max_depth=5\u001b[0m\n",
      "\u001b[34m[94]#011train-error:0.107733#011validation-error:0.1561\u001b[0m\n",
      "\u001b[34m[05:36:11] src/tree/updater_prune.cc:74: tree pruning end, 1 roots, 20 extra nodes, 16 pruned nodes, max_depth=5\u001b[0m\n",
      "\u001b[34m[95]#011train-error:0.1068#011validation-error:0.1562\u001b[0m\n",
      "\u001b[34m[05:36:12] src/tree/updater_prune.cc:74: tree pruning end, 1 roots, 12 extra nodes, 8 pruned nodes, max_depth=5\u001b[0m\n",
      "\u001b[34m[96]#011train-error:0.1066#011validation-error:0.156\u001b[0m\n",
      "\u001b[34m[05:36:13] src/tree/updater_prune.cc:74: tree pruning end, 1 roots, 22 extra nodes, 12 pruned nodes, max_depth=5\u001b[0m\n",
      "\u001b[34m[97]#011train-error:0.105133#011validation-error:0.1542\u001b[0m\n",
      "\u001b[34m[05:36:15] src/tree/updater_prune.cc:74: tree pruning end, 1 roots, 18 extra nodes, 10 pruned nodes, max_depth=5\u001b[0m\n",
      "\u001b[34m[98]#011train-error:0.105#011validation-error:0.1532\u001b[0m\n",
      "\u001b[34m[05:36:16] src/tree/updater_prune.cc:74: tree pruning end, 1 roots, 22 extra nodes, 14 pruned nodes, max_depth=5\u001b[0m\n",
      "\u001b[34m[99]#011train-error:0.1056#011validation-error:0.1541\u001b[0m\n",
      "\u001b[34m[05:36:17] src/tree/updater_prune.cc:74: tree pruning end, 1 roots, 18 extra nodes, 6 pruned nodes, max_depth=5\u001b[0m\n",
      "\u001b[34m[100]#011train-error:0.105#011validation-error:0.1534\u001b[0m\n",
      "\u001b[34m[05:36:18] src/tree/updater_prune.cc:74: tree pruning end, 1 roots, 14 extra nodes, 8 pruned nodes, max_depth=5\u001b[0m\n",
      "\u001b[34m[101]#011train-error:0.104467#011validation-error:0.1526\u001b[0m\n",
      "\u001b[34m[05:36:20] src/tree/updater_prune.cc:74: tree pruning end, 1 roots, 14 extra nodes, 12 pruned nodes, max_depth=5\u001b[0m\n",
      "\u001b[34m[102]#011train-error:0.103267#011validation-error:0.1522\u001b[0m\n",
      "\u001b[34m[05:36:21] src/tree/updater_prune.cc:74: tree pruning end, 1 roots, 36 extra nodes, 12 pruned nodes, max_depth=5\u001b[0m\n",
      "\u001b[34m[103]#011train-error:0.1024#011validation-error:0.1525\u001b[0m\n",
      "\u001b[34m[05:36:22] src/tree/updater_prune.cc:74: tree pruning end, 1 roots, 14 extra nodes, 10 pruned nodes, max_depth=5\u001b[0m\n",
      "\u001b[34m[104]#011train-error:0.102733#011validation-error:0.1529\u001b[0m\n",
      "\u001b[34m[05:36:24] src/tree/updater_prune.cc:74: tree pruning end, 1 roots, 12 extra nodes, 4 pruned nodes, max_depth=5\u001b[0m\n",
      "\u001b[34m[105]#011train-error:0.101933#011validation-error:0.1528\u001b[0m\n",
      "\u001b[34m[05:36:25] src/tree/updater_prune.cc:74: tree pruning end, 1 roots, 20 extra nodes, 12 pruned nodes, max_depth=5\u001b[0m\n",
      "\u001b[34m[106]#011train-error:0.100867#011validation-error:0.1526\u001b[0m\n",
      "\u001b[34m[05:36:26] src/tree/updater_prune.cc:74: tree pruning end, 1 roots, 22 extra nodes, 10 pruned nodes, max_depth=5\u001b[0m\n",
      "\u001b[34m[107]#011train-error:0.100933#011validation-error:0.1522\u001b[0m\n",
      "\u001b[34m[05:36:27] src/tree/updater_prune.cc:74: tree pruning end, 1 roots, 14 extra nodes, 14 pruned nodes, max_depth=5\u001b[0m\n",
      "\u001b[34m[108]#011train-error:0.100733#011validation-error:0.1511\u001b[0m\n",
      "\u001b[34m[05:36:29] src/tree/updater_prune.cc:74: tree pruning end, 1 roots, 22 extra nodes, 16 pruned nodes, max_depth=5\u001b[0m\n",
      "\u001b[34m[109]#011train-error:0.099533#011validation-error:0.1498\u001b[0m\n",
      "\u001b[34m[05:36:30] src/tree/updater_prune.cc:74: tree pruning end, 1 roots, 22 extra nodes, 16 pruned nodes, max_depth=5\u001b[0m\n",
      "\u001b[34m[110]#011train-error:0.098533#011validation-error:0.1498\u001b[0m\n",
      "\u001b[34m[05:36:31] src/tree/updater_prune.cc:74: tree pruning end, 1 roots, 10 extra nodes, 2 pruned nodes, max_depth=5\u001b[0m\n",
      "\u001b[34m[111]#011train-error:0.098333#011validation-error:0.1496\u001b[0m\n",
      "\u001b[34m[05:36:32] src/tree/updater_prune.cc:74: tree pruning end, 1 roots, 14 extra nodes, 16 pruned nodes, max_depth=5\u001b[0m\n",
      "\u001b[34m[112]#011train-error:0.098067#011validation-error:0.1494\u001b[0m\n",
      "\u001b[34m[05:36:34] src/tree/updater_prune.cc:74: tree pruning end, 1 roots, 20 extra nodes, 12 pruned nodes, max_depth=5\u001b[0m\n",
      "\u001b[34m[113]#011train-error:0.0976#011validation-error:0.1505\u001b[0m\n",
      "\u001b[34m[05:36:35] src/tree/updater_prune.cc:74: tree pruning end, 1 roots, 20 extra nodes, 12 pruned nodes, max_depth=5\u001b[0m\n",
      "\u001b[34m[114]#011train-error:0.097267#011validation-error:0.1498\u001b[0m\n",
      "\u001b[34m[05:36:36] src/tree/updater_prune.cc:74: tree pruning end, 1 roots, 30 extra nodes, 8 pruned nodes, max_depth=5\u001b[0m\n",
      "\u001b[34m[115]#011train-error:0.097133#011validation-error:0.1485\u001b[0m\n",
      "\u001b[34m[05:36:37] src/tree/updater_prune.cc:74: tree pruning end, 1 roots, 12 extra nodes, 12 pruned nodes, max_depth=5\u001b[0m\n",
      "\u001b[34m[116]#011train-error:0.0964#011validation-error:0.1484\u001b[0m\n",
      "\u001b[34m[05:36:39] src/tree/updater_prune.cc:74: tree pruning end, 1 roots, 18 extra nodes, 4 pruned nodes, max_depth=5\u001b[0m\n",
      "\u001b[34m[117]#011train-error:0.097133#011validation-error:0.1488\u001b[0m\n",
      "\u001b[34m[05:36:40] src/tree/updater_prune.cc:74: tree pruning end, 1 roots, 10 extra nodes, 4 pruned nodes, max_depth=5\u001b[0m\n",
      "\u001b[34m[118]#011train-error:0.0966#011validation-error:0.1492\u001b[0m\n",
      "\u001b[34m[05:36:41] src/tree/updater_prune.cc:74: tree pruning end, 1 roots, 28 extra nodes, 6 pruned nodes, max_depth=5\u001b[0m\n",
      "\u001b[34m[119]#011train-error:0.095#011validation-error:0.1497\u001b[0m\n",
      "\u001b[34m[05:36:42] src/tree/updater_prune.cc:74: tree pruning end, 1 roots, 32 extra nodes, 8 pruned nodes, max_depth=5\u001b[0m\n",
      "\u001b[34m[120]#011train-error:0.0936#011validation-error:0.1497\u001b[0m\n",
      "\u001b[34m[05:36:44] src/tree/updater_prune.cc:74: tree pruning end, 1 roots, 10 extra nodes, 12 pruned nodes, max_depth=5\u001b[0m\n",
      "\u001b[34m[121]#011train-error:0.093333#011validation-error:0.1497\u001b[0m\n",
      "\u001b[34m[05:36:45] src/tree/updater_prune.cc:74: tree pruning end, 1 roots, 12 extra nodes, 4 pruned nodes, max_depth=5\u001b[0m\n",
      "\u001b[34m[122]#011train-error:0.092867#011validation-error:0.1492\u001b[0m\n",
      "\u001b[34m[05:36:46] src/tree/updater_prune.cc:74: tree pruning end, 1 roots, 12 extra nodes, 2 pruned nodes, max_depth=5\u001b[0m\n",
      "\u001b[34m[123]#011train-error:0.092933#011validation-error:0.1491\u001b[0m\n",
      "\u001b[34m[05:36:48] src/tree/updater_prune.cc:74: tree pruning end, 1 roots, 18 extra nodes, 18 pruned nodes, max_depth=5\u001b[0m\n",
      "\u001b[34m[124]#011train-error:0.092533#011validation-error:0.1481\u001b[0m\n",
      "\u001b[34m[05:36:49] src/tree/updater_prune.cc:74: tree pruning end, 1 roots, 16 extra nodes, 2 pruned nodes, max_depth=5\u001b[0m\n",
      "\u001b[34m[125]#011train-error:0.092067#011validation-error:0.1478\u001b[0m\n",
      "\u001b[34m[05:36:50] src/tree/updater_prune.cc:74: tree pruning end, 1 roots, 18 extra nodes, 14 pruned nodes, max_depth=5\u001b[0m\n",
      "\u001b[34m[126]#011train-error:0.092133#011validation-error:0.1469\u001b[0m\n",
      "\u001b[34m[05:36:51] src/tree/updater_prune.cc:74: tree pruning end, 1 roots, 10 extra nodes, 2 pruned nodes, max_depth=5\u001b[0m\n",
      "\u001b[34m[127]#011train-error:0.0922#011validation-error:0.147\u001b[0m\n",
      "\u001b[34m[05:36:53] src/tree/updater_prune.cc:74: tree pruning end, 1 roots, 30 extra nodes, 14 pruned nodes, max_depth=5\u001b[0m\n",
      "\u001b[34m[128]#011train-error:0.091933#011validation-error:0.1469\u001b[0m\n",
      "\u001b[34m[05:36:54] src/tree/updater_prune.cc:74: tree pruning end, 1 roots, 16 extra nodes, 8 pruned nodes, max_depth=5\u001b[0m\n",
      "\u001b[34m[129]#011train-error:0.092#011validation-error:0.148\u001b[0m\n",
      "\u001b[34m[05:36:55] src/tree/updater_prune.cc:74: tree pruning end, 1 roots, 16 extra nodes, 6 pruned nodes, max_depth=5\u001b[0m\n",
      "\u001b[34m[130]#011train-error:0.0914#011validation-error:0.1475\u001b[0m\n",
      "\u001b[34m[05:36:56] src/tree/updater_prune.cc:74: tree pruning end, 1 roots, 24 extra nodes, 16 pruned nodes, max_depth=5\u001b[0m\n",
      "\u001b[34m[131]#011train-error:0.0902#011validation-error:0.1467\u001b[0m\n",
      "\u001b[34m[05:36:58] src/tree/updater_prune.cc:74: tree pruning end, 1 roots, 20 extra nodes, 14 pruned nodes, max_depth=5\u001b[0m\n",
      "\u001b[34m[132]#011train-error:0.090067#011validation-error:0.1459\u001b[0m\n",
      "\u001b[34m[05:36:59] src/tree/updater_prune.cc:74: tree pruning end, 1 roots, 16 extra nodes, 8 pruned nodes, max_depth=5\u001b[0m\n",
      "\u001b[34m[133]#011train-error:0.089533#011validation-error:0.1455\u001b[0m\n",
      "\u001b[34m[05:37:00] src/tree/updater_prune.cc:74: tree pruning end, 1 roots, 10 extra nodes, 6 pruned nodes, max_depth=5\u001b[0m\n",
      "\u001b[34m[134]#011train-error:0.0896#011validation-error:0.1455\u001b[0m\n",
      "\u001b[34m[05:37:01] src/tree/updater_prune.cc:74: tree pruning end, 1 roots, 12 extra nodes, 8 pruned nodes, max_depth=5\u001b[0m\n",
      "\u001b[34m[135]#011train-error:0.089667#011validation-error:0.1451\u001b[0m\n"
     ]
    },
    {
     "name": "stdout",
     "output_type": "stream",
     "text": [
      "\u001b[34m[05:37:03] src/tree/updater_prune.cc:74: tree pruning end, 1 roots, 20 extra nodes, 10 pruned nodes, max_depth=5\u001b[0m\n",
      "\u001b[34m[136]#011train-error:0.0886#011validation-error:0.1443\u001b[0m\n",
      "\u001b[34m[05:37:04] src/tree/updater_prune.cc:74: tree pruning end, 1 roots, 10 extra nodes, 6 pruned nodes, max_depth=5\u001b[0m\n",
      "\u001b[34m[137]#011train-error:0.088867#011validation-error:0.1437\u001b[0m\n",
      "\u001b[34m[05:37:05] src/tree/updater_prune.cc:74: tree pruning end, 1 roots, 22 extra nodes, 10 pruned nodes, max_depth=5\u001b[0m\n",
      "\u001b[34m[138]#011train-error:0.088733#011validation-error:0.1435\u001b[0m\n",
      "\u001b[34m[05:37:07] src/tree/updater_prune.cc:74: tree pruning end, 1 roots, 22 extra nodes, 0 pruned nodes, max_depth=5\u001b[0m\n",
      "\u001b[34m[139]#011train-error:0.087933#011validation-error:0.1435\u001b[0m\n",
      "\u001b[34m[05:37:08] src/tree/updater_prune.cc:74: tree pruning end, 1 roots, 26 extra nodes, 12 pruned nodes, max_depth=5\u001b[0m\n",
      "\u001b[34m[140]#011train-error:0.087533#011validation-error:0.1432\u001b[0m\n",
      "\u001b[34m[05:37:09] src/tree/updater_prune.cc:74: tree pruning end, 1 roots, 12 extra nodes, 10 pruned nodes, max_depth=5\u001b[0m\n",
      "\u001b[34m[141]#011train-error:0.088#011validation-error:0.1435\u001b[0m\n",
      "\u001b[34m[05:37:10] src/tree/updater_prune.cc:74: tree pruning end, 1 roots, 14 extra nodes, 12 pruned nodes, max_depth=5\u001b[0m\n",
      "\u001b[34m[142]#011train-error:0.0872#011validation-error:0.1429\u001b[0m\n",
      "\u001b[34m[05:37:12] src/tree/updater_prune.cc:74: tree pruning end, 1 roots, 16 extra nodes, 6 pruned nodes, max_depth=5\u001b[0m\n",
      "\u001b[34m[143]#011train-error:0.087333#011validation-error:0.1434\u001b[0m\n",
      "\u001b[34m[05:37:13] src/tree/updater_prune.cc:74: tree pruning end, 1 roots, 16 extra nodes, 18 pruned nodes, max_depth=5\u001b[0m\n",
      "\u001b[34m[144]#011train-error:0.086333#011validation-error:0.1432\u001b[0m\n",
      "\u001b[34m[05:37:14] src/tree/updater_prune.cc:74: tree pruning end, 1 roots, 14 extra nodes, 8 pruned nodes, max_depth=5\u001b[0m\n",
      "\u001b[34m[145]#011train-error:0.086067#011validation-error:0.1427\u001b[0m\n",
      "\u001b[34m[05:37:16] src/tree/updater_prune.cc:74: tree pruning end, 1 roots, 16 extra nodes, 18 pruned nodes, max_depth=5\u001b[0m\n",
      "\u001b[34m[146]#011train-error:0.085467#011validation-error:0.1428\u001b[0m\n",
      "\u001b[34m[05:37:17] src/tree/updater_prune.cc:74: tree pruning end, 1 roots, 16 extra nodes, 4 pruned nodes, max_depth=5\u001b[0m\n",
      "\u001b[34m[147]#011train-error:0.0856#011validation-error:0.1428\u001b[0m\n",
      "\u001b[34m[05:37:18] src/tree/updater_prune.cc:74: tree pruning end, 1 roots, 16 extra nodes, 10 pruned nodes, max_depth=5\u001b[0m\n",
      "\u001b[34m[148]#011train-error:0.085133#011validation-error:0.1428\u001b[0m\n",
      "\u001b[34m[05:37:19] src/tree/updater_prune.cc:74: tree pruning end, 1 roots, 14 extra nodes, 8 pruned nodes, max_depth=5\u001b[0m\n",
      "\u001b[34m[149]#011train-error:0.0846#011validation-error:0.1425\u001b[0m\n",
      "\u001b[34m[05:37:21] src/tree/updater_prune.cc:74: tree pruning end, 1 roots, 12 extra nodes, 8 pruned nodes, max_depth=5\u001b[0m\n",
      "\u001b[34m[150]#011train-error:0.0842#011validation-error:0.1429\u001b[0m\n",
      "\u001b[34m[05:37:22] src/tree/updater_prune.cc:74: tree pruning end, 1 roots, 22 extra nodes, 12 pruned nodes, max_depth=5\u001b[0m\n",
      "\u001b[34m[151]#011train-error:0.084067#011validation-error:0.1423\u001b[0m\n",
      "\u001b[34m[05:37:23] src/tree/updater_prune.cc:74: tree pruning end, 1 roots, 12 extra nodes, 4 pruned nodes, max_depth=5\u001b[0m\n",
      "\u001b[34m[152]#011train-error:0.083667#011validation-error:0.1423\u001b[0m\n",
      "\u001b[34m[05:37:24] src/tree/updater_prune.cc:74: tree pruning end, 1 roots, 18 extra nodes, 16 pruned nodes, max_depth=5\u001b[0m\n",
      "\u001b[34m[153]#011train-error:0.083867#011validation-error:0.1422\u001b[0m\n",
      "\u001b[34m[05:37:26] src/tree/updater_prune.cc:74: tree pruning end, 1 roots, 12 extra nodes, 8 pruned nodes, max_depth=5\u001b[0m\n",
      "\u001b[34m[154]#011train-error:0.084#011validation-error:0.1421\u001b[0m\n",
      "\u001b[34m[05:37:27] src/tree/updater_prune.cc:74: tree pruning end, 1 roots, 22 extra nodes, 10 pruned nodes, max_depth=5\u001b[0m\n",
      "\u001b[34m[155]#011train-error:0.082933#011validation-error:0.1412\u001b[0m\n",
      "\u001b[34m[05:37:28] src/tree/updater_prune.cc:74: tree pruning end, 1 roots, 10 extra nodes, 8 pruned nodes, max_depth=5\u001b[0m\n",
      "\u001b[34m[156]#011train-error:0.082533#011validation-error:0.141\u001b[0m\n",
      "\u001b[34m[05:37:29] src/tree/updater_prune.cc:74: tree pruning end, 1 roots, 18 extra nodes, 8 pruned nodes, max_depth=5\u001b[0m\n",
      "\u001b[34m[157]#011train-error:0.0824#011validation-error:0.141\u001b[0m\n",
      "\u001b[34m[05:37:31] src/tree/updater_prune.cc:74: tree pruning end, 1 roots, 14 extra nodes, 2 pruned nodes, max_depth=5\u001b[0m\n",
      "\u001b[34m[158]#011train-error:0.082267#011validation-error:0.1409\u001b[0m\n",
      "\u001b[34m[05:37:32] src/tree/updater_prune.cc:74: tree pruning end, 1 roots, 10 extra nodes, 6 pruned nodes, max_depth=5\u001b[0m\n",
      "\u001b[34m[159]#011train-error:0.081933#011validation-error:0.1404\u001b[0m\n",
      "\u001b[34m[05:37:33] src/tree/updater_prune.cc:74: tree pruning end, 1 roots, 12 extra nodes, 4 pruned nodes, max_depth=5\u001b[0m\n",
      "\u001b[34m[160]#011train-error:0.081533#011validation-error:0.1408\u001b[0m\n",
      "\u001b[34m[05:37:35] src/tree/updater_prune.cc:74: tree pruning end, 1 roots, 10 extra nodes, 2 pruned nodes, max_depth=5\u001b[0m\n",
      "\u001b[34m[161]#011train-error:0.081267#011validation-error:0.1403\u001b[0m\n",
      "\u001b[34m[05:37:36] src/tree/updater_prune.cc:74: tree pruning end, 1 roots, 10 extra nodes, 6 pruned nodes, max_depth=5\u001b[0m\n",
      "\u001b[34m[162]#011train-error:0.081133#011validation-error:0.1407\u001b[0m\n",
      "\u001b[34m[05:37:37] src/tree/updater_prune.cc:74: tree pruning end, 1 roots, 22 extra nodes, 6 pruned nodes, max_depth=5\u001b[0m\n",
      "\u001b[34m[163]#011train-error:0.0804#011validation-error:0.1411\u001b[0m\n",
      "\u001b[34m[05:37:38] src/tree/updater_prune.cc:74: tree pruning end, 1 roots, 16 extra nodes, 16 pruned nodes, max_depth=5\u001b[0m\n",
      "\u001b[34m[164]#011train-error:0.079933#011validation-error:0.1411\u001b[0m\n",
      "\u001b[34m[05:37:40] src/tree/updater_prune.cc:74: tree pruning end, 1 roots, 16 extra nodes, 16 pruned nodes, max_depth=5\u001b[0m\n",
      "\u001b[34m[165]#011train-error:0.079267#011validation-error:0.1404\u001b[0m\n",
      "\u001b[34m[05:37:41] src/tree/updater_prune.cc:74: tree pruning end, 1 roots, 18 extra nodes, 10 pruned nodes, max_depth=5\u001b[0m\n",
      "\u001b[34m[166]#011train-error:0.0794#011validation-error:0.1403\u001b[0m\n",
      "\u001b[34m[05:37:42] src/tree/updater_prune.cc:74: tree pruning end, 1 roots, 18 extra nodes, 10 pruned nodes, max_depth=5\u001b[0m\n",
      "\u001b[34m[167]#011train-error:0.079333#011validation-error:0.1401\u001b[0m\n",
      "\n",
      "2020-09-03 05:37:56 Uploading - Uploading generated training model\u001b[34m[05:37:44] src/tree/updater_prune.cc:74: tree pruning end, 1 roots, 16 extra nodes, 10 pruned nodes, max_depth=5\u001b[0m\n",
      "\u001b[34m[168]#011train-error:0.078867#011validation-error:0.1406\u001b[0m\n",
      "\u001b[34m[05:37:45] src/tree/updater_prune.cc:74: tree pruning end, 1 roots, 20 extra nodes, 6 pruned nodes, max_depth=5\u001b[0m\n",
      "\u001b[34m[169]#011train-error:0.078467#011validation-error:0.1401\u001b[0m\n",
      "\u001b[34m[05:37:46] src/tree/updater_prune.cc:74: tree pruning end, 1 roots, 14 extra nodes, 4 pruned nodes, max_depth=5\u001b[0m\n",
      "\u001b[34m[170]#011train-error:0.078133#011validation-error:0.1403\u001b[0m\n",
      "\u001b[34m[05:37:47] src/tree/updater_prune.cc:74: tree pruning end, 1 roots, 26 extra nodes, 14 pruned nodes, max_depth=5\u001b[0m\n",
      "\u001b[34m[171]#011train-error:0.077733#011validation-error:0.1407\u001b[0m\n",
      "\u001b[34m[05:37:49] src/tree/updater_prune.cc:74: tree pruning end, 1 roots, 12 extra nodes, 4 pruned nodes, max_depth=5\u001b[0m\n",
      "\u001b[34m[172]#011train-error:0.077067#011validation-error:0.1408\u001b[0m\n",
      "\u001b[34m[05:37:50] src/tree/updater_prune.cc:74: tree pruning end, 1 roots, 12 extra nodes, 4 pruned nodes, max_depth=5\u001b[0m\n",
      "\u001b[34m[173]#011train-error:0.077067#011validation-error:0.1407\u001b[0m\n",
      "\u001b[34m[05:37:51] src/tree/updater_prune.cc:74: tree pruning end, 1 roots, 14 extra nodes, 4 pruned nodes, max_depth=5\u001b[0m\n",
      "\u001b[34m[174]#011train-error:0.077#011validation-error:0.1407\u001b[0m\n",
      "\u001b[34m[05:37:52] src/tree/updater_prune.cc:74: tree pruning end, 1 roots, 10 extra nodes, 4 pruned nodes, max_depth=5\u001b[0m\n",
      "\u001b[34m[175]#011train-error:0.0768#011validation-error:0.1406\u001b[0m\n",
      "\u001b[34m[05:37:54] src/tree/updater_prune.cc:74: tree pruning end, 1 roots, 10 extra nodes, 4 pruned nodes, max_depth=5\u001b[0m\n",
      "\u001b[34m[176]#011train-error:0.0766#011validation-error:0.1404\u001b[0m\n",
      "\u001b[34m[05:37:55] src/tree/updater_prune.cc:74: tree pruning end, 1 roots, 28 extra nodes, 24 pruned nodes, max_depth=5\u001b[0m\n",
      "\u001b[34m[177]#011train-error:0.0756#011validation-error:0.1409\u001b[0m\n",
      "\u001b[34mStopping. Best iteration:\u001b[0m\n",
      "\u001b[34m[167]#011train-error:0.079333#011validation-error:0.1401\n",
      "\u001b[0m\n",
      "\n",
      "2020-09-03 05:38:03 Completed - Training job completed\n",
      "Training seconds: 293\n",
      "Billable seconds: 293\n"
     ]
    }
   ],
   "source": [
    "xgb.fit({'train': s3_input_train, 'validation': s3_input_validation})"
   ]
  },
  {
   "cell_type": "markdown",
   "metadata": {},
   "source": [
    "## Step 5: Testing the model\n",
    "\n",
    "Now that we've fit our XGBoost model, it's time to see how well it performs. To do this we will use SageMakers Batch Transform functionality. Batch Transform is a convenient way to perform inference on a large dataset in a way that is not realtime. That is, we don't necessarily need to use our model's results immediately and instead we can perform inference on a large number of samples. An example of this in industry might be performing an end of month report. This method of inference can also be useful to us as it means that we can perform inference on our entire test set. \n",
    "\n",
    "To perform a Batch Transformation we need to first create a transformer objects from our trained estimator object."
   ]
  },
  {
   "cell_type": "code",
   "execution_count": 24,
   "metadata": {},
   "outputs": [
    {
     "name": "stderr",
     "output_type": "stream",
     "text": [
      "Parameter image will be renamed to image_uri in SageMaker Python SDK v2.\n"
     ]
    }
   ],
   "source": [
    "xgb_transformer = xgb.transformer(instance_count = 1, instance_type = 'ml.m4.xlarge')"
   ]
  },
  {
   "cell_type": "markdown",
   "metadata": {},
   "source": [
    "Next we actually perform the transform job. When doing so we need to make sure to specify the type of data we are sending so that it is serialized correctly in the background. In our case we are providing our model with csv data so we specify `text/csv`. Also, if the test data that we have provided is too large to process all at once then we need to specify how the data file should be split up. Since each line is a single entry in our data set we tell SageMaker that it can split the input on each line."
   ]
  },
  {
   "cell_type": "code",
   "execution_count": 25,
   "metadata": {},
   "outputs": [],
   "source": [
    "xgb_transformer.transform(test_location, content_type='text/csv', split_type='Line')"
   ]
  },
  {
   "cell_type": "markdown",
   "metadata": {},
   "source": [
    "Currently the transform job is running but it is doing so in the background. Since we wish to wait until the transform job is done and we would like a bit of feedback we can run the `wait()` method."
   ]
  },
  {
   "cell_type": "code",
   "execution_count": 26,
   "metadata": {},
   "outputs": [
    {
     "name": "stdout",
     "output_type": "stream",
     "text": [
      ".............................\u001b[32m2020-09-03T05:43:22.359:[sagemaker logs]: MaxConcurrentTransforms=4, MaxPayloadInMB=6, BatchStrategy=MULTI_RECORD\u001b[0m\n",
      "\u001b[34mArguments: serve\u001b[0m\n",
      "\u001b[34m[2020-09-03 05:43:22 +0000] [1] [INFO] Starting gunicorn 19.7.1\u001b[0m\n",
      "\u001b[34m[2020-09-03 05:43:22 +0000] [1] [INFO] Listening at: http://0.0.0.0:8080 (1)\u001b[0m\n",
      "\u001b[34m[2020-09-03 05:43:22 +0000] [1] [INFO] Using worker: gevent\u001b[0m\n",
      "\u001b[34m[2020-09-03 05:43:22 +0000] [38] [INFO] Booting worker with pid: 38\u001b[0m\n",
      "\u001b[34m[2020-09-03 05:43:22 +0000] [39] [INFO] Booting worker with pid: 39\u001b[0m\n",
      "\u001b[34m[2020-09-03 05:43:22 +0000] [40] [INFO] Booting worker with pid: 40\u001b[0m\n",
      "\u001b[34m[2020-09-03 05:43:22 +0000] [41] [INFO] Booting worker with pid: 41\u001b[0m\n",
      "\u001b[34m[2020-09-03:05:43:22:INFO] Model loaded successfully for worker : 38\u001b[0m\n",
      "\u001b[34m[2020-09-03:05:43:22:INFO] Model loaded successfully for worker : 39\u001b[0m\n",
      "\u001b[35mArguments: serve\u001b[0m\n",
      "\u001b[35m[2020-09-03 05:43:22 +0000] [1] [INFO] Starting gunicorn 19.7.1\u001b[0m\n",
      "\u001b[35m[2020-09-03 05:43:22 +0000] [1] [INFO] Listening at: http://0.0.0.0:8080 (1)\u001b[0m\n",
      "\u001b[35m[2020-09-03 05:43:22 +0000] [1] [INFO] Using worker: gevent\u001b[0m\n",
      "\u001b[35m[2020-09-03 05:43:22 +0000] [38] [INFO] Booting worker with pid: 38\u001b[0m\n",
      "\u001b[35m[2020-09-03 05:43:22 +0000] [39] [INFO] Booting worker with pid: 39\u001b[0m\n",
      "\u001b[35m[2020-09-03 05:43:22 +0000] [40] [INFO] Booting worker with pid: 40\u001b[0m\n",
      "\u001b[35m[2020-09-03 05:43:22 +0000] [41] [INFO] Booting worker with pid: 41\u001b[0m\n",
      "\u001b[35m[2020-09-03:05:43:22:INFO] Model loaded successfully for worker : 38\u001b[0m\n",
      "\u001b[35m[2020-09-03:05:43:22:INFO] Model loaded successfully for worker : 39\u001b[0m\n",
      "\u001b[34m[2020-09-03:05:43:22:INFO] Model loaded successfully for worker : 40\u001b[0m\n",
      "\u001b[34m[2020-09-03:05:43:22:INFO] Model loaded successfully for worker : 41\u001b[0m\n",
      "\u001b[34m[2020-09-03:05:43:22:INFO] Sniff delimiter as ','\u001b[0m\n",
      "\u001b[34m[2020-09-03:05:43:22:INFO] Determined delimiter of CSV input is ','\u001b[0m\n",
      "\u001b[34m[2020-09-03:05:43:22:INFO] Sniff delimiter as ','\u001b[0m\n",
      "\u001b[34m[2020-09-03:05:43:22:INFO] Determined delimiter of CSV input is ','\u001b[0m\n",
      "\u001b[34m[2020-09-03:05:43:22:INFO] Sniff delimiter as ','\u001b[0m\n",
      "\u001b[34m[2020-09-03:05:43:22:INFO] Determined delimiter of CSV input is ','\u001b[0m\n",
      "\u001b[35m[2020-09-03:05:43:22:INFO] Model loaded successfully for worker : 40\u001b[0m\n",
      "\u001b[35m[2020-09-03:05:43:22:INFO] Model loaded successfully for worker : 41\u001b[0m\n",
      "\u001b[35m[2020-09-03:05:43:22:INFO] Sniff delimiter as ','\u001b[0m\n",
      "\u001b[35m[2020-09-03:05:43:22:INFO] Determined delimiter of CSV input is ','\u001b[0m\n",
      "\u001b[35m[2020-09-03:05:43:22:INFO] Sniff delimiter as ','\u001b[0m\n",
      "\u001b[35m[2020-09-03:05:43:22:INFO] Determined delimiter of CSV input is ','\u001b[0m\n",
      "\u001b[35m[2020-09-03:05:43:22:INFO] Sniff delimiter as ','\u001b[0m\n",
      "\u001b[35m[2020-09-03:05:43:22:INFO] Determined delimiter of CSV input is ','\u001b[0m\n",
      "\u001b[34m[2020-09-03:05:43:24:INFO] Sniff delimiter as ','\u001b[0m\n",
      "\u001b[34m[2020-09-03:05:43:24:INFO] Determined delimiter of CSV input is ','\u001b[0m\n",
      "\u001b[35m[2020-09-03:05:43:24:INFO] Sniff delimiter as ','\u001b[0m\n",
      "\u001b[35m[2020-09-03:05:43:24:INFO] Determined delimiter of CSV input is ','\u001b[0m\n",
      "\u001b[34m[2020-09-03:05:43:25:INFO] Sniff delimiter as ','\u001b[0m\n",
      "\u001b[34m[2020-09-03:05:43:25:INFO] Determined delimiter of CSV input is ','\u001b[0m\n",
      "\u001b[34m[2020-09-03:05:43:25:INFO] Sniff delimiter as ','\u001b[0m\n",
      "\u001b[34m[2020-09-03:05:43:25:INFO] Determined delimiter of CSV input is ','\u001b[0m\n",
      "\u001b[35m[2020-09-03:05:43:25:INFO] Sniff delimiter as ','\u001b[0m\n",
      "\u001b[35m[2020-09-03:05:43:25:INFO] Determined delimiter of CSV input is ','\u001b[0m\n",
      "\u001b[35m[2020-09-03:05:43:25:INFO] Sniff delimiter as ','\u001b[0m\n",
      "\u001b[35m[2020-09-03:05:43:25:INFO] Determined delimiter of CSV input is ','\u001b[0m\n",
      "\u001b[34m[2020-09-03:05:43:26:INFO] Sniff delimiter as ','\u001b[0m\n",
      "\u001b[34m[2020-09-03:05:43:26:INFO] Determined delimiter of CSV input is ','\u001b[0m\n",
      "\u001b[34m[2020-09-03:05:43:26:INFO] Sniff delimiter as ','\u001b[0m\n",
      "\u001b[35m[2020-09-03:05:43:26:INFO] Sniff delimiter as ','\u001b[0m\n",
      "\u001b[35m[2020-09-03:05:43:26:INFO] Determined delimiter of CSV input is ','\u001b[0m\n",
      "\u001b[35m[2020-09-03:05:43:26:INFO] Sniff delimiter as ','\u001b[0m\n",
      "\u001b[34m[2020-09-03:05:43:26:INFO] Determined delimiter of CSV input is ','\u001b[0m\n",
      "\u001b[34m[2020-09-03:05:43:26:INFO] Sniff delimiter as ','\u001b[0m\n",
      "\u001b[34m[2020-09-03:05:43:26:INFO] Determined delimiter of CSV input is ','\u001b[0m\n",
      "\u001b[34m[2020-09-03:05:43:26:INFO] Sniff delimiter as ','\u001b[0m\n",
      "\u001b[34m[2020-09-03:05:43:26:INFO] Determined delimiter of CSV input is ','\u001b[0m\n",
      "\u001b[35m[2020-09-03:05:43:26:INFO] Determined delimiter of CSV input is ','\u001b[0m\n",
      "\u001b[35m[2020-09-03:05:43:26:INFO] Sniff delimiter as ','\u001b[0m\n",
      "\u001b[35m[2020-09-03:05:43:26:INFO] Determined delimiter of CSV input is ','\u001b[0m\n",
      "\u001b[35m[2020-09-03:05:43:26:INFO] Sniff delimiter as ','\u001b[0m\n",
      "\u001b[35m[2020-09-03:05:43:26:INFO] Determined delimiter of CSV input is ','\u001b[0m\n",
      "\u001b[34m[2020-09-03:05:43:29:INFO] Determined delimiter of CSV input is ','\u001b[0m\n",
      "\u001b[35m[2020-09-03:05:43:29:INFO] Determined delimiter of CSV input is ','\u001b[0m\n",
      "\u001b[34m[2020-09-03:05:43:29:INFO] Sniff delimiter as ','\u001b[0m\n",
      "\u001b[34m[2020-09-03:05:43:29:INFO] Determined delimiter of CSV input is ','\u001b[0m\n",
      "\u001b[35m[2020-09-03:05:43:29:INFO] Sniff delimiter as ','\u001b[0m\n",
      "\u001b[35m[2020-09-03:05:43:29:INFO] Determined delimiter of CSV input is ','\u001b[0m\n",
      "\u001b[34m[2020-09-03:05:43:31:INFO] Sniff delimiter as ','\u001b[0m\n",
      "\u001b[34m[2020-09-03:05:43:31:INFO] Determined delimiter of CSV input is ','\u001b[0m\n",
      "\u001b[35m[2020-09-03:05:43:31:INFO] Sniff delimiter as ','\u001b[0m\n",
      "\u001b[35m[2020-09-03:05:43:31:INFO] Determined delimiter of CSV input is ','\u001b[0m\n",
      "\u001b[34m[2020-09-03:05:43:31:INFO] Sniff delimiter as ','\u001b[0m\n",
      "\u001b[34m[2020-09-03:05:43:31:INFO] Determined delimiter of CSV input is ','\u001b[0m\n",
      "\u001b[34m[2020-09-03:05:43:31:INFO] Sniff delimiter as ','\u001b[0m\n",
      "\u001b[34m[2020-09-03:05:43:31:INFO] Determined delimiter of CSV input is ','\u001b[0m\n",
      "\u001b[34m[2020-09-03:05:43:31:INFO] Sniff delimiter as ','\u001b[0m\n",
      "\u001b[34m[2020-09-03:05:43:31:INFO] Determined delimiter of CSV input is ','\u001b[0m\n",
      "\u001b[35m[2020-09-03:05:43:31:INFO] Sniff delimiter as ','\u001b[0m\n",
      "\u001b[35m[2020-09-03:05:43:31:INFO] Determined delimiter of CSV input is ','\u001b[0m\n",
      "\u001b[35m[2020-09-03:05:43:31:INFO] Sniff delimiter as ','\u001b[0m\n",
      "\u001b[35m[2020-09-03:05:43:31:INFO] Determined delimiter of CSV input is ','\u001b[0m\n",
      "\u001b[35m[2020-09-03:05:43:31:INFO] Sniff delimiter as ','\u001b[0m\n",
      "\u001b[35m[2020-09-03:05:43:31:INFO] Determined delimiter of CSV input is ','\u001b[0m\n",
      "\u001b[34m[2020-09-03:05:43:33:INFO] Sniff delimiter as ','\u001b[0m\n",
      "\u001b[34m[2020-09-03:05:43:33:INFO] Determined delimiter of CSV input is ','\u001b[0m\n",
      "\u001b[34m[2020-09-03:05:43:33:INFO] Sniff delimiter as ','\u001b[0m\n",
      "\u001b[34m[2020-09-03:05:43:33:INFO] Determined delimiter of CSV input is ','\u001b[0m\n",
      "\u001b[34m[2020-09-03:05:43:33:INFO] Sniff delimiter as ','\u001b[0m\n",
      "\u001b[34m[2020-09-03:05:43:33:INFO] Determined delimiter of CSV input is ','\u001b[0m\n",
      "\u001b[35m[2020-09-03:05:43:33:INFO] Sniff delimiter as ','\u001b[0m\n",
      "\u001b[35m[2020-09-03:05:43:33:INFO] Determined delimiter of CSV input is ','\u001b[0m\n",
      "\u001b[35m[2020-09-03:05:43:33:INFO] Sniff delimiter as ','\u001b[0m\n",
      "\u001b[35m[2020-09-03:05:43:33:INFO] Determined delimiter of CSV input is ','\u001b[0m\n",
      "\u001b[35m[2020-09-03:05:43:33:INFO] Sniff delimiter as ','\u001b[0m\n",
      "\u001b[35m[2020-09-03:05:43:33:INFO] Determined delimiter of CSV input is ','\u001b[0m\n",
      "\u001b[34m[2020-09-03:05:43:34:INFO] Sniff delimiter as ','\u001b[0m\n",
      "\u001b[34m[2020-09-03:05:43:34:INFO] Determined delimiter of CSV input is ','\u001b[0m\n",
      "\u001b[35m[2020-09-03:05:43:34:INFO] Sniff delimiter as ','\u001b[0m\n",
      "\u001b[35m[2020-09-03:05:43:34:INFO] Determined delimiter of CSV input is ','\u001b[0m\n",
      "\u001b[34m[2020-09-03:05:43:35:INFO] Sniff delimiter as ','\u001b[0m\n",
      "\u001b[34m[2020-09-03:05:43:35:INFO] Determined delimiter of CSV input is ','\u001b[0m\n",
      "\u001b[34m[2020-09-03:05:43:36:INFO] Sniff delimiter as ','\u001b[0m\n",
      "\u001b[34m[2020-09-03:05:43:36:INFO] Determined delimiter of CSV input is ','\u001b[0m\n",
      "\u001b[35m[2020-09-03:05:43:35:INFO] Sniff delimiter as ','\u001b[0m\n",
      "\u001b[35m[2020-09-03:05:43:35:INFO] Determined delimiter of CSV input is ','\u001b[0m\n",
      "\u001b[35m[2020-09-03:05:43:36:INFO] Sniff delimiter as ','\u001b[0m\n",
      "\u001b[35m[2020-09-03:05:43:36:INFO] Determined delimiter of CSV input is ','\u001b[0m\n",
      "\u001b[34m[2020-09-03:05:43:36:INFO] Sniff delimiter as ','\u001b[0m\n",
      "\u001b[34m[2020-09-03:05:43:36:INFO] Determined delimiter of CSV input is ','\u001b[0m\n",
      "\u001b[34m[2020-09-03:05:43:36:INFO] Sniff delimiter as ','\u001b[0m\n",
      "\u001b[34m[2020-09-03:05:43:36:INFO] Determined delimiter of CSV input is ','\u001b[0m\n",
      "\u001b[35m[2020-09-03:05:43:36:INFO] Sniff delimiter as ','\u001b[0m\n",
      "\u001b[35m[2020-09-03:05:43:36:INFO] Determined delimiter of CSV input is ','\u001b[0m\n",
      "\u001b[35m[2020-09-03:05:43:36:INFO] Sniff delimiter as ','\u001b[0m\n",
      "\u001b[35m[2020-09-03:05:43:36:INFO] Determined delimiter of CSV input is ','\u001b[0m\n"
     ]
    },
    {
     "name": "stdout",
     "output_type": "stream",
     "text": [
      "\u001b[34m[2020-09-03:05:43:38:INFO] Sniff delimiter as ','\u001b[0m\n",
      "\u001b[34m[2020-09-03:05:43:38:INFO] Determined delimiter of CSV input is ','\u001b[0m\n",
      "\u001b[35m[2020-09-03:05:43:38:INFO] Sniff delimiter as ','\u001b[0m\n",
      "\u001b[35m[2020-09-03:05:43:38:INFO] Determined delimiter of CSV input is ','\u001b[0m\n",
      "\u001b[34m[2020-09-03:05:43:39:INFO] Sniff delimiter as ','\u001b[0m\n",
      "\u001b[34m[2020-09-03:05:43:39:INFO] Determined delimiter of CSV input is ','\u001b[0m\n",
      "\u001b[35m[2020-09-03:05:43:39:INFO] Sniff delimiter as ','\u001b[0m\n",
      "\u001b[35m[2020-09-03:05:43:39:INFO] Determined delimiter of CSV input is ','\u001b[0m\n",
      "\u001b[34m[2020-09-03:05:43:40:INFO] Sniff delimiter as ','\u001b[0m\n",
      "\u001b[34m[2020-09-03:05:43:40:INFO] Determined delimiter of CSV input is ','\u001b[0m\n",
      "\u001b[34m[2020-09-03:05:43:40:INFO] Sniff delimiter as ','\u001b[0m\n",
      "\u001b[34m[2020-09-03:05:43:40:INFO] Determined delimiter of CSV input is ','\u001b[0m\n",
      "\u001b[34m[2020-09-03:05:43:41:INFO] Sniff delimiter as ','\u001b[0m\n",
      "\u001b[34m[2020-09-03:05:43:41:INFO] Determined delimiter of CSV input is ','\u001b[0m\n",
      "\u001b[35m[2020-09-03:05:43:40:INFO] Sniff delimiter as ','\u001b[0m\n",
      "\u001b[35m[2020-09-03:05:43:40:INFO] Determined delimiter of CSV input is ','\u001b[0m\n",
      "\u001b[35m[2020-09-03:05:43:40:INFO] Sniff delimiter as ','\u001b[0m\n",
      "\u001b[35m[2020-09-03:05:43:40:INFO] Determined delimiter of CSV input is ','\u001b[0m\n",
      "\u001b[35m[2020-09-03:05:43:41:INFO] Sniff delimiter as ','\u001b[0m\n",
      "\u001b[35m[2020-09-03:05:43:41:INFO] Determined delimiter of CSV input is ','\u001b[0m\n",
      "\u001b[34m[2020-09-03:05:43:41:INFO] Sniff delimiter as ','\u001b[0m\n",
      "\u001b[34m[2020-09-03:05:43:41:INFO] Determined delimiter of CSV input is ','\u001b[0m\n",
      "\u001b[35m[2020-09-03:05:43:41:INFO] Sniff delimiter as ','\u001b[0m\n",
      "\u001b[35m[2020-09-03:05:43:41:INFO] Determined delimiter of CSV input is ','\u001b[0m\n",
      "\u001b[34m[2020-09-03:05:43:43:INFO] Sniff delimiter as ','\u001b[0m\n",
      "\u001b[34m[2020-09-03:05:43:43:INFO] Determined delimiter of CSV input is ','\u001b[0m\n",
      "\u001b[34m[2020-09-03:05:43:43:INFO] Sniff delimiter as ','\u001b[0m\n",
      "\u001b[34m[2020-09-03:05:43:43:INFO] Determined delimiter of CSV input is ','\u001b[0m\n",
      "\u001b[34m[2020-09-03:05:43:43:INFO] Sniff delimiter as ','\u001b[0m\n",
      "\u001b[34m[2020-09-03:05:43:43:INFO] Determined delimiter of CSV input is ','\u001b[0m\n",
      "\u001b[34m[2020-09-03:05:43:43:INFO] Sniff delimiter as ','\u001b[0m\n",
      "\u001b[34m[2020-09-03:05:43:43:INFO] Determined delimiter of CSV input is ','\u001b[0m\n",
      "\u001b[35m[2020-09-03:05:43:43:INFO] Sniff delimiter as ','\u001b[0m\n",
      "\u001b[35m[2020-09-03:05:43:43:INFO] Determined delimiter of CSV input is ','\u001b[0m\n",
      "\u001b[35m[2020-09-03:05:43:43:INFO] Sniff delimiter as ','\u001b[0m\n",
      "\u001b[35m[2020-09-03:05:43:43:INFO] Determined delimiter of CSV input is ','\u001b[0m\n",
      "\u001b[35m[2020-09-03:05:43:43:INFO] Sniff delimiter as ','\u001b[0m\n",
      "\u001b[35m[2020-09-03:05:43:43:INFO] Determined delimiter of CSV input is ','\u001b[0m\n",
      "\u001b[35m[2020-09-03:05:43:43:INFO] Sniff delimiter as ','\u001b[0m\n",
      "\u001b[35m[2020-09-03:05:43:43:INFO] Determined delimiter of CSV input is ','\u001b[0m\n",
      "\u001b[34m[2020-09-03:05:43:45:INFO] Sniff delimiter as ','\u001b[0m\n",
      "\u001b[34m[2020-09-03:05:43:45:INFO] Determined delimiter of CSV input is ','\u001b[0m\n",
      "\u001b[34m[2020-09-03:05:43:45:INFO] Sniff delimiter as ','\u001b[0m\n",
      "\u001b[34m[2020-09-03:05:43:45:INFO] Determined delimiter of CSV input is ','\u001b[0m\n",
      "\u001b[35m[2020-09-03:05:43:45:INFO] Sniff delimiter as ','\u001b[0m\n",
      "\u001b[35m[2020-09-03:05:43:45:INFO] Determined delimiter of CSV input is ','\u001b[0m\n",
      "\u001b[35m[2020-09-03:05:43:45:INFO] Sniff delimiter as ','\u001b[0m\n",
      "\u001b[35m[2020-09-03:05:43:45:INFO] Determined delimiter of CSV input is ','\u001b[0m\n",
      "\n"
     ]
    }
   ],
   "source": [
    "xgb_transformer.wait()"
   ]
  },
  {
   "cell_type": "markdown",
   "metadata": {},
   "source": [
    "Now the transform job has executed and the result, the estimated sentiment of each review, has been saved on S3. Since we would rather work on this file locally we can perform a bit of notebook magic to copy the file to the `data_dir`."
   ]
  },
  {
   "cell_type": "code",
   "execution_count": 27,
   "metadata": {},
   "outputs": [
    {
     "name": "stdout",
     "output_type": "stream",
     "text": [
      "Completed 256.0 KiB/370.0 KiB (3.3 MiB/s) with 1 file(s) remaining\r",
      "Completed 370.0 KiB/370.0 KiB (4.6 MiB/s) with 1 file(s) remaining\r",
      "download: s3://sagemaker-ap-northeast-2-714815517904/xgboost-2020-09-03-05-38-39-301/test.csv.out to ../data/sentiment_web_app/test.csv.out\r\n"
     ]
    }
   ],
   "source": [
    "!aws s3 cp --recursive $xgb_transformer.output_path $data_dir"
   ]
  },
  {
   "cell_type": "markdown",
   "metadata": {},
   "source": [
    "The last step is now to read in the output from our model, convert the output to something a little more usable, in this case we want the sentiment to be either `1` (positive) or `0` (negative), and then compare to the ground truth labels."
   ]
  },
  {
   "cell_type": "code",
   "execution_count": 28,
   "metadata": {},
   "outputs": [],
   "source": [
    "predictions = pd.read_csv(os.path.join(data_dir, 'test.csv.out'), header=None)\n",
    "predictions = [round(num) for num in predictions.squeeze().values]"
   ]
  },
  {
   "cell_type": "code",
   "execution_count": 29,
   "metadata": {},
   "outputs": [
    {
     "data": {
      "text/plain": [
       "0.85952"
      ]
     },
     "execution_count": 29,
     "metadata": {},
     "output_type": "execute_result"
    }
   ],
   "source": [
    "from sklearn.metrics import accuracy_score\n",
    "accuracy_score(test_y, predictions)"
   ]
  },
  {
   "cell_type": "markdown",
   "metadata": {},
   "source": [
    "## Step 6: Deploying the model\n",
    "\n",
    "Once we construct and fit our model, SageMaker stores the resulting model artifacts and we can use those to deploy an endpoint (inference code). To see this, look in the SageMaker console and you should see that a model has been created along with a link to the S3 location where the model artifacts have been stored.\n",
    "\n",
    "Deploying an endpoint is a lot like training the model with a few important differences. The first is that a deployed model doesn't change the model artifacts, so as you send it various testing instances the model won't change. Another difference is that since we aren't performing a fixed computation, as we were in the training step or while performing a batch transform, the compute instance that gets started stays running until we tell it to stop. This is important to note as if we forget and leave it running we will be charged the entire time.\n",
    "\n",
    "In other words **If you are no longer using a deployed endpoint, shut it down!**"
   ]
  },
  {
   "cell_type": "code",
   "execution_count": 30,
   "metadata": {},
   "outputs": [
    {
     "name": "stderr",
     "output_type": "stream",
     "text": [
      "Parameter image will be renamed to image_uri in SageMaker Python SDK v2.\n",
      "Using already existing model: xgboost-2020-09-03-05-30-54-428\n"
     ]
    },
    {
     "name": "stdout",
     "output_type": "stream",
     "text": [
      "-------------!"
     ]
    }
   ],
   "source": [
    "xgb_predictor = xgb.deploy(initial_instance_count = 1, instance_type = 'ml.m4.xlarge')"
   ]
  },
  {
   "cell_type": "markdown",
   "metadata": {},
   "source": [
    "### Testing the model (again)\n",
    "\n",
    "Now that we have deployed our endpoint, we can send the testing data to it and get back the inference results. We already did this earlier using the batch transform functionality of SageMaker, however, we will test our model again using the newly deployed endpoint so that we can make sure that it works properly and to get a bit of a feel for how the endpoint works.\n",
    "\n",
    "When using the created endpoint it is important to know that we are limited in the amount of information we can send in each call so we need to break the testing data up into chunks and then send each chunk. Also, we need to serialize our data before we send it to the endpoint to ensure that our data is transmitted properly. Fortunately, SageMaker can do the serialization part for us provided we tell it the format of our data."
   ]
  },
  {
   "cell_type": "code",
   "execution_count": 31,
   "metadata": {},
   "outputs": [],
   "source": [
    "from sagemaker.predictor import csv_serializer\n",
    "\n",
    "# We need to tell the endpoint what format the data we are sending is in so that SageMaker can perform the serialization.\n",
    "xgb_predictor.content_type = 'text/csv'\n",
    "xgb_predictor.serializer = csv_serializer"
   ]
  },
  {
   "cell_type": "code",
   "execution_count": 32,
   "metadata": {},
   "outputs": [],
   "source": [
    "# We split the data into chunks and send each chunk seperately, accumulating the results.\n",
    "\n",
    "def predict(data, rows=512):\n",
    "    split_array = np.array_split(data, int(data.shape[0] / float(rows) + 1))\n",
    "    predictions = ''\n",
    "    for array in split_array:\n",
    "        predictions = ','.join([predictions, xgb_predictor.predict(array).decode('utf-8')])\n",
    "    \n",
    "    return np.fromstring(predictions[1:], sep=',')"
   ]
  },
  {
   "cell_type": "code",
   "execution_count": 33,
   "metadata": {},
   "outputs": [],
   "source": [
    "test_X = pd.read_csv(os.path.join(data_dir, 'test.csv'), header=None).values\n",
    "\n",
    "predictions = predict(test_X)\n",
    "predictions = [round(num) for num in predictions]"
   ]
  },
  {
   "cell_type": "markdown",
   "metadata": {},
   "source": [
    "Lastly, we check to see what the accuracy of our model is."
   ]
  },
  {
   "cell_type": "code",
   "execution_count": 34,
   "metadata": {},
   "outputs": [
    {
     "data": {
      "text/plain": [
       "0.85952"
      ]
     },
     "execution_count": 34,
     "metadata": {},
     "output_type": "execute_result"
    }
   ],
   "source": [
    "from sklearn.metrics import accuracy_score\n",
    "accuracy_score(test_y, predictions)"
   ]
  },
  {
   "cell_type": "markdown",
   "metadata": {},
   "source": [
    "And the results here should agree with the model testing that we did earlier using the batch transform job.\n",
    "\n",
    "### Cleaning up\n",
    "\n",
    "Now that we've determined that deploying our model works as expected, we are going to shut it down. Remember that the longer the endpoint is left running, the greater the cost and since we have a bit more work to do before we are able to use our endpoint with our simple web app, we should shut everything down."
   ]
  },
  {
   "cell_type": "code",
   "execution_count": 35,
   "metadata": {},
   "outputs": [],
   "source": [
    "xgb_predictor.delete_endpoint()"
   ]
  },
  {
   "cell_type": "markdown",
   "metadata": {},
   "source": [
    "## Step 7: Putting our model to work\n",
    "\n",
    "As we've mentioned a few times now, our goal is to have our model deployed and then access it using a very simple web app. The intent is for this web app to take some user submitted data (a review), send it off to our endpoint (the model) and then display the result.\n",
    "\n",
    "However, there is a small catch. Currently the only way we can access the endpoint to send it data is using the SageMaker API. We can, if we wish, expose the actual URL that our model's endpoint is receiving data from, however, if we just send it data ourselves we will not get anything in return. This is because the endpoint created by SageMaker requires the entity accessing it have the correct permissions. So, we would need to somehow authenticate our web app with AWS.\n",
    "\n",
    "Having a website that authenticates to AWS seems a bit beyond the scope of this lesson so we will opt for an alternative approach. Namely, we will create a new endpoint which does not require authentication and which acts as a proxy for the SageMaker endpoint.\n",
    "\n",
    "As an additional constraint, we will try to avoid doing any data processing in the web app itself. Remember that when we constructed and tested our model we started with a movie review, then we simplified it by removing any html formatting and punctuation, then we constructed a bag of words embedding and the resulting vector is what we sent to our model. All of this needs to be done to our user input as well.\n",
    "\n",
    "Fortunately we can do all of this data processing in the backend, using Amazon's Lambda service.\n",
    "\n",
    "<img src=\"Web App Diagram.svg\">\n",
    "\n",
    "The diagram above gives an overview of how the various services will work together. On the far right is the model which we trained above and which will be deployed using SageMaker. On the far left is our web app that collects a user's movie review, sends it off and expects a positive or negative sentiment in return.\n",
    "\n",
    "In the middle is where some of the magic happens. We will construct a Lambda function, which you can think of as a straightforward Python function that can be executed whenever a specified event occurs. This Python function will do the data processing we need to perform on a user submitted review. In addition, we will give this function permission to send and recieve data from a SageMaker endpoint.\n",
    "\n",
    "Lastly, the method we will use to execute the Lambda function is a new endpoint that we will create using API Gateway. This endpoint will be a url that listens for data to be sent to it. Once it gets some data it will pass that data on to the Lambda function and then return whatever the Lambda function returns. Essentially it will act as an interface that lets our web app communicate with the Lambda function.\n",
    "\n",
    "### Processing a single review\n",
    "\n",
    "For now, suppose we are given a movie review by our user in the form of a string, like so:"
   ]
  },
  {
   "cell_type": "code",
   "execution_count": 55,
   "metadata": {},
   "outputs": [],
   "source": [
    "test_review = \"Nothing but a disgusting materialistic pageant of glistening abed remote control greed zombies, totally devoid of any heart or heat. A romantic comedy that has zero romantic chemestry and zero laughs!\""
   ]
  },
  {
   "cell_type": "markdown",
   "metadata": {},
   "source": [
    "How do we go from this string to the bag of words feature vector that is expected by our model?\n",
    "\n",
    "If we recall at the beginning of this notebook, the first step is to remove any unnecessary characters using the `review_to_words` method. Remember that we intentionally did this in a very simplistic way. This is because we are going to have to copy this method to our (eventual) Lambda function (we will go into more detail later) and this means it needs to be rather simplistic."
   ]
  },
  {
   "cell_type": "code",
   "execution_count": 56,
   "metadata": {},
   "outputs": [
    {
     "name": "stdout",
     "output_type": "stream",
     "text": [
      "nothing but a disgusting materialistic pageant of glistening abed remote control greed zombies totally devoid of any heart or heat a romantic comedy that has zero romantic chemestry and zero laughs\n"
     ]
    }
   ],
   "source": [
    "test_words = review_to_words(test_review)\n",
    "print(test_words)"
   ]
  },
  {
   "cell_type": "markdown",
   "metadata": {},
   "source": [
    "Next, we need to construct a bag of words embedding of the `test_words` string. To do this, remember that a bag of words embedding uses a `vocabulary` consisting of the most frequently appearing words in a set of documents. Then, for each word in the vocabulary we record the number of times that word appears in `test_words`. We constructed the `vocabulary` earlier using the training set for our problem so encoding `test_words` is relatively straightforward."
   ]
  },
  {
   "cell_type": "code",
   "execution_count": 57,
   "metadata": {},
   "outputs": [],
   "source": [
    "def bow_encoding(words, vocabulary):\n",
    "    bow = [0] * len(vocabulary) # Start by setting the count for each word in the vocabulary to zero.\n",
    "    for word in words.split():  # For each word in the string\n",
    "        if word in vocabulary:  # If the word is one that occurs in the vocabulary, increase its count.\n",
    "            bow[vocabulary[word]] += 1\n",
    "    return bow"
   ]
  },
  {
   "cell_type": "code",
   "execution_count": 58,
   "metadata": {},
   "outputs": [
    {
     "name": "stdout",
     "output_type": "stream",
     "text": [
      "[0, 0, 0, 0, 0, 0, 0, 0, 0, 0, 0, 0, 0, 0, 0, 0, 0, 0, 0, 0, 0, 0, 0, 0, 0, 0, 0, 0, 0, 0, 0, 0, 0, 0, 0, 0, 0, 0, 0, 0, 0, 0, 0, 0, 0, 0, 0, 0, 0, 0, 0, 0, 0, 0, 0, 0, 0, 0, 0, 0, 0, 0, 0, 0, 0, 0, 0, 0, 0, 0, 0, 0, 0, 0, 0, 0, 0, 0, 0, 0, 0, 0, 0, 0, 0, 0, 0, 0, 0, 0, 0, 0, 0, 0, 0, 0, 0, 0, 0, 0, 0, 0, 0, 0, 0, 0, 0, 0, 0, 0, 0, 0, 0, 0, 0, 0, 0, 0, 0, 0, 0, 0, 0, 0, 0, 0, 0, 0, 0, 0, 0, 0, 0, 0, 0, 0, 0, 0, 0, 0, 0, 0, 0, 0, 0, 0, 0, 0, 0, 0, 0, 0, 0, 0, 0, 0, 0, 0, 0, 0, 0, 0, 0, 0, 0, 0, 0, 0, 0, 0, 0, 0, 0, 0, 0, 0, 0, 0, 0, 0, 0, 0, 0, 0, 0, 0, 0, 0, 0, 0, 0, 0, 0, 0, 0, 0, 0, 0, 0, 0, 0, 0, 0, 0, 0, 0, 0, 0, 0, 0, 0, 0, 0, 0, 0, 0, 0, 0, 0, 0, 0, 0, 0, 0, 0, 1, 0, 0, 0, 0, 0, 0, 0, 0, 0, 0, 0, 0, 0, 0, 0, 0, 0, 0, 0, 0, 0, 0, 0, 0, 0, 0, 0, 0, 1, 0, 0, 0, 0, 0, 0, 0, 0, 0, 0, 0, 0, 0, 0, 0, 0, 0, 0, 0, 0, 0, 0, 0, 0, 0, 0, 0, 0, 0, 0, 0, 0, 0, 0, 0, 0, 0, 0, 0, 0, 0, 0, 0, 0, 0, 0, 0, 0, 0, 0, 0, 0, 0, 0, 0, 0, 0, 0, 0, 0, 0, 0, 0, 0, 0, 0, 0, 0, 0, 0, 0, 0, 0, 0, 0, 0, 0, 0, 0, 0, 0, 0, 0, 0, 0, 0, 0, 0, 0, 0, 0, 0, 0, 0, 0, 0, 0, 0, 0, 0, 0, 0, 0, 0, 0, 0, 0, 0, 0, 0, 0, 0, 0, 0, 0, 0, 0, 0, 0, 0, 0, 0, 0, 0, 0, 0, 0, 0, 0, 0, 0, 0, 0, 0, 0, 0, 0, 0, 0, 0, 0, 0, 0, 0, 0, 0, 0, 0, 0, 0, 0, 0, 0, 0, 0, 0, 0, 0, 0, 0, 0, 0, 0, 0, 0, 0, 0, 0, 0, 0, 0, 0, 0, 0, 0, 0, 0, 0, 0, 0, 0, 0, 0, 0, 0, 0, 0, 0, 0, 0, 0, 0, 0, 0, 0, 0, 0, 0, 0, 0, 0, 0, 0, 0, 0, 0, 0, 0, 0, 0, 0, 0, 0, 0, 0, 0, 0, 0, 0, 0, 0, 0, 0, 0, 0, 0, 0, 0, 0, 0, 0, 0, 0, 0, 0, 0, 0, 0, 0, 0, 0, 0, 0, 0, 0, 0, 0, 0, 0, 0, 0, 0, 0, 0, 0, 0, 0, 0, 0, 0, 0, 0, 0, 0, 0, 0, 0, 0, 0, 0, 0, 0, 0, 0, 0, 0, 0, 0, 0, 0, 0, 0, 0, 0, 0, 0, 0, 0, 0, 0, 0, 0, 0, 0, 0, 0, 0, 0, 0, 0, 0, 0, 0, 0, 0, 0, 0, 0, 0, 0, 0, 0, 0, 0, 0, 0, 0, 0, 0, 0, 0, 0, 0, 0, 0, 0, 0, 0, 0, 0, 0, 0, 0, 0, 0, 0, 0, 0, 0, 0, 0, 0, 0, 0, 0, 0, 0, 0, 0, 0, 0, 0, 0, 0, 0, 0, 0, 0, 0, 0, 0, 0, 0, 0, 0, 0, 0, 0, 0, 0, 0, 0, 0, 0, 0, 0, 0, 0, 1, 0, 0, 0, 0, 0, 0, 0, 0, 0, 0, 0, 0, 0, 0, 0, 0, 0, 0, 0, 0, 0, 0, 0, 0, 0, 0, 0, 0, 0, 0, 0, 0, 0, 0, 0, 0, 0, 0, 0, 0, 0, 0, 0, 0, 0, 0, 0, 0, 0, 0, 0, 0, 0, 0, 0, 0, 0, 0, 0, 0, 0, 0, 0, 0, 0, 0, 0, 0, 0, 0, 0, 0, 0, 0, 0, 0, 0, 0, 0, 0, 0, 0, 0, 0, 0, 0, 0, 0, 0, 0, 0, 0, 0, 0, 0, 0, 0, 0, 0, 0, 0, 0, 0, 0, 0, 0, 0, 0, 0, 0, 0, 0, 0, 0, 0, 0, 0, 0, 0, 0, 0, 0, 0, 0, 0, 0, 0, 0, 0, 0, 0, 0, 0, 0, 0, 0, 0, 0, 0, 0, 0, 0, 0, 0, 0, 0, 0, 0, 0, 0, 0, 0, 0, 0, 0, 0, 0, 0, 0, 0, 0, 0, 0, 0, 0, 0, 0, 0, 0, 0, 0, 0, 0, 0, 0, 0, 0, 0, 0, 0, 0, 0, 0, 0, 0, 0, 0, 0, 0, 0, 0, 0, 0, 0, 0, 0, 0, 0, 0, 0, 0, 0, 0, 0, 0, 0, 0, 0, 0, 0, 0, 0, 0, 0, 0, 0, 0, 0, 0, 0, 0, 0, 0, 0, 0, 0, 0, 0, 0, 0, 0, 0, 0, 0, 0, 0, 0, 0, 0, 0, 0, 0, 0, 0, 0, 0, 0, 0, 0, 0, 0, 0, 0, 1, 0, 0, 0, 0, 0, 0, 0, 0, 0, 0, 0, 0, 0, 0, 0, 0, 0, 0, 0, 0, 0, 0, 0, 0, 0, 0, 0, 0, 0, 0, 0, 0, 0, 0, 0, 0, 0, 0, 0, 0, 0, 0, 0, 0, 0, 0, 0, 0, 0, 0, 0, 0, 0, 0, 0, 0, 0, 0, 0, 0, 0, 0, 0, 0, 0, 0, 0, 0, 0, 0, 0, 0, 0, 0, 0, 0, 0, 0, 0, 0, 0, 0, 0, 0, 0, 0, 1, 0, 0, 0, 0, 0, 0, 0, 0, 0, 0, 0, 0, 0, 0, 0, 0, 0, 0, 0, 0, 0, 0, 0, 0, 0, 0, 0, 0, 0, 0, 0, 0, 0, 0, 0, 0, 0, 0, 0, 0, 0, 0, 0, 0, 0, 0, 0, 0, 0, 0, 0, 0, 0, 0, 0, 0, 0, 0, 0, 0, 0, 0, 0, 0, 0, 0, 0, 0, 0, 0, 0, 0, 0, 0, 0, 0, 0, 0, 0, 0, 0, 0, 0, 0, 0, 0, 0, 0, 0, 0, 0, 0, 0, 0, 0, 0, 0, 0, 0, 0, 0, 0, 0, 0, 0, 0, 0, 0, 0, 0, 0, 0, 0, 0, 0, 0, 0, 0, 0, 0, 0, 0, 0, 0, 0, 0, 0, 0, 0, 0, 0, 0, 0, 0, 0, 0, 0, 0, 0, 0, 0, 0, 0, 0, 0, 0, 0, 0, 0, 0, 0, 0, 0, 0, 0, 0, 0, 0, 0, 0, 0, 0, 0, 0, 0, 0, 0, 0, 0, 0, 0, 0, 0, 0, 0, 0, 0, 0, 0, 0, 0, 0, 0, 0, 0, 0, 0, 0, 0, 0, 0, 0, 0, 0, 0, 0, 0, 0, 0, 0, 0, 0, 0, 0, 0, 0, 0, 0, 0, 0, 0, 0, 0, 0, 0, 0, 0, 0, 0, 0, 0, 0, 0, 0, 0, 0, 0, 0, 0, 0, 0, 0, 0, 0, 0, 0, 0, 0, 0, 0, 0, 0, 0, 0, 0, 0, 0, 0, 0, 0, 0, 1, 0, 0, 0, 0, 0, 0, 0, 0, 0, 0, 0, 0, 0, 0, 0, 0, 0, 0, 0, 0, 0, 0, 0, 0, 0, 0, 0, 0, 0, 0, 0, 0, 0, 0, 0, 0, 0, 0, 0, 0, 0, 0, 0, 0, 0, 0, 0, 0, 0, 0, 0, 0, 0, 0, 0, 1, 0, 0, 0, 0, 0, 0, 0, 0, 0, 0, 0, 0, 0, 0, 0, 0, 0, 0, 0, 0, 0, 0, 0, 0, 0, 0, 0, 0, 0, 0, 0, 0, 0, 0, 0, 0, 0, 0, 0, 0, 0, 0, 0, 0, 0, 0, 0, 0, 0, 0, 0, 0, 0, 0, 0, 0, 0, 0, 0, 0, 0, 0, 0, 0, 0, 0, 0, 0, 0, 0, 0, 0, 0, 0, 0, 0, 0, 0, 0, 0, 0, 0, 0, 0, 0, 0, 0, 0, 0, 0, 0, 0, 0, 0, 0, 0, 0, 0, 0, 0, 0, 0, 0, 0, 0, 0, 0, 0, 0, 0, 0, 0, 0, 0, 0, 0, 0, 0, 0, 0, 0, 0, 0, 0, 0, 0, 0, 0, 0, 0, 0, 0, 0, 0, 0, 0, 0, 0, 0, 0, 0, 0, 0, 0, 0, 0, 0, 0, 0, 0, 0, 0, 0, 0, 0, 0, 0, 0, 0, 0, 0, 0, 0, 0, 0, 0, 0, 0, 0, 0, 0, 0, 0, 0, 0, 0, 0, 0, 0, 0, 0, 0, 0, 0, 0, 0, 0, 0, 0, 0, 0, 0, 0, 0, 0, 0, 0, 0, 0, 0, 0, 0, 0, 0, 0, 0, 0, 0, 0, 0, 0, 0, 0, 0, 0, 0, 0, 0, 0, 0, 0, 0, 0, 0, 0, 0, 0, 0, 0, 0, 0, 0, 0, 0, 0, 0, 0, 0, 0, 0, 0, 0, 0, 0, 0, 0, 0, 0, 0, 0, 0, 0, 0, 0, 0, 0, 0, 0, 0, 0, 0, 0, 0, 0, 0, 0, 0, 0, 0, 0, 0, 0, 0, 0, 0, 0, 0, 0, 0, 0, 0, 0, 0, 0, 0, 0, 0, 0, 0, 0, 0, 0, 0, 0, 0, 0, 0, 0, 0, 0, 0, 0, 0, 0, 0, 0, 0, 0, 0, 0, 0, 0, 0, 0, 0, 0, 0, 0, 0, 0, 0, 0, 0, 0, 0, 0, 0, 0, 0, 0, 0, 0, 0, 0, 0, 0, 0, 0, 0, 0, 0, 0, 0, 0, 0, 0, 0, 0, 0, 0, 0, 0, 0, 0, 0, 0, 0, 0, 0, 0, 0, 0, 0, 0, 0, 0, 0, 0, 0, 0, 0, 0, 0, 0, 0, 0, 0, 0, 0, 0, 0, 0, 0, 0, 0, 0, 0, 0, 0, 0, 0, 0, 0, 0, 0, 0, 0, 0, 0, 0, 0, 0, 0, 0, 0, 0, 0, 0, 0, 0, 0, 0, 0, 0, 0, 0, 0, 0, 0, 0, 0, 0, 0, 0, 0, 0, 0, 0, 0, 0, 0, 0, 0, 0, 0, 0, 0, 0, 0, 0, 0, 0, 0, 0, 0, 0, 0, 0, 0, 0, 0, 0, 0, 0, 0, 0, 0, 0, 0, 0, 0, 0, 0, 0, 0, 0, 0, 0, 0, 0, 0, 0, 0, 0, 0, 0, 0, 0, 0, 0, 0, 0, 0, 0, 0, 0, 0, 0, 0, 0, 0, 0, 0, 0, 0, 0, 0, 0, 0, 0, 0, 0, 0, 0, 0, 0, 0, 0, 0, 0, 0, 0, 0, 0, 0, 0, 0, 0, 0, 0, 0, 0, 0, 0, 0, 0, 0, 0, 0, 0, 0, 0, 0, 0, 0, 0, 0, 0, 0, 0, 0, 0, 0, 0, 0, 0, 0, 0, 0, 0, 0, 0, 0, 0, 0, 0, 0, 0, 0, 0, 0, 0, 0, 0, 0, 0, 0, 0, 0, 0, 0, 0, 0, 0, 0, 0, 0, 0, 0, 0, 0, 0, 0, 0, 0, 0, 0, 0, 0, 0, 0, 0, 0, 0, 0, 0, 0, 0, 0, 0, 0, 0, 0, 0, 0, 0, 0, 0, 0, 0, 0, 0, 0, 0, 0, 0, 0, 0, 0, 0, 0, 0, 0, 0, 0, 0, 0, 0, 0, 0, 0, 0, 0, 0, 0, 0, 0, 0, 0, 0, 0, 0, 0, 0, 0, 0, 0, 0, 0, 0, 0, 0, 0, 0, 0, 0, 0, 0, 0, 0, 0, 0, 0, 0, 0, 0, 0, 0, 0, 0, 0, 0, 0, 0, 0, 0, 0, 0, 0, 0, 0, 0, 1, 0, 0, 0, 0, 0, 0, 0, 0, 0, 0, 0, 0, 0, 0, 0, 0, 0, 0, 0, 0, 0, 0, 0, 0, 0, 0, 0, 0, 0, 0, 0, 0, 0, 0, 0, 0, 0, 0, 0, 0, 0, 0, 0, 0, 0, 0, 0, 0, 0, 0, 0, 0, 0, 0, 0, 0, 0, 0, 0, 0, 0, 0, 0, 0, 0, 0, 0, 0, 0, 0, 0, 0, 0, 0, 1, 0, 0, 0, 0, 0, 0, 0, 0, 0, 0, 0, 0, 0, 0, 0, 0, 0, 0, 0, 0, 1, 0, 0, 1, 0, 0, 0, 0, 0, 0, 0, 0, 0, 0, 0, 0, 0, 0, 0, 0, 0, 0, 0, 0, 0, 0, 0, 0, 0, 0, 0, 0, 0, 0, 0, 0, 0, 0, 0, 0, 0, 0, 0, 0, 0, 0, 0, 0, 0, 0, 0, 0, 0, 0, 0, 0, 0, 0, 0, 0, 0, 0, 0, 0, 0, 0, 0, 0, 0, 0, 0, 0, 0, 0, 0, 0, 0, 0, 0, 0, 0, 0, 0, 0, 0, 0, 0, 0, 0, 0, 0, 0, 0, 0, 0, 0, 0, 0, 0, 0, 0, 0, 0, 0, 0, 0, 0, 0, 0, 0, 0, 0, 0, 0, 0, 0, 0, 0, 0, 0, 0, 0, 0, 0, 0, 0, 0, 0, 0, 0, 0, 0, 0, 0, 0, 0, 0, 0, 0, 0, 0, 0, 0, 0, 0, 0, 0, 0, 0, 0, 0, 0, 0, 0, 0, 0, 0, 0, 0, 0, 0, 0, 0, 0, 0, 0, 0, 0, 0, 0, 0, 0, 0, 0, 0, 0, 0, 0, 0, 0, 0, 0, 0, 0, 0, 0, 0, 0, 0, 0, 0, 0, 0, 0, 0, 0, 0, 0, 0, 0, 0, 0, 0, 0, 0, 0, 0, 0, 0, 0, 0, 0, 0, 0, 0, 0, 0, 0, 0, 0, 0, 0, 0, 0, 0, 0, 0, 0, 0, 0, 0, 0, 0, 0, 0, 0, 0, 0, 0, 0, 0, 0, 0, 0, 0, 0, 0, 0, 0, 0, 0, 0, 0, 0, 0, 0, 0, 0, 0, 0, 0, 0, 0, 0, 0, 0, 0, 0, 0, 0, 0, 0, 0, 0, 0, 0, 0, 0, 0, 0, 0, 0, 0, 0, 0, 0, 0, 0, 0, 0, 0, 0, 0, 0, 0, 0, 0, 0, 0, 0, 0, 0, 0, 0, 0, 0, 0, 0, 0, 0, 0, 0, 0, 0, 0, 0, 0, 0, 0, 0, 0, 0, 0, 0, 0, 0, 0, 0, 0, 0, 0, 0, 0, 0, 0, 0, 0, 0, 0, 0, 0, 0, 0, 0, 0, 0, 0, 0, 0, 0, 0, 0, 0, 0, 0, 0, 0, 0, 0, 0, 0, 0, 0, 0, 0, 0, 0, 0, 0, 0, 0, 0, 0, 0, 0, 0, 0, 0, 0, 0, 0, 0, 0, 0, 0, 0, 0, 0, 0, 0, 0, 0, 0, 0, 0, 0, 0, 0, 0, 0, 0, 0, 0, 0, 0, 0, 0, 0, 0, 0, 0, 0, 0, 0, 0, 0, 0, 0, 0, 0, 0, 0, 0, 0, 0, 0, 0, 0, 0, 0, 0, 0, 0, 0, 0, 0, 0, 0, 0, 0, 0, 0, 0, 0, 0, 0, 0, 0, 0, 0, 0, 0, 0, 0, 0, 0, 0, 0, 0, 0, 0, 0, 0, 0, 0, 0, 0, 0, 0, 0, 0, 1, 0, 0, 0, 0, 0, 0, 0, 0, 0, 0, 0, 0, 0, 0, 0, 0, 0, 0, 0, 0, 0, 0, 0, 0, 0, 0, 0, 0, 0, 0, 0, 0, 0, 0, 0, 0, 0, 0, 0, 0, 0, 0, 0, 0, 0, 0, 0, 0, 0, 0, 0, 0, 0, 0, 0, 0, 0, 0, 0, 0, 0, 0, 0, 0, 0, 0, 0, 0, 0, 0, 0, 0, 0, 0, 0, 0, 0, 0, 0, 0, 0, 0, 0, 0, 0, 0, 0, 0, 0, 0, 0, 0, 0, 0, 0, 0, 0, 0, 0, 0, 0, 0, 0, 0, 0, 0, 0, 0, 0, 0, 0, 0, 0, 0, 0, 0, 0, 0, 0, 0, 0, 0, 0, 0, 0, 0, 0, 0, 0, 0, 0, 0, 0, 0, 0, 0, 0, 0, 0, 0, 0, 0, 0, 0, 0, 0, 0, 0, 0, 0, 0, 0, 0, 0, 0, 0, 0, 0, 0, 0, 0, 0, 0, 0, 0, 0, 0, 0, 0, 0, 0, 0, 0, 0, 0, 0, 0, 0, 0, 0, 0, 0, 0, 0, 0, 0, 0, 0, 0, 0, 0, 0, 0, 0, 0, 0, 0, 0, 0, 0, 0, 0, 0, 0, 0, 0, 0, 0, 0, 0, 0, 0, 0, 0, 0, 0, 0, 0, 0, 0, 0, 0, 0, 0, 0, 0, 0, 0, 0, 0, 0, 0, 0, 0, 0, 0, 0, 0, 0, 0, 0, 0, 0, 0, 0, 0, 0, 0, 0, 0, 0, 0, 0, 0, 0, 0, 0, 0, 0, 0, 0, 0, 0, 0, 0, 0, 0, 0, 0, 0, 0, 0, 0, 0, 0, 0, 0, 0, 0, 0, 0, 0, 0, 0, 0, 0, 0, 0, 0, 0, 0, 0, 0, 0, 0, 0, 0, 0, 0, 0, 0, 0, 0, 0, 0, 0, 0, 0, 0, 0, 0, 0, 0, 0, 0, 0, 0, 0, 0, 0, 0, 0, 0, 0, 0, 0, 0, 0, 0, 0, 0, 0, 0, 0, 0, 0, 0, 0, 0, 0, 0, 0, 0, 0, 0, 0, 0, 0, 0, 0, 0, 0, 0, 0, 0, 0, 0, 0, 0, 0, 0, 0, 0, 0, 0, 0, 0, 0, 0, 0, 0, 0, 0, 0, 0, 0, 0, 0, 0, 0, 0, 0, 0, 0, 0, 0, 0, 0, 0, 0, 0, 0, 0, 0, 0, 0, 0, 0, 0, 0, 0, 0, 0, 0, 0, 0, 0, 0, 0, 0, 0, 0, 0, 0, 0, 0, 0, 0, 0, 0, 0, 0, 0, 0, 0, 0, 0, 0, 0, 0, 0, 0, 0, 0, 0, 0, 0, 0, 0, 0, 0, 0, 0, 0, 0, 0, 0, 0, 0, 0, 0, 0, 0, 0, 0, 0, 0, 0, 0, 0, 0, 0, 0, 0, 0, 0, 0, 0, 0, 0, 0, 0, 0, 0, 0, 0, 0, 0, 0, 0, 0, 0, 0, 0, 0, 0, 0, 0, 0, 0, 0, 0, 0, 0, 0, 0, 0, 0, 0, 0, 0, 0, 0, 0, 0, 0, 0, 0, 0, 0, 0, 0, 0, 1, 0, 0, 0, 0, 0, 0, 0, 0, 0, 0, 0, 0, 0, 0, 0, 0, 0, 0, 0, 0, 0, 0, 0, 0, 0, 0, 0, 0, 0, 0, 0, 0, 0, 0, 0, 2, 0, 0, 0, 0, 0, 0, 0, 0, 0, 0, 0, 0, 0, 0, 0, 0, 0, 0, 0, 0, 0, 0, 0, 0, 0, 0, 0, 0, 0, 0, 0, 0, 0, 0, 0, 0, 0, 0, 0, 0, 1, 0, 0, 0, 0, 0, 0, 0, 0, 0, 0, 0, 0, 0, 0, 0, 0, 0, 0, 0, 0, 0, 0, 0, 0, 0, 0, 0, 0, 0, 0, 0, 0, 0, 0, 0, 0, 0, 0, 0, 0, 0, 0, 0, 0, 0, 0, 0, 0, 0, 0, 0, 0, 0, 0, 0, 0, 0, 0, 0, 0, 0, 0, 0, 0, 0, 0, 0, 0, 0, 0, 0, 0, 0, 0, 0, 0, 0, 0, 0, 0, 0, 0, 0, 0, 0, 0, 0, 0, 0, 0, 0, 0, 0, 0, 0, 0, 0, 0, 0, 0, 0, 0, 0, 0, 0, 0, 0, 0, 0, 0, 0, 0, 0, 0, 0, 0, 0, 0, 0, 0, 0, 0, 0, 0, 0, 0, 0, 0, 0, 0, 0, 0, 0, 0, 0, 0, 0, 0, 0, 0, 0, 0, 0, 0, 0, 0, 0, 0, 0, 0, 0, 0, 0, 0, 0, 0, 0, 0, 0, 0, 0, 0, 0, 0, 0, 0, 0, 0, 0, 0, 0, 0, 0, 0, 0, 0, 0, 0, 0, 0, 0, 0, 0, 0, 0, 0, 0, 0, 0, 0, 0, 0, 0, 0, 0, 0, 0, 0, 0, 0, 0, 0, 0, 0, 0, 0, 0, 0, 0, 0, 0, 0, 0, 0, 0, 0, 0, 0, 0, 0, 0, 0, 0, 0, 0, 0, 0, 0, 0, 0, 0, 0, 0, 0, 0, 0, 0, 0, 0, 0, 0, 0, 0, 0, 0, 0, 0, 0, 0, 0, 0, 0, 0, 0, 0, 0, 0, 0, 0, 0, 0, 0, 0, 0, 0, 0, 0, 0, 0, 0, 0, 0, 0, 0, 0, 0, 0, 0, 0, 0, 0, 0, 0, 0, 0, 0, 0, 0, 0, 0, 0, 0, 0, 0, 0, 0, 0, 0, 0, 0, 0, 0, 0, 0, 0, 0, 0, 0, 0, 0, 0, 0, 0, 0, 0, 0, 0, 0, 0, 0, 0, 0, 0, 0, 0, 0, 0, 0, 0, 0, 0, 0, 0, 0, 0, 0, 0, 0, 0, 0, 0, 0, 0, 0, 0, 0, 0, 0, 0, 0, 0, 0, 0, 0, 0, 0, 0, 0, 0, 0, 0, 0, 0, 0, 0, 0, 0, 0, 0, 0, 0, 0, 0, 0, 0, 0, 0, 0, 0, 0, 0, 0, 0, 0, 0, 0, 0, 0, 0, 0, 0, 0, 0, 0, 0, 0, 0, 0, 0, 0, 0, 0, 0, 0, 0, 0, 0, 0, 0, 0, 0, 0, 0, 0, 0, 0, 0, 0, 0, 0, 0, 0, 0, 0, 0, 0, 0, 0, 0, 0, 0, 0, 0, 0, 0, 0, 0, 0, 0, 0, 0, 0, 0, 0, 0, 0, 0, 0, 0, 0, 0, 0, 0, 0, 0, 0, 0, 0, 0, 0, 0, 0, 0, 0, 0, 0, 0, 0, 0, 0, 0, 0, 0, 0, 0, 0, 0, 0, 0, 0, 0, 0, 0, 0, 0, 0, 0, 0, 0, 0, 0, 0, 0, 0, 0, 0, 0, 1, 0, 0, 0, 0, 0, 0, 0, 0, 0, 0, 0, 0, 0, 0, 0, 0, 0, 0, 0, 0, 0, 0, 0, 0, 0, 0, 0, 0, 0, 0, 0, 0, 0, 0, 0, 0, 0, 0, 0, 0, 0, 0, 0, 0, 0, 0, 0, 0, 0, 0, 0, 0, 0, 0, 0, 0, 0, 0, 0, 0, 0, 0, 0, 0, 0, 0, 0, 0, 0, 0, 0, 0, 0, 0, 0, 0, 0, 0, 0, 0, 0, 0, 0, 0, 0, 0, 0, 0, 0, 0, 0, 0, 0, 0, 0, 0, 0, 0, 0, 0, 0, 0, 0, 0, 0, 0, 0, 0, 0, 0, 2, 0, 0, 0, 0, 0, 0, 0, 0, 0, 0, 0, 0, 0, 0, 0, 0, 0, 0, 0, 0, 0, 0, 0, 0, 0, 0, 0, 0, 0, 0, 0, 0, 0, 0, 0, 0, 0, 0, 0, 0, 0, 0, 0, 0, 0, 0, 0, 0, 0, 0, 0, 0, 0, 0, 0, 0, 0, 0, 0, 0, 0, 0, 0, 0, 0, 0, 0, 0, 0, 0, 0, 0, 0, 0, 0, 0, 0, 0, 0, 0, 0, 0, 0, 0, 0, 0, 0, 0, 0, 0, 0, 0, 0, 0, 0, 0, 0, 0, 0, 0, 0, 0, 0, 0, 0, 0, 0, 0, 0, 0, 0, 0, 0, 0, 0, 0, 0, 0, 0, 0, 0, 0, 0, 0, 0, 0, 0, 0, 0, 0, 0, 0, 0, 0, 0, 0, 0, 0, 0, 0, 0, 0, 0, 0, 0, 0, 0, 0, 0, 0, 0, 0, 0, 0, 0, 0, 0, 0, 0, 0, 0, 0, 0, 0, 0, 0, 0, 0, 0, 0, 0, 0, 0, 0, 0, 0, 0, 0, 0, 0, 0, 0, 0, 0, 0, 0, 0, 0, 0, 0, 0, 0, 0, 0, 0, 0, 0, 0, 0, 0, 0, 0, 0, 0, 0, 0, 0, 0, 0, 0, 0, 0, 0, 0, 0, 0, 0, 0, 0, 0, 0, 0, 0, 0, 0, 0, 0, 0, 0, 0, 0, 0, 0, 0, 0, 0, 0, 0, 0, 0, 0, 0, 0, 0, 0, 0, 0, 0, 0, 0, 0, 0, 0, 0, 0, 0, 0, 0, 0, 0, 0, 0, 0, 0, 0, 0, 0, 0, 0, 0, 0, 0, 0, 0, 0, 0, 0, 0, 0, 0, 0, 0, 0, 0, 0, 0, 0, 0, 0, 0, 0, 0, 0, 0, 0, 0, 0, 0, 0, 0, 0, 0, 0, 0, 0, 0, 0, 0, 0, 0, 0, 0, 0, 0, 0, 0, 0, 0, 0, 0, 0, 0, 0, 0, 0, 0, 0, 0, 0, 0, 0, 0, 0, 0, 0, 0, 0, 0, 0, 0, 0, 0, 0, 0, 0, 0, 0, 0, 0, 0, 0, 0, 0, 0, 0, 0, 0, 0, 0, 0, 0, 0, 0, 0, 0, 0, 0, 0, 0, 0, 0, 0, 0, 0, 0, 0, 0, 0, 0, 0, 0, 0, 0, 0, 0, 0, 0, 0, 0, 0, 0, 0, 0, 0, 0, 0, 0, 0, 0, 0, 0, 0, 0, 0, 0, 0, 0, 0, 0, 0, 0, 0, 0, 0, 0, 0, 0, 0, 0, 0, 0, 0, 0, 0, 0, 0, 0, 0, 0, 0, 0, 0, 0, 0, 0, 0, 0, 0, 0, 0, 0, 0, 0, 0, 0, 0, 0, 0, 0, 0, 0, 0, 0, 0, 0, 0, 0, 0, 0, 0, 0, 0, 0, 0, 0, 0, 0, 0, 0, 0, 0, 0, 0, 0, 0, 0, 0, 0, 0, 0, 0, 0, 0, 0, 0, 0, 0, 0, 0, 0, 0, 0, 0, 0, 0, 0, 0, 0, 0, 0, 0, 0, 0, 0, 0, 0, 0, 0, 0, 0, 0, 0, 0, 0, 0, 0, 0, 0, 0, 0, 0, 0, 0, 0, 0, 0, 0, 0, 0, 0, 0, 0, 0, 0, 0, 0, 0, 0, 0, 0, 0, 0, 0, 0, 0, 0, 0, 0, 0, 0, 0, 0, 0, 0, 0, 0, 0, 0, 0, 0, 0, 0, 0, 0, 0, 0, 0, 0, 0, 0, 0, 0, 0, 0, 0, 0, 0, 0, 0, 0, 0, 0, 0, 0, 0, 0, 0, 0, 0, 0, 0, 0, 0, 0, 0, 0, 0, 0, 0, 0, 0, 0, 0, 0, 0, 0, 0, 0, 0, 0, 0, 0, 0, 0, 0, 0, 0, 0, 0, 0, 0, 0, 0, 0, 0, 0, 0, 0, 0, 0, 0, 0, 0, 0, 0, 0, 0, 0, 0, 0, 0, 0, 0, 0, 0, 0, 0, 0, 0, 0, 0, 0, 0, 0, 0, 0, 0, 0, 0, 0, 0, 0, 0, 0, 0, 0, 0, 0, 0, 0, 0, 0, 0, 0, 0, 0, 0, 0, 0, 0, 0, 0, 0, 0, 0, 0, 0, 0, 0, 1, 0, 0, 0, 0, 0, 0, 0, 0, 0, 0, 0, 0, 0, 0, 0, 0, 0, 0, 0, 0, 0, 0, 0, 0, 0, 0, 0, 0, 0, 0, 0, 0, 0, 0, 0, 0, 0, 0, 0, 0, 0, 0, 0, 0, 0, 0, 0, 0, 0, 0, 0, 0, 0, 0, 0, 0, 0, 0, 0, 0, 0, 0, 0, 0, 0, 0, 0, 0, 0, 0, 0, 0, 0, 0, 0, 0, 0, 0, 0, 0, 0, 0, 0, 0, 0, 0, 0, 0, 0, 0, 0, 0, 0, 0, 0, 0, 0, 0, 0, 0, 0, 0, 0, 0, 0, 0, 0, 1, 0, 0, 0, 0, 0, 0, 0, 0, 0, 0, 0, 0, 0, 0, 0, 0, 0, 0, 0, 0, 0, 0, 0, 0, 0, 0, 0, 0, 0, 0, 0, 0, 0, 0, 0, 0, 0, 0, 0, 0, 0, 0, 0, 0, 0, 0, 0, 0, 0, 0, 0, 0, 0, 0, 0, 0, 0, 0, 0, 0, 0, 0, 0, 0, 0, 0, 0, 0, 0, 0, 0, 0, 0, 0, 0, 0, 0, 0, 0, 0, 0, 0, 0, 0, 0, 0, 0, 0, 0, 0, 0, 0, 0, 0, 0, 0, 0, 0, 0, 0, 0, 0, 0, 0, 0, 0, 0, 0, 0, 0, 0, 0, 0, 0, 0, 0, 0, 0, 0, 0, 0, 0, 0, 0, 0, 0, 0, 0, 0, 0, 0, 0, 0, 0, 0, 0, 0, 0, 0, 0, 0, 0, 0, 0, 0, 0, 0, 0, 0, 0, 0, 0, 0, 0, 0, 0, 0, 0, 0, 0, 0, 0, 0, 0, 0, 0, 0, 0, 0, 0, 0, 0, 0, 0, 0, 0, 0, 0, 0, 0, 0, 0, 0, 0, 0, 0, 0, 0, 0, 0, 0, 0, 0, 0, 0, 0, 0, 0, 0, 0, 0, 0, 0, 0, 0, 0, 0, 0, 0, 0, 0, 0, 0, 0, 0, 0, 0, 0, 0, 0, 0, 0, 0, 0, 0, 0, 0, 0, 0, 0, 0, 0, 0, 0, 0, 0, 0, 0, 0, 0, 0, 0, 0, 0, 0, 0, 0, 0, 0, 0, 0, 0, 0, 0, 0, 0, 0, 0, 0, 0, 0, 0, 0, 0, 0, 0, 0, 0, 0, 0, 0, 0, 0, 0, 0, 0, 0, 0, 0, 0, 0, 0, 0, 0, 0, 0, 0, 0, 0, 0, 0, 0, 0, 0, 0, 0, 0, 0, 0, 0, 0, 0, 0, 0, 0, 0, 0, 0, 0, 0, 0, 0, 0, 0, 0, 0, 0, 0, 0, 0, 0, 0, 0, 0, 0, 0, 0, 0, 0, 0, 0, 0, 0, 0, 0, 0, 0, 0, 0, 0, 0, 0, 0, 0, 0, 0, 0, 0, 0, 0, 0, 0, 0, 0, 0, 0, 0, 0, 0, 0, 0, 0, 0, 0, 0, 0, 0, 0, 0, 0, 0, 0, 0, 0, 0, 0, 0, 0, 0, 0, 0, 0, 0, 0, 0, 0, 0, 0, 0, 0, 0, 0, 0, 0, 0, 0, 0, 0, 0, 0, 0, 0, 0, 0, 0, 0, 0, 0, 0, 0, 0, 0, 0, 0, 0, 0, 0, 0, 0, 0, 0, 0, 0, 0, 0, 0, 0, 0, 0, 0, 0, 0, 0, 0, 0, 0, 0, 0, 0, 0, 0, 0, 0, 0, 0, 0, 0, 0, 0, 0, 0, 0, 0, 0, 0, 0, 0, 0, 0, 0, 0, 0, 0, 0, 0, 2, 0, 1, 0]\n"
     ]
    }
   ],
   "source": [
    "test_bow = bow_encoding(test_words, vocabulary)\n",
    "print(test_bow)"
   ]
  },
  {
   "cell_type": "code",
   "execution_count": 59,
   "metadata": {},
   "outputs": [
    {
     "data": {
      "text/plain": [
       "5000"
      ]
     },
     "execution_count": 59,
     "metadata": {},
     "output_type": "execute_result"
    }
   ],
   "source": [
    "len(test_bow)"
   ]
  },
  {
   "cell_type": "markdown",
   "metadata": {},
   "source": [
    "So now we know how to construct a bag of words encoding of a user provided review, how to we send it to our endpoint? First, we need to start the endpoint back up."
   ]
  },
  {
   "cell_type": "code",
   "execution_count": 60,
   "metadata": {},
   "outputs": [
    {
     "name": "stderr",
     "output_type": "stream",
     "text": [
      "Parameter image will be renamed to image_uri in SageMaker Python SDK v2.\n",
      "Using already existing model: xgboost-2020-09-03-05-30-54-428\n"
     ]
    },
    {
     "name": "stdout",
     "output_type": "stream",
     "text": [
      "-------------!"
     ]
    }
   ],
   "source": [
    "xgb_predictor = xgb.deploy(initial_instance_count = 1, instance_type = 'ml.m4.xlarge')"
   ]
  },
  {
   "cell_type": "markdown",
   "metadata": {},
   "source": [
    "At this point we could just do the same thing that we did earlier when we tested our deployed model and send `test_bow` to our endpoint using the `xgb_predictor` object. However, when we eventually construct our Lambda function we won't have access to this object, so how do we call a SageMaker endpoint?\n",
    "\n",
    "It turns out that Python functions that are used in Lambda have access to another Amazon library called `boto3`. This library provides an API for working with Amazon services, including SageMaker. To start with, we need to get a handle to the SageMaker runtime."
   ]
  },
  {
   "cell_type": "code",
   "execution_count": 61,
   "metadata": {},
   "outputs": [],
   "source": [
    "import boto3\n",
    "\n",
    "runtime = boto3.Session().client('sagemaker-runtime')"
   ]
  },
  {
   "cell_type": "markdown",
   "metadata": {},
   "source": [
    "And now that we have access to the SageMaker runtime, we can ask it to make use of (invoke) an endpoint that has already been created. However, we need to provide SageMaker with the name of the deployed endpoint. To find this out we can print it out using the `xgb_predictor` object."
   ]
  },
  {
   "cell_type": "code",
   "execution_count": 62,
   "metadata": {},
   "outputs": [
    {
     "data": {
      "text/plain": [
       "'xgboost-2020-09-03-05-30-54-428'"
      ]
     },
     "execution_count": 62,
     "metadata": {},
     "output_type": "execute_result"
    }
   ],
   "source": [
    "xgb_predictor.endpoint"
   ]
  },
  {
   "cell_type": "markdown",
   "metadata": {},
   "source": [
    "Using the SageMaker runtime and the name of our endpoint, we can invoke the endpoint and send it the `test_bow` data."
   ]
  },
  {
   "cell_type": "code",
   "execution_count": 63,
   "metadata": {},
   "outputs": [
    {
     "ename": "ParamValidationError",
     "evalue": "Parameter validation failed:\nInvalid type for parameter Body, value: [0, 0, 0, 0, 0, 0, 0, 0, 0, 0, 0, 0, 0, 0, 0, 0, 0, 0, 0, 0, 0, 0, 0, 0, 0, 0, 0, 0, 0, 0, 0, 0, 0, 0, 0, 0, 0, 0, 0, 0, 0, 0, 0, 0, 0, 0, 0, 0, 0, 0, 0, 0, 0, 0, 0, 0, 0, 0, 0, 0, 0, 0, 0, 0, 0, 0, 0, 0, 0, 0, 0, 0, 0, 0, 0, 0, 0, 0, 0, 0, 0, 0, 0, 0, 0, 0, 0, 0, 0, 0, 0, 0, 0, 0, 0, 0, 0, 0, 0, 0, 0, 0, 0, 0, 0, 0, 0, 0, 0, 0, 0, 0, 0, 0, 0, 0, 0, 0, 0, 0, 0, 0, 0, 0, 0, 0, 0, 0, 0, 0, 0, 0, 0, 0, 0, 0, 0, 0, 0, 0, 0, 0, 0, 0, 0, 0, 0, 0, 0, 0, 0, 0, 0, 0, 0, 0, 0, 0, 0, 0, 0, 0, 0, 0, 0, 0, 0, 0, 0, 0, 0, 0, 0, 0, 0, 0, 0, 0, 0, 0, 0, 0, 0, 0, 0, 0, 0, 0, 0, 0, 0, 0, 0, 0, 0, 0, 0, 0, 0, 0, 0, 0, 0, 0, 0, 0, 0, 0, 0, 0, 0, 0, 0, 0, 0, 0, 0, 0, 0, 0, 0, 0, 0, 0, 0, 1, 0, 0, 0, 0, 0, 0, 0, 0, 0, 0, 0, 0, 0, 0, 0, 0, 0, 0, 0, 0, 0, 0, 0, 0, 0, 0, 0, 0, 1, 0, 0, 0, 0, 0, 0, 0, 0, 0, 0, 0, 0, 0, 0, 0, 0, 0, 0, 0, 0, 0, 0, 0, 0, 0, 0, 0, 0, 0, 0, 0, 0, 0, 0, 0, 0, 0, 0, 0, 0, 0, 0, 0, 0, 0, 0, 0, 0, 0, 0, 0, 0, 0, 0, 0, 0, 0, 0, 0, 0, 0, 0, 0, 0, 0, 0, 0, 0, 0, 0, 0, 0, 0, 0, 0, 0, 0, 0, 0, 0, 0, 0, 0, 0, 0, 0, 0, 0, 0, 0, 0, 0, 0, 0, 0, 0, 0, 0, 0, 0, 0, 0, 0, 0, 0, 0, 0, 0, 0, 0, 0, 0, 0, 0, 0, 0, 0, 0, 0, 0, 0, 0, 0, 0, 0, 0, 0, 0, 0, 0, 0, 0, 0, 0, 0, 0, 0, 0, 0, 0, 0, 0, 0, 0, 0, 0, 0, 0, 0, 0, 0, 0, 0, 0, 0, 0, 0, 0, 0, 0, 0, 0, 0, 0, 0, 0, 0, 0, 0, 0, 0, 0, 0, 0, 0, 0, 0, 0, 0, 0, 0, 0, 0, 0, 0, 0, 0, 0, 0, 0, 0, 0, 0, 0, 0, 0, 0, 0, 0, 0, 0, 0, 0, 0, 0, 0, 0, 0, 0, 0, 0, 0, 0, 0, 0, 0, 0, 0, 0, 0, 0, 0, 0, 0, 0, 0, 0, 0, 0, 0, 0, 0, 0, 0, 0, 0, 0, 0, 0, 0, 0, 0, 0, 0, 0, 0, 0, 0, 0, 0, 0, 0, 0, 0, 0, 0, 0, 0, 0, 0, 0, 0, 0, 0, 0, 0, 0, 0, 0, 0, 0, 0, 0, 0, 0, 0, 0, 0, 0, 0, 0, 0, 0, 0, 0, 0, 0, 0, 0, 0, 0, 0, 0, 0, 0, 0, 0, 0, 0, 0, 0, 0, 0, 0, 0, 0, 0, 0, 0, 0, 0, 0, 0, 0, 0, 0, 0, 0, 0, 0, 0, 0, 0, 0, 0, 0, 0, 0, 0, 0, 0, 0, 0, 0, 0, 0, 0, 0, 0, 0, 0, 0, 0, 0, 0, 0, 0, 0, 0, 0, 0, 0, 0, 0, 0, 0, 0, 0, 0, 0, 0, 0, 0, 0, 0, 0, 0, 0, 0, 0, 0, 0, 0, 0, 0, 0, 0, 0, 1, 0, 0, 0, 0, 0, 0, 0, 0, 0, 0, 0, 0, 0, 0, 0, 0, 0, 0, 0, 0, 0, 0, 0, 0, 0, 0, 0, 0, 0, 0, 0, 0, 0, 0, 0, 0, 0, 0, 0, 0, 0, 0, 0, 0, 0, 0, 0, 0, 0, 0, 0, 0, 0, 0, 0, 0, 0, 0, 0, 0, 0, 0, 0, 0, 0, 0, 0, 0, 0, 0, 0, 0, 0, 0, 0, 0, 0, 0, 0, 0, 0, 0, 0, 0, 0, 0, 0, 0, 0, 0, 0, 0, 0, 0, 0, 0, 0, 0, 0, 0, 0, 0, 0, 0, 0, 0, 0, 0, 0, 0, 0, 0, 0, 0, 0, 0, 0, 0, 0, 0, 0, 0, 0, 0, 0, 0, 0, 0, 0, 0, 0, 0, 0, 0, 0, 0, 0, 0, 0, 0, 0, 0, 0, 0, 0, 0, 0, 0, 0, 0, 0, 0, 0, 0, 0, 0, 0, 0, 0, 0, 0, 0, 0, 0, 0, 0, 0, 0, 0, 0, 0, 0, 0, 0, 0, 0, 0, 0, 0, 0, 0, 0, 0, 0, 0, 0, 0, 0, 0, 0, 0, 0, 0, 0, 0, 0, 0, 0, 0, 0, 0, 0, 0, 0, 0, 0, 0, 0, 0, 0, 0, 0, 0, 0, 0, 0, 0, 0, 0, 0, 0, 0, 0, 0, 0, 0, 0, 0, 0, 0, 0, 0, 0, 0, 0, 0, 0, 0, 0, 0, 0, 0, 0, 0, 0, 0, 0, 0, 0, 0, 0, 0, 0, 1, 0, 0, 0, 0, 0, 0, 0, 0, 0, 0, 0, 0, 0, 0, 0, 0, 0, 0, 0, 0, 0, 0, 0, 0, 0, 0, 0, 0, 0, 0, 0, 0, 0, 0, 0, 0, 0, 0, 0, 0, 0, 0, 0, 0, 0, 0, 0, 0, 0, 0, 0, 0, 0, 0, 0, 0, 0, 0, 0, 0, 0, 0, 0, 0, 0, 0, 0, 0, 0, 0, 0, 0, 0, 0, 0, 0, 0, 0, 0, 0, 0, 0, 0, 0, 0, 0, 1, 0, 0, 0, 0, 0, 0, 0, 0, 0, 0, 0, 0, 0, 0, 0, 0, 0, 0, 0, 0, 0, 0, 0, 0, 0, 0, 0, 0, 0, 0, 0, 0, 0, 0, 0, 0, 0, 0, 0, 0, 0, 0, 0, 0, 0, 0, 0, 0, 0, 0, 0, 0, 0, 0, 0, 0, 0, 0, 0, 0, 0, 0, 0, 0, 0, 0, 0, 0, 0, 0, 0, 0, 0, 0, 0, 0, 0, 0, 0, 0, 0, 0, 0, 0, 0, 0, 0, 0, 0, 0, 0, 0, 0, 0, 0, 0, 0, 0, 0, 0, 0, 0, 0, 0, 0, 0, 0, 0, 0, 0, 0, 0, 0, 0, 0, 0, 0, 0, 0, 0, 0, 0, 0, 0, 0, 0, 0, 0, 0, 0, 0, 0, 0, 0, 0, 0, 0, 0, 0, 0, 0, 0, 0, 0, 0, 0, 0, 0, 0, 0, 0, 0, 0, 0, 0, 0, 0, 0, 0, 0, 0, 0, 0, 0, 0, 0, 0, 0, 0, 0, 0, 0, 0, 0, 0, 0, 0, 0, 0, 0, 0, 0, 0, 0, 0, 0, 0, 0, 0, 0, 0, 0, 0, 0, 0, 0, 0, 0, 0, 0, 0, 0, 0, 0, 0, 0, 0, 0, 0, 0, 0, 0, 0, 0, 0, 0, 0, 0, 0, 0, 0, 0, 0, 0, 0, 0, 0, 0, 0, 0, 0, 0, 0, 0, 0, 0, 0, 0, 0, 0, 0, 0, 0, 0, 0, 0, 0, 0, 0, 0, 0, 1, 0, 0, 0, 0, 0, 0, 0, 0, 0, 0, 0, 0, 0, 0, 0, 0, 0, 0, 0, 0, 0, 0, 0, 0, 0, 0, 0, 0, 0, 0, 0, 0, 0, 0, 0, 0, 0, 0, 0, 0, 0, 0, 0, 0, 0, 0, 0, 0, 0, 0, 0, 0, 0, 0, 0, 1, 0, 0, 0, 0, 0, 0, 0, 0, 0, 0, 0, 0, 0, 0, 0, 0, 0, 0, 0, 0, 0, 0, 0, 0, 0, 0, 0, 0, 0, 0, 0, 0, 0, 0, 0, 0, 0, 0, 0, 0, 0, 0, 0, 0, 0, 0, 0, 0, 0, 0, 0, 0, 0, 0, 0, 0, 0, 0, 0, 0, 0, 0, 0, 0, 0, 0, 0, 0, 0, 0, 0, 0, 0, 0, 0, 0, 0, 0, 0, 0, 0, 0, 0, 0, 0, 0, 0, 0, 0, 0, 0, 0, 0, 0, 0, 0, 0, 0, 0, 0, 0, 0, 0, 0, 0, 0, 0, 0, 0, 0, 0, 0, 0, 0, 0, 0, 0, 0, 0, 0, 0, 0, 0, 0, 0, 0, 0, 0, 0, 0, 0, 0, 0, 0, 0, 0, 0, 0, 0, 0, 0, 0, 0, 0, 0, 0, 0, 0, 0, 0, 0, 0, 0, 0, 0, 0, 0, 0, 0, 0, 0, 0, 0, 0, 0, 0, 0, 0, 0, 0, 0, 0, 0, 0, 0, 0, 0, 0, 0, 0, 0, 0, 0, 0, 0, 0, 0, 0, 0, 0, 0, 0, 0, 0, 0, 0, 0, 0, 0, 0, 0, 0, 0, 0, 0, 0, 0, 0, 0, 0, 0, 0, 0, 0, 0, 0, 0, 0, 0, 0, 0, 0, 0, 0, 0, 0, 0, 0, 0, 0, 0, 0, 0, 0, 0, 0, 0, 0, 0, 0, 0, 0, 0, 0, 0, 0, 0, 0, 0, 0, 0, 0, 0, 0, 0, 0, 0, 0, 0, 0, 0, 0, 0, 0, 0, 0, 0, 0, 0, 0, 0, 0, 0, 0, 0, 0, 0, 0, 0, 0, 0, 0, 0, 0, 0, 0, 0, 0, 0, 0, 0, 0, 0, 0, 0, 0, 0, 0, 0, 0, 0, 0, 0, 0, 0, 0, 0, 0, 0, 0, 0, 0, 0, 0, 0, 0, 0, 0, 0, 0, 0, 0, 0, 0, 0, 0, 0, 0, 0, 0, 0, 0, 0, 0, 0, 0, 0, 0, 0, 0, 0, 0, 0, 0, 0, 0, 0, 0, 0, 0, 0, 0, 0, 0, 0, 0, 0, 0, 0, 0, 0, 0, 0, 0, 0, 0, 0, 0, 0, 0, 0, 0, 0, 0, 0, 0, 0, 0, 0, 0, 0, 0, 0, 0, 0, 0, 0, 0, 0, 0, 0, 0, 0, 0, 0, 0, 0, 0, 0, 0, 0, 0, 0, 0, 0, 0, 0, 0, 0, 0, 0, 0, 0, 0, 0, 0, 0, 0, 0, 0, 0, 0, 0, 0, 0, 0, 0, 0, 0, 0, 0, 0, 0, 0, 0, 0, 0, 0, 0, 0, 0, 0, 0, 0, 0, 0, 0, 0, 0, 0, 0, 0, 0, 0, 0, 0, 0, 0, 0, 0, 0, 0, 0, 0, 0, 0, 0, 0, 0, 0, 0, 0, 0, 0, 0, 0, 0, 0, 0, 0, 0, 0, 0, 0, 0, 0, 0, 0, 0, 0, 0, 0, 0, 0, 0, 0, 0, 0, 0, 0, 0, 0, 0, 0, 0, 0, 0, 0, 0, 0, 0, 0, 0, 0, 0, 0, 0, 0, 0, 0, 0, 0, 0, 0, 0, 0, 0, 0, 0, 0, 0, 0, 0, 0, 0, 0, 0, 0, 0, 0, 0, 0, 0, 0, 0, 0, 0, 0, 0, 0, 0, 0, 0, 0, 0, 0, 0, 0, 0, 0, 0, 0, 0, 0, 0, 0, 0, 0, 0, 0, 0, 0, 0, 0, 0, 0, 0, 0, 0, 0, 0, 0, 0, 0, 0, 0, 0, 0, 0, 0, 0, 0, 0, 0, 0, 0, 0, 0, 0, 0, 0, 0, 0, 0, 0, 0, 0, 0, 0, 0, 0, 0, 0, 0, 0, 0, 0, 0, 0, 0, 0, 0, 0, 0, 0, 0, 0, 0, 0, 0, 0, 0, 0, 0, 0, 0, 0, 0, 0, 0, 0, 0, 0, 0, 0, 0, 0, 0, 0, 0, 0, 0, 0, 0, 0, 0, 0, 0, 0, 0, 0, 0, 0, 0, 0, 0, 0, 0, 0, 0, 0, 0, 0, 0, 0, 0, 0, 0, 0, 0, 0, 0, 1, 0, 0, 0, 0, 0, 0, 0, 0, 0, 0, 0, 0, 0, 0, 0, 0, 0, 0, 0, 0, 0, 0, 0, 0, 0, 0, 0, 0, 0, 0, 0, 0, 0, 0, 0, 0, 0, 0, 0, 0, 0, 0, 0, 0, 0, 0, 0, 0, 0, 0, 0, 0, 0, 0, 0, 0, 0, 0, 0, 0, 0, 0, 0, 0, 0, 0, 0, 0, 0, 0, 0, 0, 0, 0, 1, 0, 0, 0, 0, 0, 0, 0, 0, 0, 0, 0, 0, 0, 0, 0, 0, 0, 0, 0, 0, 1, 0, 0, 1, 0, 0, 0, 0, 0, 0, 0, 0, 0, 0, 0, 0, 0, 0, 0, 0, 0, 0, 0, 0, 0, 0, 0, 0, 0, 0, 0, 0, 0, 0, 0, 0, 0, 0, 0, 0, 0, 0, 0, 0, 0, 0, 0, 0, 0, 0, 0, 0, 0, 0, 0, 0, 0, 0, 0, 0, 0, 0, 0, 0, 0, 0, 0, 0, 0, 0, 0, 0, 0, 0, 0, 0, 0, 0, 0, 0, 0, 0, 0, 0, 0, 0, 0, 0, 0, 0, 0, 0, 0, 0, 0, 0, 0, 0, 0, 0, 0, 0, 0, 0, 0, 0, 0, 0, 0, 0, 0, 0, 0, 0, 0, 0, 0, 0, 0, 0, 0, 0, 0, 0, 0, 0, 0, 0, 0, 0, 0, 0, 0, 0, 0, 0, 0, 0, 0, 0, 0, 0, 0, 0, 0, 0, 0, 0, 0, 0, 0, 0, 0, 0, 0, 0, 0, 0, 0, 0, 0, 0, 0, 0, 0, 0, 0, 0, 0, 0, 0, 0, 0, 0, 0, 0, 0, 0, 0, 0, 0, 0, 0, 0, 0, 0, 0, 0, 0, 0, 0, 0, 0, 0, 0, 0, 0, 0, 0, 0, 0, 0, 0, 0, 0, 0, 0, 0, 0, 0, 0, 0, 0, 0, 0, 0, 0, 0, 0, 0, 0, 0, 0, 0, 0, 0, 0, 0, 0, 0, 0, 0, 0, 0, 0, 0, 0, 0, 0, 0, 0, 0, 0, 0, 0, 0, 0, 0, 0, 0, 0, 0, 0, 0, 0, 0, 0, 0, 0, 0, 0, 0, 0, 0, 0, 0, 0, 0, 0, 0, 0, 0, 0, 0, 0, 0, 0, 0, 0, 0, 0, 0, 0, 0, 0, 0, 0, 0, 0, 0, 0, 0, 0, 0, 0, 0, 0, 0, 0, 0, 0, 0, 0, 0, 0, 0, 0, 0, 0, 0, 0, 0, 0, 0, 0, 0, 0, 0, 0, 0, 0, 0, 0, 0, 0, 0, 0, 0, 0, 0, 0, 0, 0, 0, 0, 0, 0, 0, 0, 0, 0, 0, 0, 0, 0, 0, 0, 0, 0, 0, 0, 0, 0, 0, 0, 0, 0, 0, 0, 0, 0, 0, 0, 0, 0, 0, 0, 0, 0, 0, 0, 0, 0, 0, 0, 0, 0, 0, 0, 0, 0, 0, 0, 0, 0, 0, 0, 0, 0, 0, 0, 0, 0, 0, 0, 0, 0, 0, 0, 0, 0, 0, 0, 0, 0, 0, 0, 0, 0, 0, 0, 0, 0, 0, 0, 0, 0, 0, 0, 0, 0, 0, 0, 0, 0, 0, 0, 0, 0, 0, 0, 0, 0, 0, 0, 0, 0, 0, 0, 0, 0, 0, 0, 0, 0, 0, 0, 0, 0, 0, 0, 0, 0, 0, 0, 0, 0, 0, 0, 0, 0, 0, 0, 0, 0, 0, 0, 0, 0, 0, 0, 1, 0, 0, 0, 0, 0, 0, 0, 0, 0, 0, 0, 0, 0, 0, 0, 0, 0, 0, 0, 0, 0, 0, 0, 0, 0, 0, 0, 0, 0, 0, 0, 0, 0, 0, 0, 0, 0, 0, 0, 0, 0, 0, 0, 0, 0, 0, 0, 0, 0, 0, 0, 0, 0, 0, 0, 0, 0, 0, 0, 0, 0, 0, 0, 0, 0, 0, 0, 0, 0, 0, 0, 0, 0, 0, 0, 0, 0, 0, 0, 0, 0, 0, 0, 0, 0, 0, 0, 0, 0, 0, 0, 0, 0, 0, 0, 0, 0, 0, 0, 0, 0, 0, 0, 0, 0, 0, 0, 0, 0, 0, 0, 0, 0, 0, 0, 0, 0, 0, 0, 0, 0, 0, 0, 0, 0, 0, 0, 0, 0, 0, 0, 0, 0, 0, 0, 0, 0, 0, 0, 0, 0, 0, 0, 0, 0, 0, 0, 0, 0, 0, 0, 0, 0, 0, 0, 0, 0, 0, 0, 0, 0, 0, 0, 0, 0, 0, 0, 0, 0, 0, 0, 0, 0, 0, 0, 0, 0, 0, 0, 0, 0, 0, 0, 0, 0, 0, 0, 0, 0, 0, 0, 0, 0, 0, 0, 0, 0, 0, 0, 0, 0, 0, 0, 0, 0, 0, 0, 0, 0, 0, 0, 0, 0, 0, 0, 0, 0, 0, 0, 0, 0, 0, 0, 0, 0, 0, 0, 0, 0, 0, 0, 0, 0, 0, 0, 0, 0, 0, 0, 0, 0, 0, 0, 0, 0, 0, 0, 0, 0, 0, 0, 0, 0, 0, 0, 0, 0, 0, 0, 0, 0, 0, 0, 0, 0, 0, 0, 0, 0, 0, 0, 0, 0, 0, 0, 0, 0, 0, 0, 0, 0, 0, 0, 0, 0, 0, 0, 0, 0, 0, 0, 0, 0, 0, 0, 0, 0, 0, 0, 0, 0, 0, 0, 0, 0, 0, 0, 0, 0, 0, 0, 0, 0, 0, 0, 0, 0, 0, 0, 0, 0, 0, 0, 0, 0, 0, 0, 0, 0, 0, 0, 0, 0, 0, 0, 0, 0, 0, 0, 0, 0, 0, 0, 0, 0, 0, 0, 0, 0, 0, 0, 0, 0, 0, 0, 0, 0, 0, 0, 0, 0, 0, 0, 0, 0, 0, 0, 0, 0, 0, 0, 0, 0, 0, 0, 0, 0, 0, 0, 0, 0, 0, 0, 0, 0, 0, 0, 0, 0, 0, 0, 0, 0, 0, 0, 0, 0, 0, 0, 0, 0, 0, 0, 0, 0, 0, 0, 0, 0, 0, 0, 0, 0, 0, 0, 0, 0, 0, 0, 0, 0, 0, 0, 0, 0, 0, 0, 0, 0, 0, 0, 0, 0, 0, 0, 0, 0, 0, 0, 0, 0, 0, 0, 0, 0, 0, 0, 0, 0, 0, 0, 0, 0, 0, 0, 0, 0, 0, 0, 0, 0, 0, 0, 0, 0, 0, 0, 0, 0, 0, 0, 0, 0, 0, 0, 0, 0, 0, 0, 0, 0, 0, 0, 0, 0, 0, 0, 0, 0, 0, 0, 0, 0, 0, 0, 0, 0, 0, 0, 0, 0, 0, 0, 0, 0, 0, 0, 0, 0, 0, 0, 0, 0, 1, 0, 0, 0, 0, 0, 0, 0, 0, 0, 0, 0, 0, 0, 0, 0, 0, 0, 0, 0, 0, 0, 0, 0, 0, 0, 0, 0, 0, 0, 0, 0, 0, 0, 0, 0, 2, 0, 0, 0, 0, 0, 0, 0, 0, 0, 0, 0, 0, 0, 0, 0, 0, 0, 0, 0, 0, 0, 0, 0, 0, 0, 0, 0, 0, 0, 0, 0, 0, 0, 0, 0, 0, 0, 0, 0, 0, 1, 0, 0, 0, 0, 0, 0, 0, 0, 0, 0, 0, 0, 0, 0, 0, 0, 0, 0, 0, 0, 0, 0, 0, 0, 0, 0, 0, 0, 0, 0, 0, 0, 0, 0, 0, 0, 0, 0, 0, 0, 0, 0, 0, 0, 0, 0, 0, 0, 0, 0, 0, 0, 0, 0, 0, 0, 0, 0, 0, 0, 0, 0, 0, 0, 0, 0, 0, 0, 0, 0, 0, 0, 0, 0, 0, 0, 0, 0, 0, 0, 0, 0, 0, 0, 0, 0, 0, 0, 0, 0, 0, 0, 0, 0, 0, 0, 0, 0, 0, 0, 0, 0, 0, 0, 0, 0, 0, 0, 0, 0, 0, 0, 0, 0, 0, 0, 0, 0, 0, 0, 0, 0, 0, 0, 0, 0, 0, 0, 0, 0, 0, 0, 0, 0, 0, 0, 0, 0, 0, 0, 0, 0, 0, 0, 0, 0, 0, 0, 0, 0, 0, 0, 0, 0, 0, 0, 0, 0, 0, 0, 0, 0, 0, 0, 0, 0, 0, 0, 0, 0, 0, 0, 0, 0, 0, 0, 0, 0, 0, 0, 0, 0, 0, 0, 0, 0, 0, 0, 0, 0, 0, 0, 0, 0, 0, 0, 0, 0, 0, 0, 0, 0, 0, 0, 0, 0, 0, 0, 0, 0, 0, 0, 0, 0, 0, 0, 0, 0, 0, 0, 0, 0, 0, 0, 0, 0, 0, 0, 0, 0, 0, 0, 0, 0, 0, 0, 0, 0, 0, 0, 0, 0, 0, 0, 0, 0, 0, 0, 0, 0, 0, 0, 0, 0, 0, 0, 0, 0, 0, 0, 0, 0, 0, 0, 0, 0, 0, 0, 0, 0, 0, 0, 0, 0, 0, 0, 0, 0, 0, 0, 0, 0, 0, 0, 0, 0, 0, 0, 0, 0, 0, 0, 0, 0, 0, 0, 0, 0, 0, 0, 0, 0, 0, 0, 0, 0, 0, 0, 0, 0, 0, 0, 0, 0, 0, 0, 0, 0, 0, 0, 0, 0, 0, 0, 0, 0, 0, 0, 0, 0, 0, 0, 0, 0, 0, 0, 0, 0, 0, 0, 0, 0, 0, 0, 0, 0, 0, 0, 0, 0, 0, 0, 0, 0, 0, 0, 0, 0, 0, 0, 0, 0, 0, 0, 0, 0, 0, 0, 0, 0, 0, 0, 0, 0, 0, 0, 0, 0, 0, 0, 0, 0, 0, 0, 0, 0, 0, 0, 0, 0, 0, 0, 0, 0, 0, 0, 0, 0, 0, 0, 0, 0, 0, 0, 0, 0, 0, 0, 0, 0, 0, 0, 0, 0, 0, 0, 0, 0, 0, 0, 0, 0, 0, 0, 0, 0, 0, 0, 0, 0, 0, 0, 0, 0, 0, 0, 0, 0, 0, 0, 0, 0, 0, 0, 0, 0, 0, 0, 0, 0, 0, 0, 0, 0, 0, 0, 0, 0, 0, 0, 0, 0, 0, 0, 0, 0, 0, 0, 0, 0, 0, 0, 0, 0, 0, 0, 0, 0, 0, 0, 0, 0, 0, 0, 0, 0, 0, 0, 0, 0, 0, 0, 0, 0, 0, 0, 0, 1, 0, 0, 0, 0, 0, 0, 0, 0, 0, 0, 0, 0, 0, 0, 0, 0, 0, 0, 0, 0, 0, 0, 0, 0, 0, 0, 0, 0, 0, 0, 0, 0, 0, 0, 0, 0, 0, 0, 0, 0, 0, 0, 0, 0, 0, 0, 0, 0, 0, 0, 0, 0, 0, 0, 0, 0, 0, 0, 0, 0, 0, 0, 0, 0, 0, 0, 0, 0, 0, 0, 0, 0, 0, 0, 0, 0, 0, 0, 0, 0, 0, 0, 0, 0, 0, 0, 0, 0, 0, 0, 0, 0, 0, 0, 0, 0, 0, 0, 0, 0, 0, 0, 0, 0, 0, 0, 0, 0, 0, 0, 2, 0, 0, 0, 0, 0, 0, 0, 0, 0, 0, 0, 0, 0, 0, 0, 0, 0, 0, 0, 0, 0, 0, 0, 0, 0, 0, 0, 0, 0, 0, 0, 0, 0, 0, 0, 0, 0, 0, 0, 0, 0, 0, 0, 0, 0, 0, 0, 0, 0, 0, 0, 0, 0, 0, 0, 0, 0, 0, 0, 0, 0, 0, 0, 0, 0, 0, 0, 0, 0, 0, 0, 0, 0, 0, 0, 0, 0, 0, 0, 0, 0, 0, 0, 0, 0, 0, 0, 0, 0, 0, 0, 0, 0, 0, 0, 0, 0, 0, 0, 0, 0, 0, 0, 0, 0, 0, 0, 0, 0, 0, 0, 0, 0, 0, 0, 0, 0, 0, 0, 0, 0, 0, 0, 0, 0, 0, 0, 0, 0, 0, 0, 0, 0, 0, 0, 0, 0, 0, 0, 0, 0, 0, 0, 0, 0, 0, 0, 0, 0, 0, 0, 0, 0, 0, 0, 0, 0, 0, 0, 0, 0, 0, 0, 0, 0, 0, 0, 0, 0, 0, 0, 0, 0, 0, 0, 0, 0, 0, 0, 0, 0, 0, 0, 0, 0, 0, 0, 0, 0, 0, 0, 0, 0, 0, 0, 0, 0, 0, 0, 0, 0, 0, 0, 0, 0, 0, 0, 0, 0, 0, 0, 0, 0, 0, 0, 0, 0, 0, 0, 0, 0, 0, 0, 0, 0, 0, 0, 0, 0, 0, 0, 0, 0, 0, 0, 0, 0, 0, 0, 0, 0, 0, 0, 0, 0, 0, 0, 0, 0, 0, 0, 0, 0, 0, 0, 0, 0, 0, 0, 0, 0, 0, 0, 0, 0, 0, 0, 0, 0, 0, 0, 0, 0, 0, 0, 0, 0, 0, 0, 0, 0, 0, 0, 0, 0, 0, 0, 0, 0, 0, 0, 0, 0, 0, 0, 0, 0, 0, 0, 0, 0, 0, 0, 0, 0, 0, 0, 0, 0, 0, 0, 0, 0, 0, 0, 0, 0, 0, 0, 0, 0, 0, 0, 0, 0, 0, 0, 0, 0, 0, 0, 0, 0, 0, 0, 0, 0, 0, 0, 0, 0, 0, 0, 0, 0, 0, 0, 0, 0, 0, 0, 0, 0, 0, 0, 0, 0, 0, 0, 0, 0, 0, 0, 0, 0, 0, 0, 0, 0, 0, 0, 0, 0, 0, 0, 0, 0, 0, 0, 0, 0, 0, 0, 0, 0, 0, 0, 0, 0, 0, 0, 0, 0, 0, 0, 0, 0, 0, 0, 0, 0, 0, 0, 0, 0, 0, 0, 0, 0, 0, 0, 0, 0, 0, 0, 0, 0, 0, 0, 0, 0, 0, 0, 0, 0, 0, 0, 0, 0, 0, 0, 0, 0, 0, 0, 0, 0, 0, 0, 0, 0, 0, 0, 0, 0, 0, 0, 0, 0, 0, 0, 0, 0, 0, 0, 0, 0, 0, 0, 0, 0, 0, 0, 0, 0, 0, 0, 0, 0, 0, 0, 0, 0, 0, 0, 0, 0, 0, 0, 0, 0, 0, 0, 0, 0, 0, 0, 0, 0, 0, 0, 0, 0, 0, 0, 0, 0, 0, 0, 0, 0, 0, 0, 0, 0, 0, 0, 0, 0, 0, 0, 0, 0, 0, 0, 0, 0, 0, 0, 0, 0, 0, 0, 0, 0, 0, 0, 0, 0, 0, 0, 0, 0, 0, 0, 0, 0, 0, 0, 0, 0, 0, 0, 0, 0, 0, 0, 0, 0, 0, 0, 0, 0, 0, 0, 0, 0, 0, 0, 0, 0, 0, 0, 0, 0, 0, 0, 0, 0, 0, 0, 0, 0, 0, 0, 0, 0, 0, 0, 0, 0, 0, 0, 0, 0, 0, 0, 0, 0, 0, 0, 0, 0, 0, 0, 0, 0, 0, 0, 0, 0, 0, 0, 0, 0, 0, 0, 0, 0, 0, 0, 0, 0, 0, 0, 0, 0, 0, 0, 0, 0, 0, 0, 0, 0, 0, 0, 0, 0, 0, 0, 0, 0, 0, 0, 0, 0, 0, 0, 0, 0, 0, 0, 0, 0, 0, 0, 0, 0, 0, 0, 0, 0, 0, 0, 0, 0, 0, 0, 0, 0, 0, 0, 0, 0, 0, 0, 0, 0, 0, 0, 0, 0, 0, 0, 0, 0, 0, 0, 0, 0, 0, 0, 0, 0, 0, 0, 0, 0, 1, 0, 0, 0, 0, 0, 0, 0, 0, 0, 0, 0, 0, 0, 0, 0, 0, 0, 0, 0, 0, 0, 0, 0, 0, 0, 0, 0, 0, 0, 0, 0, 0, 0, 0, 0, 0, 0, 0, 0, 0, 0, 0, 0, 0, 0, 0, 0, 0, 0, 0, 0, 0, 0, 0, 0, 0, 0, 0, 0, 0, 0, 0, 0, 0, 0, 0, 0, 0, 0, 0, 0, 0, 0, 0, 0, 0, 0, 0, 0, 0, 0, 0, 0, 0, 0, 0, 0, 0, 0, 0, 0, 0, 0, 0, 0, 0, 0, 0, 0, 0, 0, 0, 0, 0, 0, 0, 0, 1, 0, 0, 0, 0, 0, 0, 0, 0, 0, 0, 0, 0, 0, 0, 0, 0, 0, 0, 0, 0, 0, 0, 0, 0, 0, 0, 0, 0, 0, 0, 0, 0, 0, 0, 0, 0, 0, 0, 0, 0, 0, 0, 0, 0, 0, 0, 0, 0, 0, 0, 0, 0, 0, 0, 0, 0, 0, 0, 0, 0, 0, 0, 0, 0, 0, 0, 0, 0, 0, 0, 0, 0, 0, 0, 0, 0, 0, 0, 0, 0, 0, 0, 0, 0, 0, 0, 0, 0, 0, 0, 0, 0, 0, 0, 0, 0, 0, 0, 0, 0, 0, 0, 0, 0, 0, 0, 0, 0, 0, 0, 0, 0, 0, 0, 0, 0, 0, 0, 0, 0, 0, 0, 0, 0, 0, 0, 0, 0, 0, 0, 0, 0, 0, 0, 0, 0, 0, 0, 0, 0, 0, 0, 0, 0, 0, 0, 0, 0, 0, 0, 0, 0, 0, 0, 0, 0, 0, 0, 0, 0, 0, 0, 0, 0, 0, 0, 0, 0, 0, 0, 0, 0, 0, 0, 0, 0, 0, 0, 0, 0, 0, 0, 0, 0, 0, 0, 0, 0, 0, 0, 0, 0, 0, 0, 0, 0, 0, 0, 0, 0, 0, 0, 0, 0, 0, 0, 0, 0, 0, 0, 0, 0, 0, 0, 0, 0, 0, 0, 0, 0, 0, 0, 0, 0, 0, 0, 0, 0, 0, 0, 0, 0, 0, 0, 0, 0, 0, 0, 0, 0, 0, 0, 0, 0, 0, 0, 0, 0, 0, 0, 0, 0, 0, 0, 0, 0, 0, 0, 0, 0, 0, 0, 0, 0, 0, 0, 0, 0, 0, 0, 0, 0, 0, 0, 0, 0, 0, 0, 0, 0, 0, 0, 0, 0, 0, 0, 0, 0, 0, 0, 0, 0, 0, 0, 0, 0, 0, 0, 0, 0, 0, 0, 0, 0, 0, 0, 0, 0, 0, 0, 0, 0, 0, 0, 0, 0, 0, 0, 0, 0, 0, 0, 0, 0, 0, 0, 0, 0, 0, 0, 0, 0, 0, 0, 0, 0, 0, 0, 0, 0, 0, 0, 0, 0, 0, 0, 0, 0, 0, 0, 0, 0, 0, 0, 0, 0, 0, 0, 0, 0, 0, 0, 0, 0, 0, 0, 0, 0, 0, 0, 0, 0, 0, 0, 0, 0, 0, 0, 0, 0, 0, 0, 0, 0, 0, 0, 0, 0, 0, 0, 0, 0, 0, 0, 0, 0, 0, 0, 0, 0, 0, 0, 0, 0, 0, 0, 0, 0, 0, 0, 0, 0, 0, 0, 0, 0, 0, 0, 0, 0, 0, 0, 0, 0, 0, 0, 0, 0, 0, 0, 0, 0, 0, 0, 0, 0, 0, 0, 0, 0, 0, 0, 0, 0, 0, 0, 0, 0, 0, 0, 0, 0, 0, 0, 0, 0, 0, 0, 0, 0, 0, 0, 0, 0, 0, 2, 0, 1, 0], type: <class 'list'>, valid types: <class 'bytes'>, <class 'bytearray'>, file-like object",
     "output_type": "error",
     "traceback": [
      "\u001b[0;31m---------------------------------------------------------------------------\u001b[0m",
      "\u001b[0;31mParamValidationError\u001b[0m                      Traceback (most recent call last)",
      "\u001b[0;32m<ipython-input-63-c9ab54ae3a48>\u001b[0m in \u001b[0;36m<module>\u001b[0;34m\u001b[0m\n\u001b[1;32m      1\u001b[0m response = runtime.invoke_endpoint(EndpointName = xgb_predictor.endpoint, # The name of the endpoint we created\n\u001b[1;32m      2\u001b[0m                                        \u001b[0mContentType\u001b[0m \u001b[0;34m=\u001b[0m \u001b[0;34m'text/csv'\u001b[0m\u001b[0;34m,\u001b[0m                     \u001b[0;31m# The data format that is expected\u001b[0m\u001b[0;34m\u001b[0m\u001b[0;34m\u001b[0m\u001b[0m\n\u001b[0;32m----> 3\u001b[0;31m                                        Body = test_bow)\n\u001b[0m",
      "\u001b[0;32m~/anaconda3/envs/python3/lib/python3.6/site-packages/botocore/client.py\u001b[0m in \u001b[0;36m_api_call\u001b[0;34m(self, *args, **kwargs)\u001b[0m\n\u001b[1;32m    314\u001b[0m                     \"%s() only accepts keyword arguments.\" % py_operation_name)\n\u001b[1;32m    315\u001b[0m             \u001b[0;31m# The \"self\" in this scope is referring to the BaseClient.\u001b[0m\u001b[0;34m\u001b[0m\u001b[0;34m\u001b[0m\u001b[0;34m\u001b[0m\u001b[0m\n\u001b[0;32m--> 316\u001b[0;31m             \u001b[0;32mreturn\u001b[0m \u001b[0mself\u001b[0m\u001b[0;34m.\u001b[0m\u001b[0m_make_api_call\u001b[0m\u001b[0;34m(\u001b[0m\u001b[0moperation_name\u001b[0m\u001b[0;34m,\u001b[0m \u001b[0mkwargs\u001b[0m\u001b[0;34m)\u001b[0m\u001b[0;34m\u001b[0m\u001b[0;34m\u001b[0m\u001b[0m\n\u001b[0m\u001b[1;32m    317\u001b[0m \u001b[0;34m\u001b[0m\u001b[0m\n\u001b[1;32m    318\u001b[0m         \u001b[0m_api_call\u001b[0m\u001b[0;34m.\u001b[0m\u001b[0m__name__\u001b[0m \u001b[0;34m=\u001b[0m \u001b[0mstr\u001b[0m\u001b[0;34m(\u001b[0m\u001b[0mpy_operation_name\u001b[0m\u001b[0;34m)\u001b[0m\u001b[0;34m\u001b[0m\u001b[0;34m\u001b[0m\u001b[0m\n",
      "\u001b[0;32m~/anaconda3/envs/python3/lib/python3.6/site-packages/botocore/client.py\u001b[0m in \u001b[0;36m_make_api_call\u001b[0;34m(self, operation_name, api_params)\u001b[0m\n\u001b[1;32m    606\u001b[0m         }\n\u001b[1;32m    607\u001b[0m         request_dict = self._convert_to_request_dict(\n\u001b[0;32m--> 608\u001b[0;31m             api_params, operation_model, context=request_context)\n\u001b[0m\u001b[1;32m    609\u001b[0m \u001b[0;34m\u001b[0m\u001b[0m\n\u001b[1;32m    610\u001b[0m         \u001b[0mservice_id\u001b[0m \u001b[0;34m=\u001b[0m \u001b[0mself\u001b[0m\u001b[0;34m.\u001b[0m\u001b[0m_service_model\u001b[0m\u001b[0;34m.\u001b[0m\u001b[0mservice_id\u001b[0m\u001b[0;34m.\u001b[0m\u001b[0mhyphenize\u001b[0m\u001b[0;34m(\u001b[0m\u001b[0;34m)\u001b[0m\u001b[0;34m\u001b[0m\u001b[0;34m\u001b[0m\u001b[0m\n",
      "\u001b[0;32m~/anaconda3/envs/python3/lib/python3.6/site-packages/botocore/client.py\u001b[0m in \u001b[0;36m_convert_to_request_dict\u001b[0;34m(self, api_params, operation_model, context)\u001b[0m\n\u001b[1;32m    654\u001b[0m             api_params, operation_model, context)\n\u001b[1;32m    655\u001b[0m         request_dict = self._serializer.serialize_to_request(\n\u001b[0;32m--> 656\u001b[0;31m             api_params, operation_model)\n\u001b[0m\u001b[1;32m    657\u001b[0m         \u001b[0;32mif\u001b[0m \u001b[0;32mnot\u001b[0m \u001b[0mself\u001b[0m\u001b[0;34m.\u001b[0m\u001b[0m_client_config\u001b[0m\u001b[0;34m.\u001b[0m\u001b[0minject_host_prefix\u001b[0m\u001b[0;34m:\u001b[0m\u001b[0;34m\u001b[0m\u001b[0;34m\u001b[0m\u001b[0m\n\u001b[1;32m    658\u001b[0m             \u001b[0mrequest_dict\u001b[0m\u001b[0;34m.\u001b[0m\u001b[0mpop\u001b[0m\u001b[0;34m(\u001b[0m\u001b[0;34m'host_prefix'\u001b[0m\u001b[0;34m,\u001b[0m \u001b[0;32mNone\u001b[0m\u001b[0;34m)\u001b[0m\u001b[0;34m\u001b[0m\u001b[0;34m\u001b[0m\u001b[0m\n",
      "\u001b[0;32m~/anaconda3/envs/python3/lib/python3.6/site-packages/botocore/validate.py\u001b[0m in \u001b[0;36mserialize_to_request\u001b[0;34m(self, parameters, operation_model)\u001b[0m\n\u001b[1;32m    295\u001b[0m                                                     operation_model.input_shape)\n\u001b[1;32m    296\u001b[0m             \u001b[0;32mif\u001b[0m \u001b[0mreport\u001b[0m\u001b[0;34m.\u001b[0m\u001b[0mhas_errors\u001b[0m\u001b[0;34m(\u001b[0m\u001b[0;34m)\u001b[0m\u001b[0;34m:\u001b[0m\u001b[0;34m\u001b[0m\u001b[0;34m\u001b[0m\u001b[0m\n\u001b[0;32m--> 297\u001b[0;31m                 \u001b[0;32mraise\u001b[0m \u001b[0mParamValidationError\u001b[0m\u001b[0;34m(\u001b[0m\u001b[0mreport\u001b[0m\u001b[0;34m=\u001b[0m\u001b[0mreport\u001b[0m\u001b[0;34m.\u001b[0m\u001b[0mgenerate_report\u001b[0m\u001b[0;34m(\u001b[0m\u001b[0;34m)\u001b[0m\u001b[0;34m)\u001b[0m\u001b[0;34m\u001b[0m\u001b[0;34m\u001b[0m\u001b[0m\n\u001b[0m\u001b[1;32m    298\u001b[0m         return self._serializer.serialize_to_request(parameters,\n\u001b[1;32m    299\u001b[0m                                                      operation_model)\n",
      "\u001b[0;31mParamValidationError\u001b[0m: Parameter validation failed:\nInvalid type for parameter Body, value: [0, 0, 0, 0, 0, 0, 0, 0, 0, 0, 0, 0, 0, 0, 0, 0, 0, 0, 0, 0, 0, 0, 0, 0, 0, 0, 0, 0, 0, 0, 0, 0, 0, 0, 0, 0, 0, 0, 0, 0, 0, 0, 0, 0, 0, 0, 0, 0, 0, 0, 0, 0, 0, 0, 0, 0, 0, 0, 0, 0, 0, 0, 0, 0, 0, 0, 0, 0, 0, 0, 0, 0, 0, 0, 0, 0, 0, 0, 0, 0, 0, 0, 0, 0, 0, 0, 0, 0, 0, 0, 0, 0, 0, 0, 0, 0, 0, 0, 0, 0, 0, 0, 0, 0, 0, 0, 0, 0, 0, 0, 0, 0, 0, 0, 0, 0, 0, 0, 0, 0, 0, 0, 0, 0, 0, 0, 0, 0, 0, 0, 0, 0, 0, 0, 0, 0, 0, 0, 0, 0, 0, 0, 0, 0, 0, 0, 0, 0, 0, 0, 0, 0, 0, 0, 0, 0, 0, 0, 0, 0, 0, 0, 0, 0, 0, 0, 0, 0, 0, 0, 0, 0, 0, 0, 0, 0, 0, 0, 0, 0, 0, 0, 0, 0, 0, 0, 0, 0, 0, 0, 0, 0, 0, 0, 0, 0, 0, 0, 0, 0, 0, 0, 0, 0, 0, 0, 0, 0, 0, 0, 0, 0, 0, 0, 0, 0, 0, 0, 0, 0, 0, 0, 0, 0, 0, 1, 0, 0, 0, 0, 0, 0, 0, 0, 0, 0, 0, 0, 0, 0, 0, 0, 0, 0, 0, 0, 0, 0, 0, 0, 0, 0, 0, 0, 1, 0, 0, 0, 0, 0, 0, 0, 0, 0, 0, 0, 0, 0, 0, 0, 0, 0, 0, 0, 0, 0, 0, 0, 0, 0, 0, 0, 0, 0, 0, 0, 0, 0, 0, 0, 0, 0, 0, 0, 0, 0, 0, 0, 0, 0, 0, 0, 0, 0, 0, 0, 0, 0, 0, 0, 0, 0, 0, 0, 0, 0, 0, 0, 0, 0, 0, 0, 0, 0, 0, 0, 0, 0, 0, 0, 0, 0, 0, 0, 0, 0, 0, 0, 0, 0, 0, 0, 0, 0, 0, 0, 0, 0, 0, 0, 0, 0, 0, 0, 0, 0, 0, 0, 0, 0, 0, 0, 0, 0, 0, 0, 0, 0, 0, 0, 0, 0, 0, 0, 0, 0, 0, 0, 0, 0, 0, 0, 0, 0, 0, 0, 0, 0, 0, 0, 0, 0, 0, 0, 0, 0, 0, 0, 0, 0, 0, 0, 0, 0, 0, 0, 0, 0, 0, 0, 0, 0, 0, 0, 0, 0, 0, 0, 0, 0, 0, 0, 0, 0, 0, 0, 0, 0, 0, 0, 0, 0, 0, 0, 0, 0, 0, 0, 0, 0, 0, 0, 0, 0, 0, 0, 0, 0, 0, 0, 0, 0, 0, 0, 0, 0, 0, 0, 0, 0, 0, 0, 0, 0, 0, 0, 0, 0, 0, 0, 0, 0, 0, 0, 0, 0, 0, 0, 0, 0, 0, 0, 0, 0, 0, 0, 0, 0, 0, 0, 0, 0, 0, 0, 0, 0, 0, 0, 0, 0, 0, 0, 0, 0, 0, 0, 0, 0, 0, 0, 0, 0, 0, 0, 0, 0, 0, 0, 0, 0, 0, 0, 0, 0, 0, 0, 0, 0, 0, 0, 0, 0, 0, 0, 0, 0, 0, 0, 0, 0, 0, 0, 0, 0, 0, 0, 0, 0, 0, 0, 0, 0, 0, 0, 0, 0, 0, 0, 0, 0, 0, 0, 0, 0, 0, 0, 0, 0, 0, 0, 0, 0, 0, 0, 0, 0, 0, 0, 0, 0, 0, 0, 0, 0, 0, 0, 0, 0, 0, 0, 0, 0, 0, 0, 0, 0, 0, 0, 0, 0, 0, 0, 0, 0, 0, 0, 0, 0, 0, 0, 0, 0, 0, 0, 0, 0, 0, 0, 0, 0, 0, 0, 0, 0, 0, 0, 0, 0, 0, 0, 0, 0, 0, 1, 0, 0, 0, 0, 0, 0, 0, 0, 0, 0, 0, 0, 0, 0, 0, 0, 0, 0, 0, 0, 0, 0, 0, 0, 0, 0, 0, 0, 0, 0, 0, 0, 0, 0, 0, 0, 0, 0, 0, 0, 0, 0, 0, 0, 0, 0, 0, 0, 0, 0, 0, 0, 0, 0, 0, 0, 0, 0, 0, 0, 0, 0, 0, 0, 0, 0, 0, 0, 0, 0, 0, 0, 0, 0, 0, 0, 0, 0, 0, 0, 0, 0, 0, 0, 0, 0, 0, 0, 0, 0, 0, 0, 0, 0, 0, 0, 0, 0, 0, 0, 0, 0, 0, 0, 0, 0, 0, 0, 0, 0, 0, 0, 0, 0, 0, 0, 0, 0, 0, 0, 0, 0, 0, 0, 0, 0, 0, 0, 0, 0, 0, 0, 0, 0, 0, 0, 0, 0, 0, 0, 0, 0, 0, 0, 0, 0, 0, 0, 0, 0, 0, 0, 0, 0, 0, 0, 0, 0, 0, 0, 0, 0, 0, 0, 0, 0, 0, 0, 0, 0, 0, 0, 0, 0, 0, 0, 0, 0, 0, 0, 0, 0, 0, 0, 0, 0, 0, 0, 0, 0, 0, 0, 0, 0, 0, 0, 0, 0, 0, 0, 0, 0, 0, 0, 0, 0, 0, 0, 0, 0, 0, 0, 0, 0, 0, 0, 0, 0, 0, 0, 0, 0, 0, 0, 0, 0, 0, 0, 0, 0, 0, 0, 0, 0, 0, 0, 0, 0, 0, 0, 0, 0, 0, 0, 0, 0, 0, 0, 0, 0, 0, 0, 0, 1, 0, 0, 0, 0, 0, 0, 0, 0, 0, 0, 0, 0, 0, 0, 0, 0, 0, 0, 0, 0, 0, 0, 0, 0, 0, 0, 0, 0, 0, 0, 0, 0, 0, 0, 0, 0, 0, 0, 0, 0, 0, 0, 0, 0, 0, 0, 0, 0, 0, 0, 0, 0, 0, 0, 0, 0, 0, 0, 0, 0, 0, 0, 0, 0, 0, 0, 0, 0, 0, 0, 0, 0, 0, 0, 0, 0, 0, 0, 0, 0, 0, 0, 0, 0, 0, 0, 1, 0, 0, 0, 0, 0, 0, 0, 0, 0, 0, 0, 0, 0, 0, 0, 0, 0, 0, 0, 0, 0, 0, 0, 0, 0, 0, 0, 0, 0, 0, 0, 0, 0, 0, 0, 0, 0, 0, 0, 0, 0, 0, 0, 0, 0, 0, 0, 0, 0, 0, 0, 0, 0, 0, 0, 0, 0, 0, 0, 0, 0, 0, 0, 0, 0, 0, 0, 0, 0, 0, 0, 0, 0, 0, 0, 0, 0, 0, 0, 0, 0, 0, 0, 0, 0, 0, 0, 0, 0, 0, 0, 0, 0, 0, 0, 0, 0, 0, 0, 0, 0, 0, 0, 0, 0, 0, 0, 0, 0, 0, 0, 0, 0, 0, 0, 0, 0, 0, 0, 0, 0, 0, 0, 0, 0, 0, 0, 0, 0, 0, 0, 0, 0, 0, 0, 0, 0, 0, 0, 0, 0, 0, 0, 0, 0, 0, 0, 0, 0, 0, 0, 0, 0, 0, 0, 0, 0, 0, 0, 0, 0, 0, 0, 0, 0, 0, 0, 0, 0, 0, 0, 0, 0, 0, 0, 0, 0, 0, 0, 0, 0, 0, 0, 0, 0, 0, 0, 0, 0, 0, 0, 0, 0, 0, 0, 0, 0, 0, 0, 0, 0, 0, 0, 0, 0, 0, 0, 0, 0, 0, 0, 0, 0, 0, 0, 0, 0, 0, 0, 0, 0, 0, 0, 0, 0, 0, 0, 0, 0, 0, 0, 0, 0, 0, 0, 0, 0, 0, 0, 0, 0, 0, 0, 0, 0, 0, 0, 0, 0, 0, 0, 1, 0, 0, 0, 0, 0, 0, 0, 0, 0, 0, 0, 0, 0, 0, 0, 0, 0, 0, 0, 0, 0, 0, 0, 0, 0, 0, 0, 0, 0, 0, 0, 0, 0, 0, 0, 0, 0, 0, 0, 0, 0, 0, 0, 0, 0, 0, 0, 0, 0, 0, 0, 0, 0, 0, 0, 1, 0, 0, 0, 0, 0, 0, 0, 0, 0, 0, 0, 0, 0, 0, 0, 0, 0, 0, 0, 0, 0, 0, 0, 0, 0, 0, 0, 0, 0, 0, 0, 0, 0, 0, 0, 0, 0, 0, 0, 0, 0, 0, 0, 0, 0, 0, 0, 0, 0, 0, 0, 0, 0, 0, 0, 0, 0, 0, 0, 0, 0, 0, 0, 0, 0, 0, 0, 0, 0, 0, 0, 0, 0, 0, 0, 0, 0, 0, 0, 0, 0, 0, 0, 0, 0, 0, 0, 0, 0, 0, 0, 0, 0, 0, 0, 0, 0, 0, 0, 0, 0, 0, 0, 0, 0, 0, 0, 0, 0, 0, 0, 0, 0, 0, 0, 0, 0, 0, 0, 0, 0, 0, 0, 0, 0, 0, 0, 0, 0, 0, 0, 0, 0, 0, 0, 0, 0, 0, 0, 0, 0, 0, 0, 0, 0, 0, 0, 0, 0, 0, 0, 0, 0, 0, 0, 0, 0, 0, 0, 0, 0, 0, 0, 0, 0, 0, 0, 0, 0, 0, 0, 0, 0, 0, 0, 0, 0, 0, 0, 0, 0, 0, 0, 0, 0, 0, 0, 0, 0, 0, 0, 0, 0, 0, 0, 0, 0, 0, 0, 0, 0, 0, 0, 0, 0, 0, 0, 0, 0, 0, 0, 0, 0, 0, 0, 0, 0, 0, 0, 0, 0, 0, 0, 0, 0, 0, 0, 0, 0, 0, 0, 0, 0, 0, 0, 0, 0, 0, 0, 0, 0, 0, 0, 0, 0, 0, 0, 0, 0, 0, 0, 0, 0, 0, 0, 0, 0, 0, 0, 0, 0, 0, 0, 0, 0, 0, 0, 0, 0, 0, 0, 0, 0, 0, 0, 0, 0, 0, 0, 0, 0, 0, 0, 0, 0, 0, 0, 0, 0, 0, 0, 0, 0, 0, 0, 0, 0, 0, 0, 0, 0, 0, 0, 0, 0, 0, 0, 0, 0, 0, 0, 0, 0, 0, 0, 0, 0, 0, 0, 0, 0, 0, 0, 0, 0, 0, 0, 0, 0, 0, 0, 0, 0, 0, 0, 0, 0, 0, 0, 0, 0, 0, 0, 0, 0, 0, 0, 0, 0, 0, 0, 0, 0, 0, 0, 0, 0, 0, 0, 0, 0, 0, 0, 0, 0, 0, 0, 0, 0, 0, 0, 0, 0, 0, 0, 0, 0, 0, 0, 0, 0, 0, 0, 0, 0, 0, 0, 0, 0, 0, 0, 0, 0, 0, 0, 0, 0, 0, 0, 0, 0, 0, 0, 0, 0, 0, 0, 0, 0, 0, 0, 0, 0, 0, 0, 0, 0, 0, 0, 0, 0, 0, 0, 0, 0, 0, 0, 0, 0, 0, 0, 0, 0, 0, 0, 0, 0, 0, 0, 0, 0, 0, 0, 0, 0, 0, 0, 0, 0, 0, 0, 0, 0, 0, 0, 0, 0, 0, 0, 0, 0, 0, 0, 0, 0, 0, 0, 0, 0, 0, 0, 0, 0, 0, 0, 0, 0, 0, 0, 0, 0, 0, 0, 0, 0, 0, 0, 0, 0, 0, 0, 0, 0, 0, 0, 0, 0, 0, 0, 0, 0, 0, 0, 0, 0, 0, 0, 0, 0, 0, 0, 0, 0, 0, 0, 0, 0, 0, 0, 0, 0, 0, 0, 0, 0, 0, 0, 0, 0, 0, 0, 0, 0, 0, 0, 0, 0, 0, 0, 0, 0, 0, 0, 0, 0, 0, 0, 0, 0, 0, 0, 0, 0, 0, 0, 0, 0, 0, 0, 0, 0, 0, 0, 0, 0, 0, 0, 0, 0, 0, 0, 0, 0, 0, 0, 0, 0, 0, 0, 0, 0, 0, 0, 0, 0, 0, 0, 0, 0, 0, 0, 0, 0, 0, 0, 0, 0, 0, 0, 0, 0, 0, 0, 0, 0, 0, 0, 0, 0, 0, 0, 0, 0, 0, 0, 0, 0, 0, 0, 0, 0, 0, 0, 0, 0, 0, 0, 0, 0, 0, 0, 0, 0, 0, 0, 0, 0, 0, 0, 0, 0, 0, 0, 0, 0, 0, 0, 0, 0, 0, 0, 0, 0, 0, 0, 0, 0, 0, 0, 0, 0, 0, 0, 0, 0, 0, 0, 0, 0, 0, 0, 0, 0, 0, 0, 0, 0, 0, 0, 0, 0, 0, 1, 0, 0, 0, 0, 0, 0, 0, 0, 0, 0, 0, 0, 0, 0, 0, 0, 0, 0, 0, 0, 0, 0, 0, 0, 0, 0, 0, 0, 0, 0, 0, 0, 0, 0, 0, 0, 0, 0, 0, 0, 0, 0, 0, 0, 0, 0, 0, 0, 0, 0, 0, 0, 0, 0, 0, 0, 0, 0, 0, 0, 0, 0, 0, 0, 0, 0, 0, 0, 0, 0, 0, 0, 0, 0, 1, 0, 0, 0, 0, 0, 0, 0, 0, 0, 0, 0, 0, 0, 0, 0, 0, 0, 0, 0, 0, 1, 0, 0, 1, 0, 0, 0, 0, 0, 0, 0, 0, 0, 0, 0, 0, 0, 0, 0, 0, 0, 0, 0, 0, 0, 0, 0, 0, 0, 0, 0, 0, 0, 0, 0, 0, 0, 0, 0, 0, 0, 0, 0, 0, 0, 0, 0, 0, 0, 0, 0, 0, 0, 0, 0, 0, 0, 0, 0, 0, 0, 0, 0, 0, 0, 0, 0, 0, 0, 0, 0, 0, 0, 0, 0, 0, 0, 0, 0, 0, 0, 0, 0, 0, 0, 0, 0, 0, 0, 0, 0, 0, 0, 0, 0, 0, 0, 0, 0, 0, 0, 0, 0, 0, 0, 0, 0, 0, 0, 0, 0, 0, 0, 0, 0, 0, 0, 0, 0, 0, 0, 0, 0, 0, 0, 0, 0, 0, 0, 0, 0, 0, 0, 0, 0, 0, 0, 0, 0, 0, 0, 0, 0, 0, 0, 0, 0, 0, 0, 0, 0, 0, 0, 0, 0, 0, 0, 0, 0, 0, 0, 0, 0, 0, 0, 0, 0, 0, 0, 0, 0, 0, 0, 0, 0, 0, 0, 0, 0, 0, 0, 0, 0, 0, 0, 0, 0, 0, 0, 0, 0, 0, 0, 0, 0, 0, 0, 0, 0, 0, 0, 0, 0, 0, 0, 0, 0, 0, 0, 0, 0, 0, 0, 0, 0, 0, 0, 0, 0, 0, 0, 0, 0, 0, 0, 0, 0, 0, 0, 0, 0, 0, 0, 0, 0, 0, 0, 0, 0, 0, 0, 0, 0, 0, 0, 0, 0, 0, 0, 0, 0, 0, 0, 0, 0, 0, 0, 0, 0, 0, 0, 0, 0, 0, 0, 0, 0, 0, 0, 0, 0, 0, 0, 0, 0, 0, 0, 0, 0, 0, 0, 0, 0, 0, 0, 0, 0, 0, 0, 0, 0, 0, 0, 0, 0, 0, 0, 0, 0, 0, 0, 0, 0, 0, 0, 0, 0, 0, 0, 0, 0, 0, 0, 0, 0, 0, 0, 0, 0, 0, 0, 0, 0, 0, 0, 0, 0, 0, 0, 0, 0, 0, 0, 0, 0, 0, 0, 0, 0, 0, 0, 0, 0, 0, 0, 0, 0, 0, 0, 0, 0, 0, 0, 0, 0, 0, 0, 0, 0, 0, 0, 0, 0, 0, 0, 0, 0, 0, 0, 0, 0, 0, 0, 0, 0, 0, 0, 0, 0, 0, 0, 0, 0, 0, 0, 0, 0, 0, 0, 0, 0, 0, 0, 0, 0, 0, 0, 0, 0, 0, 0, 0, 0, 0, 0, 0, 0, 0, 0, 0, 0, 0, 0, 0, 0, 0, 0, 0, 0, 0, 0, 0, 0, 0, 0, 0, 0, 0, 0, 0, 0, 0, 0, 0, 0, 0, 0, 0, 0, 0, 0, 0, 0, 0, 0, 0, 0, 0, 0, 0, 0, 0, 0, 0, 0, 0, 0, 0, 0, 0, 0, 0, 0, 0, 0, 0, 0, 0, 0, 0, 0, 1, 0, 0, 0, 0, 0, 0, 0, 0, 0, 0, 0, 0, 0, 0, 0, 0, 0, 0, 0, 0, 0, 0, 0, 0, 0, 0, 0, 0, 0, 0, 0, 0, 0, 0, 0, 0, 0, 0, 0, 0, 0, 0, 0, 0, 0, 0, 0, 0, 0, 0, 0, 0, 0, 0, 0, 0, 0, 0, 0, 0, 0, 0, 0, 0, 0, 0, 0, 0, 0, 0, 0, 0, 0, 0, 0, 0, 0, 0, 0, 0, 0, 0, 0, 0, 0, 0, 0, 0, 0, 0, 0, 0, 0, 0, 0, 0, 0, 0, 0, 0, 0, 0, 0, 0, 0, 0, 0, 0, 0, 0, 0, 0, 0, 0, 0, 0, 0, 0, 0, 0, 0, 0, 0, 0, 0, 0, 0, 0, 0, 0, 0, 0, 0, 0, 0, 0, 0, 0, 0, 0, 0, 0, 0, 0, 0, 0, 0, 0, 0, 0, 0, 0, 0, 0, 0, 0, 0, 0, 0, 0, 0, 0, 0, 0, 0, 0, 0, 0, 0, 0, 0, 0, 0, 0, 0, 0, 0, 0, 0, 0, 0, 0, 0, 0, 0, 0, 0, 0, 0, 0, 0, 0, 0, 0, 0, 0, 0, 0, 0, 0, 0, 0, 0, 0, 0, 0, 0, 0, 0, 0, 0, 0, 0, 0, 0, 0, 0, 0, 0, 0, 0, 0, 0, 0, 0, 0, 0, 0, 0, 0, 0, 0, 0, 0, 0, 0, 0, 0, 0, 0, 0, 0, 0, 0, 0, 0, 0, 0, 0, 0, 0, 0, 0, 0, 0, 0, 0, 0, 0, 0, 0, 0, 0, 0, 0, 0, 0, 0, 0, 0, 0, 0, 0, 0, 0, 0, 0, 0, 0, 0, 0, 0, 0, 0, 0, 0, 0, 0, 0, 0, 0, 0, 0, 0, 0, 0, 0, 0, 0, 0, 0, 0, 0, 0, 0, 0, 0, 0, 0, 0, 0, 0, 0, 0, 0, 0, 0, 0, 0, 0, 0, 0, 0, 0, 0, 0, 0, 0, 0, 0, 0, 0, 0, 0, 0, 0, 0, 0, 0, 0, 0, 0, 0, 0, 0, 0, 0, 0, 0, 0, 0, 0, 0, 0, 0, 0, 0, 0, 0, 0, 0, 0, 0, 0, 0, 0, 0, 0, 0, 0, 0, 0, 0, 0, 0, 0, 0, 0, 0, 0, 0, 0, 0, 0, 0, 0, 0, 0, 0, 0, 0, 0, 0, 0, 0, 0, 0, 0, 0, 0, 0, 0, 0, 0, 0, 0, 0, 0, 0, 0, 0, 0, 0, 0, 0, 0, 0, 0, 0, 0, 0, 0, 0, 0, 0, 0, 0, 0, 0, 0, 0, 0, 0, 0, 0, 0, 0, 0, 0, 0, 0, 0, 0, 0, 0, 0, 0, 0, 0, 0, 0, 0, 0, 0, 0, 0, 0, 0, 0, 0, 0, 0, 0, 0, 0, 0, 0, 0, 0, 0, 0, 0, 0, 0, 0, 0, 0, 0, 0, 0, 0, 0, 0, 0, 0, 0, 0, 0, 0, 0, 0, 0, 0, 0, 0, 0, 0, 0, 0, 0, 0, 0, 0, 0, 0, 0, 0, 0, 0, 0, 0, 0, 0, 1, 0, 0, 0, 0, 0, 0, 0, 0, 0, 0, 0, 0, 0, 0, 0, 0, 0, 0, 0, 0, 0, 0, 0, 0, 0, 0, 0, 0, 0, 0, 0, 0, 0, 0, 0, 2, 0, 0, 0, 0, 0, 0, 0, 0, 0, 0, 0, 0, 0, 0, 0, 0, 0, 0, 0, 0, 0, 0, 0, 0, 0, 0, 0, 0, 0, 0, 0, 0, 0, 0, 0, 0, 0, 0, 0, 0, 1, 0, 0, 0, 0, 0, 0, 0, 0, 0, 0, 0, 0, 0, 0, 0, 0, 0, 0, 0, 0, 0, 0, 0, 0, 0, 0, 0, 0, 0, 0, 0, 0, 0, 0, 0, 0, 0, 0, 0, 0, 0, 0, 0, 0, 0, 0, 0, 0, 0, 0, 0, 0, 0, 0, 0, 0, 0, 0, 0, 0, 0, 0, 0, 0, 0, 0, 0, 0, 0, 0, 0, 0, 0, 0, 0, 0, 0, 0, 0, 0, 0, 0, 0, 0, 0, 0, 0, 0, 0, 0, 0, 0, 0, 0, 0, 0, 0, 0, 0, 0, 0, 0, 0, 0, 0, 0, 0, 0, 0, 0, 0, 0, 0, 0, 0, 0, 0, 0, 0, 0, 0, 0, 0, 0, 0, 0, 0, 0, 0, 0, 0, 0, 0, 0, 0, 0, 0, 0, 0, 0, 0, 0, 0, 0, 0, 0, 0, 0, 0, 0, 0, 0, 0, 0, 0, 0, 0, 0, 0, 0, 0, 0, 0, 0, 0, 0, 0, 0, 0, 0, 0, 0, 0, 0, 0, 0, 0, 0, 0, 0, 0, 0, 0, 0, 0, 0, 0, 0, 0, 0, 0, 0, 0, 0, 0, 0, 0, 0, 0, 0, 0, 0, 0, 0, 0, 0, 0, 0, 0, 0, 0, 0, 0, 0, 0, 0, 0, 0, 0, 0, 0, 0, 0, 0, 0, 0, 0, 0, 0, 0, 0, 0, 0, 0, 0, 0, 0, 0, 0, 0, 0, 0, 0, 0, 0, 0, 0, 0, 0, 0, 0, 0, 0, 0, 0, 0, 0, 0, 0, 0, 0, 0, 0, 0, 0, 0, 0, 0, 0, 0, 0, 0, 0, 0, 0, 0, 0, 0, 0, 0, 0, 0, 0, 0, 0, 0, 0, 0, 0, 0, 0, 0, 0, 0, 0, 0, 0, 0, 0, 0, 0, 0, 0, 0, 0, 0, 0, 0, 0, 0, 0, 0, 0, 0, 0, 0, 0, 0, 0, 0, 0, 0, 0, 0, 0, 0, 0, 0, 0, 0, 0, 0, 0, 0, 0, 0, 0, 0, 0, 0, 0, 0, 0, 0, 0, 0, 0, 0, 0, 0, 0, 0, 0, 0, 0, 0, 0, 0, 0, 0, 0, 0, 0, 0, 0, 0, 0, 0, 0, 0, 0, 0, 0, 0, 0, 0, 0, 0, 0, 0, 0, 0, 0, 0, 0, 0, 0, 0, 0, 0, 0, 0, 0, 0, 0, 0, 0, 0, 0, 0, 0, 0, 0, 0, 0, 0, 0, 0, 0, 0, 0, 0, 0, 0, 0, 0, 0, 0, 0, 0, 0, 0, 0, 0, 0, 0, 0, 0, 0, 0, 0, 0, 0, 0, 0, 0, 0, 0, 0, 0, 0, 0, 0, 0, 0, 0, 0, 0, 0, 0, 0, 0, 0, 0, 0, 0, 0, 0, 0, 0, 0, 0, 0, 0, 0, 0, 0, 0, 0, 0, 0, 0, 0, 0, 0, 0, 0, 0, 0, 0, 0, 0, 0, 0, 0, 0, 0, 0, 0, 0, 0, 0, 0, 0, 0, 0, 0, 1, 0, 0, 0, 0, 0, 0, 0, 0, 0, 0, 0, 0, 0, 0, 0, 0, 0, 0, 0, 0, 0, 0, 0, 0, 0, 0, 0, 0, 0, 0, 0, 0, 0, 0, 0, 0, 0, 0, 0, 0, 0, 0, 0, 0, 0, 0, 0, 0, 0, 0, 0, 0, 0, 0, 0, 0, 0, 0, 0, 0, 0, 0, 0, 0, 0, 0, 0, 0, 0, 0, 0, 0, 0, 0, 0, 0, 0, 0, 0, 0, 0, 0, 0, 0, 0, 0, 0, 0, 0, 0, 0, 0, 0, 0, 0, 0, 0, 0, 0, 0, 0, 0, 0, 0, 0, 0, 0, 0, 0, 0, 2, 0, 0, 0, 0, 0, 0, 0, 0, 0, 0, 0, 0, 0, 0, 0, 0, 0, 0, 0, 0, 0, 0, 0, 0, 0, 0, 0, 0, 0, 0, 0, 0, 0, 0, 0, 0, 0, 0, 0, 0, 0, 0, 0, 0, 0, 0, 0, 0, 0, 0, 0, 0, 0, 0, 0, 0, 0, 0, 0, 0, 0, 0, 0, 0, 0, 0, 0, 0, 0, 0, 0, 0, 0, 0, 0, 0, 0, 0, 0, 0, 0, 0, 0, 0, 0, 0, 0, 0, 0, 0, 0, 0, 0, 0, 0, 0, 0, 0, 0, 0, 0, 0, 0, 0, 0, 0, 0, 0, 0, 0, 0, 0, 0, 0, 0, 0, 0, 0, 0, 0, 0, 0, 0, 0, 0, 0, 0, 0, 0, 0, 0, 0, 0, 0, 0, 0, 0, 0, 0, 0, 0, 0, 0, 0, 0, 0, 0, 0, 0, 0, 0, 0, 0, 0, 0, 0, 0, 0, 0, 0, 0, 0, 0, 0, 0, 0, 0, 0, 0, 0, 0, 0, 0, 0, 0, 0, 0, 0, 0, 0, 0, 0, 0, 0, 0, 0, 0, 0, 0, 0, 0, 0, 0, 0, 0, 0, 0, 0, 0, 0, 0, 0, 0, 0, 0, 0, 0, 0, 0, 0, 0, 0, 0, 0, 0, 0, 0, 0, 0, 0, 0, 0, 0, 0, 0, 0, 0, 0, 0, 0, 0, 0, 0, 0, 0, 0, 0, 0, 0, 0, 0, 0, 0, 0, 0, 0, 0, 0, 0, 0, 0, 0, 0, 0, 0, 0, 0, 0, 0, 0, 0, 0, 0, 0, 0, 0, 0, 0, 0, 0, 0, 0, 0, 0, 0, 0, 0, 0, 0, 0, 0, 0, 0, 0, 0, 0, 0, 0, 0, 0, 0, 0, 0, 0, 0, 0, 0, 0, 0, 0, 0, 0, 0, 0, 0, 0, 0, 0, 0, 0, 0, 0, 0, 0, 0, 0, 0, 0, 0, 0, 0, 0, 0, 0, 0, 0, 0, 0, 0, 0, 0, 0, 0, 0, 0, 0, 0, 0, 0, 0, 0, 0, 0, 0, 0, 0, 0, 0, 0, 0, 0, 0, 0, 0, 0, 0, 0, 0, 0, 0, 0, 0, 0, 0, 0, 0, 0, 0, 0, 0, 0, 0, 0, 0, 0, 0, 0, 0, 0, 0, 0, 0, 0, 0, 0, 0, 0, 0, 0, 0, 0, 0, 0, 0, 0, 0, 0, 0, 0, 0, 0, 0, 0, 0, 0, 0, 0, 0, 0, 0, 0, 0, 0, 0, 0, 0, 0, 0, 0, 0, 0, 0, 0, 0, 0, 0, 0, 0, 0, 0, 0, 0, 0, 0, 0, 0, 0, 0, 0, 0, 0, 0, 0, 0, 0, 0, 0, 0, 0, 0, 0, 0, 0, 0, 0, 0, 0, 0, 0, 0, 0, 0, 0, 0, 0, 0, 0, 0, 0, 0, 0, 0, 0, 0, 0, 0, 0, 0, 0, 0, 0, 0, 0, 0, 0, 0, 0, 0, 0, 0, 0, 0, 0, 0, 0, 0, 0, 0, 0, 0, 0, 0, 0, 0, 0, 0, 0, 0, 0, 0, 0, 0, 0, 0, 0, 0, 0, 0, 0, 0, 0, 0, 0, 0, 0, 0, 0, 0, 0, 0, 0, 0, 0, 0, 0, 0, 0, 0, 0, 0, 0, 0, 0, 0, 0, 0, 0, 0, 0, 0, 0, 0, 0, 0, 0, 0, 0, 0, 0, 0, 0, 0, 0, 0, 0, 0, 0, 0, 0, 0, 0, 0, 0, 0, 0, 0, 0, 0, 0, 0, 0, 0, 0, 0, 0, 0, 0, 0, 0, 0, 0, 0, 0, 0, 0, 0, 0, 0, 0, 0, 0, 0, 0, 0, 0, 0, 0, 0, 0, 0, 0, 0, 0, 0, 0, 0, 0, 0, 0, 0, 0, 0, 0, 0, 0, 0, 0, 0, 0, 0, 0, 0, 0, 0, 0, 0, 0, 0, 0, 0, 0, 0, 0, 0, 0, 0, 0, 0, 0, 0, 0, 0, 0, 0, 0, 0, 0, 0, 0, 0, 0, 0, 0, 0, 0, 0, 0, 0, 0, 0, 0, 0, 0, 0, 0, 0, 0, 0, 0, 0, 0, 0, 0, 0, 0, 0, 0, 0, 0, 1, 0, 0, 0, 0, 0, 0, 0, 0, 0, 0, 0, 0, 0, 0, 0, 0, 0, 0, 0, 0, 0, 0, 0, 0, 0, 0, 0, 0, 0, 0, 0, 0, 0, 0, 0, 0, 0, 0, 0, 0, 0, 0, 0, 0, 0, 0, 0, 0, 0, 0, 0, 0, 0, 0, 0, 0, 0, 0, 0, 0, 0, 0, 0, 0, 0, 0, 0, 0, 0, 0, 0, 0, 0, 0, 0, 0, 0, 0, 0, 0, 0, 0, 0, 0, 0, 0, 0, 0, 0, 0, 0, 0, 0, 0, 0, 0, 0, 0, 0, 0, 0, 0, 0, 0, 0, 0, 0, 1, 0, 0, 0, 0, 0, 0, 0, 0, 0, 0, 0, 0, 0, 0, 0, 0, 0, 0, 0, 0, 0, 0, 0, 0, 0, 0, 0, 0, 0, 0, 0, 0, 0, 0, 0, 0, 0, 0, 0, 0, 0, 0, 0, 0, 0, 0, 0, 0, 0, 0, 0, 0, 0, 0, 0, 0, 0, 0, 0, 0, 0, 0, 0, 0, 0, 0, 0, 0, 0, 0, 0, 0, 0, 0, 0, 0, 0, 0, 0, 0, 0, 0, 0, 0, 0, 0, 0, 0, 0, 0, 0, 0, 0, 0, 0, 0, 0, 0, 0, 0, 0, 0, 0, 0, 0, 0, 0, 0, 0, 0, 0, 0, 0, 0, 0, 0, 0, 0, 0, 0, 0, 0, 0, 0, 0, 0, 0, 0, 0, 0, 0, 0, 0, 0, 0, 0, 0, 0, 0, 0, 0, 0, 0, 0, 0, 0, 0, 0, 0, 0, 0, 0, 0, 0, 0, 0, 0, 0, 0, 0, 0, 0, 0, 0, 0, 0, 0, 0, 0, 0, 0, 0, 0, 0, 0, 0, 0, 0, 0, 0, 0, 0, 0, 0, 0, 0, 0, 0, 0, 0, 0, 0, 0, 0, 0, 0, 0, 0, 0, 0, 0, 0, 0, 0, 0, 0, 0, 0, 0, 0, 0, 0, 0, 0, 0, 0, 0, 0, 0, 0, 0, 0, 0, 0, 0, 0, 0, 0, 0, 0, 0, 0, 0, 0, 0, 0, 0, 0, 0, 0, 0, 0, 0, 0, 0, 0, 0, 0, 0, 0, 0, 0, 0, 0, 0, 0, 0, 0, 0, 0, 0, 0, 0, 0, 0, 0, 0, 0, 0, 0, 0, 0, 0, 0, 0, 0, 0, 0, 0, 0, 0, 0, 0, 0, 0, 0, 0, 0, 0, 0, 0, 0, 0, 0, 0, 0, 0, 0, 0, 0, 0, 0, 0, 0, 0, 0, 0, 0, 0, 0, 0, 0, 0, 0, 0, 0, 0, 0, 0, 0, 0, 0, 0, 0, 0, 0, 0, 0, 0, 0, 0, 0, 0, 0, 0, 0, 0, 0, 0, 0, 0, 0, 0, 0, 0, 0, 0, 0, 0, 0, 0, 0, 0, 0, 0, 0, 0, 0, 0, 0, 0, 0, 0, 0, 0, 0, 0, 0, 0, 0, 0, 0, 0, 0, 0, 0, 0, 0, 0, 0, 0, 0, 0, 0, 0, 0, 0, 0, 0, 0, 0, 0, 0, 0, 0, 0, 0, 0, 0, 0, 0, 0, 0, 0, 0, 0, 0, 0, 0, 0, 0, 0, 0, 0, 0, 0, 0, 0, 0, 0, 0, 0, 0, 0, 0, 0, 0, 0, 0, 0, 0, 0, 0, 0, 0, 0, 0, 0, 0, 0, 0, 0, 0, 0, 0, 0, 0, 0, 0, 0, 0, 0, 0, 0, 0, 0, 0, 0, 0, 0, 0, 0, 0, 0, 0, 2, 0, 1, 0], type: <class 'list'>, valid types: <class 'bytes'>, <class 'bytearray'>, file-like object"
     ]
    }
   ],
   "source": [
    "response = runtime.invoke_endpoint(EndpointName = xgb_predictor.endpoint, # The name of the endpoint we created\n",
    "                                       ContentType = 'text/csv',                     # The data format that is expected\n",
    "                                       Body = test_bow)"
   ]
  },
  {
   "cell_type": "markdown",
   "metadata": {},
   "source": [
    "So why did we get an error?\n",
    "\n",
    "Because we tried to send the endpoint a list of integers but it expected us to send data of type `text/csv`. So, we need to convert it."
   ]
  },
  {
   "cell_type": "code",
   "execution_count": 64,
   "metadata": {},
   "outputs": [],
   "source": [
    "response = runtime.invoke_endpoint(EndpointName = xgb_predictor.endpoint, # The name of the endpoint we created\n",
    "                                       ContentType = 'text/csv',                     # The data format that is expected\n",
    "                                       Body = ','.join([str(val) for val in test_bow]).encode('utf-8'))"
   ]
  },
  {
   "cell_type": "code",
   "execution_count": 65,
   "metadata": {},
   "outputs": [
    {
     "name": "stdout",
     "output_type": "stream",
     "text": [
      "{'ResponseMetadata': {'RequestId': 'd1831b72-0142-48e2-a9ce-e93e6c0ba1a7', 'HTTPStatusCode': 200, 'HTTPHeaders': {'x-amzn-requestid': 'd1831b72-0142-48e2-a9ce-e93e6c0ba1a7', 'x-amzn-invoked-production-variant': 'AllTraffic', 'date': 'Thu, 3 Sep 2020 06:34:37 GMT', 'content-type': 'text/csv; charset=utf-8', 'content-length': '14'}, 'RetryAttempts': 0}, 'ContentType': 'text/csv; charset=utf-8', 'InvokedProductionVariant': 'AllTraffic', 'Body': <botocore.response.StreamingBody object at 0x7f18290a3860>}\n"
     ]
    }
   ],
   "source": [
    "print(response)"
   ]
  },
  {
   "cell_type": "markdown",
   "metadata": {},
   "source": [
    "As we can see, the response from our model is a somewhat complicated looking dict that contains a bunch of information. The bit that we are most interested in is `'Body'` object which is a streaming object that we need to `read` in order to make use of."
   ]
  },
  {
   "cell_type": "code",
   "execution_count": 66,
   "metadata": {},
   "outputs": [
    {
     "name": "stdout",
     "output_type": "stream",
     "text": [
      "0.379704236984\n"
     ]
    }
   ],
   "source": [
    "response = response['Body'].read().decode('utf-8')\n",
    "print(response)"
   ]
  },
  {
   "cell_type": "markdown",
   "metadata": {},
   "source": [
    "Now that we know how to process the incoming user data we can start setting up the infrastructure to make our simple web app work. To do this we will make use of two different services. Amazon's Lambda and API Gateway services.\n",
    "\n",
    "Lambda is a service which allows someone to write some relatively simple code and have it executed whenever a chosen trigger occurs. For example, you may want to update a database whenever new data is uploaded to a folder stored on S3.\n",
    "\n",
    "API Gateway is a service that allows you to create HTTP endpoints (url addresses) which are connected to other AWS services. One of the benefits to this is that you get to decide what credentials, if any, are required to access these endpoints.\n",
    "\n",
    "In our case we are going to set up an HTTP endpoint through API Gateway which is open to the public. Then, whenever anyone sends data to our public endpoint we will trigger a Lambda function which will send the input (in our case a review) to our model's endpoint and then return the result."
   ]
  },
  {
   "cell_type": "markdown",
   "metadata": {},
   "source": [
    "### Setting up a Lambda function\n",
    "\n",
    "The first thing we are going to do is set up a Lambda function. This Lambda function will be executed whenever our public API has data sent to it. When it is executed it will receive the data, perform any sort of processing that is required, send the data (the review) to the SageMaker endpoint we've created and then return the result.\n",
    "\n",
    "#### Part A: Create an IAM Role for the Lambda function\n",
    "\n",
    "Since we want the Lambda function to call a SageMaker endpoint, we need to make sure that it has permission to do so. To do this, we will construct a role that we can later give the Lambda function.\n",
    "\n",
    "Using the AWS Console, navigate to the **IAM** page and click on **Roles**. Then, click on **Create role**. Make sure that the **AWS service** is the type of trusted entity selected and choose **Lambda** as the service that will use this role, then click **Next: Permissions**.\n",
    "\n",
    "In the search box type `sagemaker` and select the check box next to the **AmazonSageMakerFullAccess** policy. Then, click on **Next: Review**.\n",
    "\n",
    "Lastly, give this role a name. Make sure you use a name that you will remember later on, for example `LambdaSageMakerRole`. Then, click on **Create role**."
   ]
  },
  {
   "cell_type": "markdown",
   "metadata": {},
   "source": [
    "#### Part B: Create a Lambda function\n",
    "\n",
    "Now it is time to actually create the Lambda function. Remember from earlier that in order to process the user provided input and send it to our endpoint we need to gather two pieces of information:\n",
    "\n",
    " - The name of the endpoint, and\n",
    " - the vocabulary object.\n",
    "\n",
    "We will copy these pieces of information to our Lambda function after we create it.\n",
    "\n",
    "To start, using the AWS Console, navigate to the AWS Lambda page and click on **Create a function**. When you get to the next page, make sure that **Author from scratch** is selected. Now, name your Lambda function, using a name that you will remember later on, for example `sentiment_analysis_xgboost_func`. Make sure that the **Python 3.6** runtime is selected and then choose the role that you created in the previous part. Then, click on **Create Function**.\n",
    "\n",
    "On the next page you will see some information about the Lambda function you've just created. If you scroll down you should see an editor in which you can write the code that will be executed when your Lambda function is triggered. Collecting the code we wrote above to process a single review and adding it to the provided example `lambda_handler` we arrive at the following.\n",
    "\n",
    "```python\n",
    "# We need to use the low-level library to interact with SageMaker since the SageMaker API\n",
    "# is not available natively through Lambda.\n",
    "import boto3\n",
    "\n",
    "# And we need the regular expression library to do some of the data processing\n",
    "import re\n",
    "\n",
    "REPLACE_NO_SPACE = re.compile(\"(\\.)|(\\;)|(\\:)|(\\!)|(\\')|(\\?)|(\\,)|(\\\")|(\\()|(\\))|(\\[)|(\\])\")\n",
    "REPLACE_WITH_SPACE = re.compile(\"(<br\\s*/><br\\s*/>)|(\\-)|(\\/)\")\n",
    "\n",
    "def review_to_words(review):\n",
    "    words = REPLACE_NO_SPACE.sub(\"\", review.lower())\n",
    "    words = REPLACE_WITH_SPACE.sub(\" \", words)\n",
    "    return words\n",
    "    \n",
    "def bow_encoding(words, vocabulary):\n",
    "    bow = [0] * len(vocabulary) # Start by setting the count for each word in the vocabulary to zero.\n",
    "    for word in words.split():  # For each word in the string\n",
    "        if word in vocabulary:  # If the word is one that occurs in the vocabulary, increase its count.\n",
    "            bow[vocabulary[word]] += 1\n",
    "    return bow\n",
    "\n",
    "\n",
    "def lambda_handler(event, context):\n",
    "    \n",
    "    vocab = \"*** ACTUAL VOCABULARY GOES HERE ***\"\n",
    "    \n",
    "    words = review_to_words(event['body'])\n",
    "    bow = bow_encoding(words, vocab)\n",
    "\n",
    "    # The SageMaker runtime is what allows us to invoke the endpoint that we've created.\n",
    "    runtime = boto3.Session().client('sagemaker-runtime')\n",
    "\n",
    "    # Now we use the SageMaker runtime to invoke our endpoint, sending the review we were given\n",
    "    response = runtime.invoke_endpoint(EndpointName = '***ENDPOINT NAME HERE***',# The name of the endpoint we created\n",
    "                                       ContentType = 'text/csv',                 # The data format that is expected\n",
    "                                       Body = ','.join([str(val) for val in bow]).encode('utf-8')) # The actual review\n",
    "\n",
    "    # The response is an HTTP response whose body contains the result of our inference\n",
    "    result = response['Body'].read().decode('utf-8')\n",
    "    \n",
    "    # Round the result so that our web app only gets '1' or '0' as a response.\n",
    "    result = round(float(result))\n",
    "\n",
    "    return {\n",
    "        'statusCode' : 200,\n",
    "        'headers' : { 'Content-Type' : 'text/plain', 'Access-Control-Allow-Origin' : '*' },\n",
    "        'body' : str(result)\n",
    "    }\n",
    "```"
   ]
  },
  {
   "cell_type": "markdown",
   "metadata": {},
   "source": [
    "Once you have copy and pasted the code above into the Lambda code editor, replace the `**ENDPOINT NAME HERE**` portion with the name of the endpoint that we deployed earlier. You can determine the name of the endpoint using the code cell below."
   ]
  },
  {
   "cell_type": "code",
   "execution_count": 48,
   "metadata": {},
   "outputs": [
    {
     "data": {
      "text/plain": [
       "'xgboost-2020-09-03-05-30-54-428'"
      ]
     },
     "execution_count": 48,
     "metadata": {},
     "output_type": "execute_result"
    }
   ],
   "source": [
    "xgb_predictor.endpoint"
   ]
  },
  {
   "cell_type": "markdown",
   "metadata": {},
   "source": [
    "In addition, you will need to copy the vocabulary dict to the appropriate place in the code at the beginning of the `lambda_handler` method. The cell below prints out the vocabulary dict in a way that is easy to copy and paste."
   ]
  },
  {
   "cell_type": "code",
   "execution_count": 49,
   "metadata": {},
   "outputs": [
    {
     "name": "stdout",
     "output_type": "stream",
     "text": [
      "{'for': 1781, 'films': 1718, 'that': 4422, 'fill': 1711, 'in': 2254, 'subject': 4250, 'matter': 2768, 'world': 4946, 'cinema': 813, 'so': 4044, 'after': 142, 'watching': 4813, 'the': 4424, 'trailer': 4551, 'water': 4814, 'expected': 1575, 'to': 4505, 'like': 2597, 'this': 4455, 'film': 1713, 'because': 430, 'thought': 4460, 'id': 2209, 'on': 3104, 'something': 4064, 'unique': 4659, 'movie': 2925, 'honestly': 2144, 'portrays': 3344, 'teen': 4386, 'lesbian': 2571, 'love': 2667, 'sort': 4075, 'of': 3082, 'female': 1690, 'version': 4718, 'beautiful': 426, 'thing': 4448, 'main': 2705, 'characters': 757, 'are': 283, 'young': 4989, 'french': 1827, 'women': 4923, '15': 7, 'years': 4979, 'old': 3099, 'marie': 2736, 'is': 2357, 'and': 225, 'pretty': 3384, 'way': 4818, 'anne': 244, 'loyal': 2677, 'erotic': 1513, 'between': 473, 'always': 202, 'if': 2219, 'not': 3039, 'at': 329, 'surface': 4307, 'then': 4434, 'just': 2434, 'below': 460, 'it': 2363, 'however': 2180, 'about': 66, 'upon': 4681, 'two': 4617, 'teens': 4390, 'sexual': 3907, 'frustration': 1840, 'suffering': 4274, 'working': 4944, 'cross': 1063, 'purposes': 3475, 'least': 2552, 'mechanical': 2787, 'sex': 3906, 'also': 198, 'proves': 3447, 'makers': 2713, 'their': 4429, 'own': 3157, 'when': 4860, 'they': 4440, 'become': 431, 'too': 4520, 'manipulative': 2726, 'extra': 1604, 'features': 1678, 'lord': 2650, 'flies': 1753, 'dvd': 1388, 'director': 1260, 'peter': 3247, 'says': 3800, 'starts': 4156, 'with': 4911, 'meaning': 2779, 'regard': 3587, 'children': 789, 'as': 309, 'angels': 232, 'while': 4866, 'adults': 125, 'part': 3193, 'maker': 2712, 'has': 2040, 'mighty': 2836, 'where': 4862, 'joy': 2419, 'asked': 315, 'myself': 2952, 'yes': 4982, 'first': 1733, 'can': 662, 'be': 416, 'painful': 3171, 'but': 633, 'fresh': 1830, 'life': 2590, 'these': 4439, 'positive': 3346, 'aspects': 320, 'missing': 2869, 'from': 1837, 'there': 4436, 'no': 3019, 'balance': 385, 'wants': 4789, 'poignant': 3315, 'impressed': 2248, 'her': 2082, 'ruins': 3751, 'what': 4856, 'point': 3316, 'showing': 3957, 'only': 3109, 'girl': 1906, 'nude': 3057, 'know': 2487, 'an': 222, 'established': 1522, 'tradition': 4546, 'nudity': 3058, 'european': 1528, 'by': 639, 'devil': 1224, 'probably': 3407, 'little': 2622, 'thief': 4446, 'heart': 2061, 'friends': 1834, 'instance': 2301, 'petty': 3249, 'see': 3854, 'audience': 350, 'make': 2711, 'show': 3952, 'person': 3238, 'either': 1436, 'or': 3123, 'wouldve': 4959, 'been': 436, 'honest': 2143, 'go': 1921, 'scene': 3808, 'club': 860, 'dancing': 1104, 'follows': 1772, 'next': 3006, 'perhaps': 3235, 'biggest': 478, 'honesty': 2145, 'takes': 4348, 'place': 3282, 'shes': 3929, 'normal': 3032, 'asks': 317, 'who': 4869, 'cares': 687, 'being': 446, 'plays': 3301, 'false': 1639, 'phony': 3256, 'question': 3487, 'authentic': 356, 'character': 755, 'viewers': 4737, 'time': 4493, 'deserve': 1195, 'here': 2083, 'moments': 2887, 'which': 4865, 'since': 3988, 'do': 1298, 'all': 186, 'people': 3221, 'take': 4346, 'wearing': 4829, 'suits': 4283, 'boot': 536, 'any': 254, 'would': 4957, 'down': 1331, 'core': 992, 'thats': 4423, 'thrown': 4479, 'garbage': 1867, 'order': 3125, 'get': 1896, 'taste': 4366, 'mouth': 2919, 'three': 4467, 'actresses': 105, 'promising': 3433, 'find': 1723, 'better': 470, 'talents': 4353, 'may': 2774, 'excellent': 1553, 'actors': 103, 'louise': 2664, 'best': 467, 'actress': 104, 'terms': 4404, 'technique': 4381, 'could': 1004, 'have': 2049, 'successful': 4263, 'career': 683, 'supporting': 4301, 'roles': 3726, 'leading': 2545, 'lady': 2505, 'both': 545, 'intensity': 2314, 'future': 1853, 'she': 3922, 'play': 3296, 'everything': 1542, 'emotionally': 1458, 'riding': 3694, 'rise': 3701, 'was': 4803, 'very': 4721, 'disappointing': 1270, 'will': 4885, 'please': 3304, 'falling': 1637, 'necessarily': 2982, 'sake': 3774, 'middle': 2833, 'aged': 148, 'guy': 1997, 'girls': 1908, 'quality': 3484, 'watch': 4809, 'identify': 2213, 'one': 3106, 'other': 3134, 'imdb': 2237, 'reviewer': 3676, 'bit': 486, 'slow': 4029, 'gets': 1897, 'goes': 1927, 'along': 194, 'released': 3602, 'roger': 3723, 'over': 3147, 'some': 4059, 'same': 3777, 'ground': 1976, 'much': 2933, 'higher': 2098, 'budget': 607, 'such': 4265, 'fatal': 1662, 'attraction': 348, 'rising': 3702, 'blues': 517, 'singer': 3991, 'against': 146, 'husbands': 2202, 'his': 2115, 'almost': 192, 'need': 2986, 'emotional': 1457, 'physical': 3262, 'hole': 2129, 'away': 367, 'clever': 838, 'use': 4689, 'minimal': 2855, 'effects': 1429, 'settings': 3900, 'nicely': 3008, 'done': 1318, 'small': 4031, 'number': 3059, 'locations': 2634, 'using': 4695, 'every': 1537, 'throughout': 4476, 'though': 4459, 'clearly': 837, 'reminds': 3619, 'me': 2777, 'many': 2731, 'ways': 4820, 'more': 2903, 'fully': 1844, 'realized': 3553, 'recent': 3566, 'scenario': 3807, 'namely': 2961, 'swimming': 4335, 'pool': 3327, 'seems': 3863, 'borrowed': 543, 'useful': 4691, 'ideas': 2212, 'up': 4680, 'amanda': 204, 'smaller': 4032, 'set': 3897, 'its': 2367, 'suspense': 4327, 'view': 4734, 'ones': 3107, 'occasional': 3073, 'well': 4841, 'genre': 1885, 'twist': 4614, 'abuse': 73, 'past': 3207, 'again': 145, 'interesting': 2322, 'agree': 154, 'unexpected': 4647, 'sympathetic': 4339, 'reaction': 3541, 'plight': 3308, 'aspect': 319, 'story': 4204, 'cast': 707, 'think': 4450, 'confusing': 939, 'hard': 2030, 'follow': 1769, 'plot': 3309, 'didnt': 1238, 'seem': 3860, 'sense': 3876, 'fury': 1852, 'made': 2695, 'dubbed': 1376, 'language': 2514, 'another': 248, 'doesnt': 1305, 'exactly': 1549, 'meant': 2783, 'maybe': 2775, 'problem': 3408, 'doubt': 1328, 'account': 88, 'problems': 3409, 'dubbing': 1377, 'bad': 380, 'voices': 4761, 'dont': 1320, 'match': 2761, 'scenes': 3810, 'strange': 4208, 'irrelevant': 2355, 'than': 4418, 'viewer': 4736, 'even': 1531, 'did': 1237, 'look': 2644, 'himself': 2108, 'he': 2053, 'attacks': 337, 'now': 3053, 'put': 3480, 'together': 4509, 'had': 2000, 'might': 2835, 'waste': 4806, 'your': 4991, 'saw': 3797, 'remembered': 3616, 'seeing': 3856, 'bag': 382, 'yet': 4984, 'never': 3000, 'terrific': 4407, 'cinematography': 817, 'lead': 2543, 'quite': 3495, 'brilliant': 581, 'captures': 675, 'nostalgia': 3037, 'real': 3547, 'wound': 4960, 'childhood': 787, 'simple': 3981, 'effective': 1427, 'big': 476, 'am': 203, 'looking': 2646, 'out': 3140, 'project': 3427, 'most': 2908, 'second': 3845, 'album': 174, 'hope': 2152, 'lame': 2508, 'shark': 3920, 'enjoy': 1482, 'states': 4160, 'behind': 445, 'feature': 1676, 'loves': 2672, 'horror': 2165, 'movies': 2926, 'them': 4430, 'dedicated': 1149, 'notable': 3040, 'directors': 1262, 'george': 1890, 'basically': 405, 'those': 4458, 'great': 1961, 'giving': 1912, 'mother': 2910, 'piece': 3272, 'mothers': 2911, 'day': 1126, 'wrong': 4973, 'casting': 708, 'act': 96, '40': 47, 'role': 3725, '18': 10, 'year': 4978, 'right': 3695, 'hes': 2090, 'high': 2097, 'school': 3812, 'reactions': 3542, 'hearts': 2063, 'ripped': 3700, 'amusing': 220, 'ear': 1394, 'girlfriend': 1907, 'god': 1923, 'scarecrow': 3803, 'doing': 1308, 'off': 3083, 'cars': 699, 'calling': 650, 'losers': 2654, 'does': 1304, 'redeeming': 3577, 'factor': 1620, 'oh': 3095, 'wait': 4768, 'you': 4986, 'absolutely': 71, 'must': 2949, 'rock': 3719, 'roll': 3727, 'covers': 1021, 'really': 3556, 'song': 4069, 'dude': 1378, 'summer': 4287, 'full': 1843, 'mention': 2809, 'sit': 4001, 'case': 704, 'want': 4786, 'read': 3543, 'further': 1850, 'page': 3167, 'arent': 286, 'spoilers': 4121, 'ill': 2225, 'sum': 4285, 'mature': 2772, 'violent': 4746, 'parts': 3199, 'plenty': 3307, 'death': 1138, 'handful': 2014, 'blood': 510, 'try': 4597, 'overly': 3154, 'corny': 994, 'serious': 3890, 'magical': 2702, 'princess': 3397, 'bride': 575, 'youll': 4988, 'close': 850, 'others': 3135, 'once': 3105, 'twice': 4610, 'month': 2895, 'feel': 1681, 'im': 2229, 'huge': 2182, 'sci': 3814, 'fi': 1698, 'fantasy': 1650, 'fan': 1646, 'bored': 539, 'repetitive': 3632, 'lines': 2610, 'flash': 1742, 'faster': 1660, 'count': 1007, '10': 0, 'diamond': 1232, 'rough': 3740, 'end': 1466, 'tired': 4499, 'enough': 1489, 'expectations': 1574, 'hits': 2122, 'bourne': 552, 'favor': 1668, 'having': 2051, 'my': 2950, 'hopes': 2156, 'thoroughly': 4457, 'fiction': 1699, 'seemed': 3861, 'appealing': 270, 'certainly': 735, 'utterly': 4699, 'surprised': 4310, 'gone': 1932, 'thinking': 4451, 'generic': 1882, 'clichéd': 842, 'fooled': 1777, 'definitely': 1158, 'fairy': 1630, 'tale': 4350, 'indeed': 2268, 'witches': 4910, 'magic': 2701, 'requires': 3641, 'disbelief': 1273, 'refreshing': 3585, 'found': 1808, 'based': 402, 'anything': 258, 'ive': 2369, 'seen': 3864, 'actually': 108, 'good': 1934, 'unlike': 4667, '90': 59, 're': 3535, 'appear': 271, 'side': 3963, 'sign': 3968, 'hollywood': 2134, 'running': 3755, 'book': 533, 'epic': 1504, 'likes': 2600, 'rest': 3656, 'seat': 3844, 'packed': 3166, 'action': 99, 'turn': 4602, 'nor': 3031, 'bullets': 618, 'hook': 2149, 'threatening': 4466, 'tear': 4376, 'dramatic': 1344, 'tension': 4402, 'apart': 262, 'theater': 4425, 'loud': 2662, 'boom': 535, 'enormous': 1488, 'sound': 4079, 'grab': 1946, 'attention': 343, 'whats': 4858, 'happening': 2025, 'screen': 3828, 'trying': 4598, 'latest': 2524, 'cgi': 737, 'techniques': 4382, 'intelligence': 2310, 'dialogs': 1229, 'couldve': 1006, 'figured': 1709, '3rd': 46, 'grade': 1948, 'boy': 555, 'hate': 2043, 'watched': 4811, 'enjoyed': 1484, 'creative': 1038, 'storyline': 4205, 'before': 438, 'eyes': 1611, 'sure': 4305, 'known': 2490, 'going': 1928, 'happen': 2023, 'makes': 2714, 'forget': 1790, 'important': 2244, 'noticed': 3048, 'left': 2559, 'feeling': 1682, 'truly': 4594, 'gem': 1874, 'fell': 1687, 'short': 3945, 'cold': 869, 'sweet': 4333, 'cup': 1077, 'tea': 4370, 'work': 4940, 'sitting': 4005, 'through': 4475, 'come': 883, 'worth': 4953, 'everyone': 1540, 'yourself': 4993, 'stand': 4140, 'test': 4414, 'alone': 193, 'black': 491, 'dark': 1112, 'etc': 1525, 'should': 3950, 'finding': 1724, 'into': 2329, 'collection': 871, 'moment': 2886, 'trust': 4595, 'simply': 3984, 'wonderful': 4928, 'rating': 3529, 'few': 1697, 'reviews': 3678, 'enjoyable': 1483, 'lacks': 2503, 'entertainment': 1498, 'value': 4706, 'murder': 2938, 'shots': 3949, 'supposed': 4303, 'ending': 1469, 'coming': 893, 'cliche': 840, 'overrated': 3155, 'recommend': 3571, 'hotel': 2172, 'gripping': 1973, 'drama': 1342, 'guilt': 1991, 'portrayed': 3342, 'entertaining': 1497, 'cruel': 1067, 'entirely': 1501, 'pair': 3176, 'were': 4846, 'mistaken': 2872, 'believed': 453, 'suicide': 4279, 'charm': 764, 'essential': 1520, 'element': 1440, 'true': 4593, 'spirit': 4110, 'produced': 3414, '30s': 43, '40s': 48, 'certain': 734, 'kind': 2474, 'nostalgic': 3038, 'able': 65, 'create': 1033, 'white': 4868, 'poetic': 3313, 'realism': 3549, 'ball': 386, 'martin': 2747, 'remains': 3610, 'magnificent': 2703, 'popularity': 3334, 'fact': 1619, 'national': 2969, 'warm': 4792, 'touching': 4534, 'ellen': 1444, 'superb': 4292, 'given': 1910, 'performances': 3229, 'memory': 2803, 'youve': 4995, 'got': 1941, 'amazing': 208, 'presence': 3373, 'buy': 637, 'miracle': 2860, 'gods': 1925, 'creation': 1037, 'judging': 2422, 'final': 1719, 'brought': 598, 'cg': 736, 'whole': 4871, 'new': 3002, 'level': 2582, 'motion': 2912, 'capture': 673, 'neither': 2995, 'cartoon': 701, 'picture': 3269, 'looks': 2647, 'homage': 2138, 'noir': 3022, 'sin': 3986, 'city': 822, 'blade': 493, 'generation': 1880, 'paris': 3189, 'trip': 4585, 'achieved': 92, 'hoping': 2157, 'mind': 2849, 'likely': 2599, 'figure': 1708, 'youre': 4992, 'half': 2004, 'simplistic': 3983, 'compared': 909, 'famous': 1645, 'thrillers': 4471, 'pleasant': 3302, 'sequel': 3884, 'legend': 2562, 'name': 2959, 'stories': 4202, 'self': 3868, 'contained': 960, 'community': 905, 'supposedly': 4304, 'vicious': 4726, 'creature': 1042, 'called': 649, 'bay': 414, 'deep': 1150, 'brothers': 597, 'older': 3100, 'sister': 3999, 'performance': 3228, 'cute': 1087, 'different': 1244, 'sitcom': 4002, 'star': 4147, 'check': 774, 'local': 2632, 'live': 2623, 'trio': 4584, 'lost': 2658, 'storm': 4203, 'bear': 418, 'gentle': 1887, 'comes': 888, 'kids': 2465, 'rescue': 3642, 'tom': 4512, 'direction': 1257, 'pace': 3160, 'capturing': 676, 'rural': 3757, 'town': 4539, 'exact': 1548, 'detail': 1213, 'drawing': 1346, 'country': 1011, 'warmth': 4794, 'thankfully': 4420, 'developing': 1220, 'manner': 2728, 'sappy': 3783, 'adorable': 123, 'dawn': 1124, 'wells': 4843, 'mary': 2750, 'ann': 242, 'island': 2358, 'gives': 1911, 'portrayal': 3341, 'loving': 2673, 'class': 830, 'single': 3994, 'mom': 2885, 'jim': 2399, 'wilson': 4891, 'john': 2406, 'offer': 3086, 'support': 4299, 'couple': 1013, 'robert': 3712, 'capable': 669, 'displays': 1289, 'setting': 3899, 'pure': 3471, 'civilization': 824, 'score': 3821, 'flesh': 1750, 'addition': 117, 'special': 4094, 'praise': 3364, '90s': 60, 'odd': 3079, 'advance': 126, 'totally': 4530, 'cant': 668, 'till': 4491, 'week': 4835, 'line': 2608, 'tune': 4599, 'home': 2139, 'tape': 4362, 'simon': 3980, 'rex': 3682, 'actor': 102, 'suspenseful': 4328, 'exciting': 1561, 'stay': 4163, 'air': 163, 'believe': 452, 'episode': 1505, 'wasnt': 4805, 'lifetime': 2592, 'decided': 1145, 'favorite': 1669, 'mean': 2778, 'extremely': 1608, 'intriguing': 2332, 'similarities': 3977, 'david': 1121, 'lynch': 2689, 'literally': 2620, 'red': 3576, 'novels': 3052, 'house': 2175, 'mrs': 2929, 'der': 1187, 'present': 3374, 'accompanied': 85, 'clear': 836, 'references': 3583, 'africa': 140, 'content': 963, 'describe': 1190, 'personal': 3240, 'memories': 2802, 'central': 732, 'issue': 2361, 'quest': 3486, 'social': 4047, 'contact': 958, 'themes': 4432, 'theyre': 4443, 'without': 4913, 'backgrounds': 379, 'still': 4185, 'discover': 1275, 'fascinating': 1656, 'filled': 1712, 'splendid': 4116, 'imagery': 2231, 'ups': 4683, 'nasty': 2967, 'dream': 1350, 'sequences': 3887, 'atmosphere': 331, 'style': 4246, 'say': 3798, 'hour': 2173, 'deeply': 1152, 'visual': 4755, 'trilogy': 4583, 'came': 653, 'comparison': 911, 'rushed': 3759, 'development': 1221, 'animation': 240, 'mixture': 2878, 'traditional': 4547, 'painted': 3174, 'distracting': 1293, 'breaks': 569, 'finished': 1730, 'points': 3319, 'battle': 412, 'dialogue': 1230, 'letter': 2579, 'spend': 4102, 'hours': 2174, 'havent': 2050, 'confused': 938, 'lot': 2659, 'stunning': 4241, 'head': 2054, 'western': 4851, 'attempt': 338, 'loved': 2668, 'how': 2178, 'cultural': 1075, 'differences': 1243, 'japanese': 2379, 'less': 2573, 'human': 2185, 'whether': 4864, 'complicated': 922, 'james': 2375, 'stewart': 4181, 'return': 3664, 'war': 4790, 'service': 3895, 'wanting': 4788, 'change': 746, 'image': 2230, 'largely': 2516, 'reason': 3557, 'westerns': 4852, '50s': 51, 'impressive': 2250, 'photographed': 3258, 'wins': 4899, 'prize': 3405, 'gun': 1993, 'won': 4925, 'west': 4850, 'stolen': 4192, 'shelley': 3927, 'winters': 4901, 'reputation': 3639, 'stephen': 4173, 'dan': 1099, 'boyfriend': 556, 'wouldnt': 4958, 'universal': 4662, 'international': 2323, 'tony': 4519, 'curtis': 1084, 'hudson': 2181, 'unknown': 4665, 'sequence': 3886, 'indian': 2271, 'attack': 335, 'charles': 761, 'reveals': 3672, 'leaving': 2555, 'horse': 2167, 'drawn': 1347, 'later': 2523, 'twists': 4616, 'turns': 4606, 'passing': 3204, 'hand': 2012, 'finally': 1721, 'owner': 3158, 'melodramatic': 2797, 'guns': 1995, 'finale': 1720, 'perfect': 3224, 'villain': 4742, 'equally': 1508, 'played': 3297, 'low': 2674, 'constructed': 956, 'directed': 1255, 'anthony': 251, 'mann': 2727, 'fun': 1845, 'bull': 616, 'paint': 3173, 'soldier': 4051, 'attractive': 349, 'viewing': 4738, 'above': 67, 'average': 360, 'why': 4877, 'carrey': 693, 'hilarious': 2103, 'cry': 1070, 'laughter': 2533, 'blame': 497, 'expecting': 1576, 'premise': 3370, 'funny': 1849, 'co': 864, 'jennifer': 2389, 'involvement': 2344, 'massive': 2755, 'hit': 2119, 'summary': 4286, 'suggests': 4278, 'disappointed': 1269, 'various': 4712, 'reasons': 3560, 'laughed': 2530, 'sat': 3785, 'ice': 2207, 'admit': 121, 'judge': 2421, 'previous': 3387, 'expect': 1573, 'dumb': 1382, 'mask': 2751, 'bruce': 600, 'words': 4938, 'mediocre': 2790, 'hello': 2075, 'around': 295, 'public': 3460, 'eye': 1609, 'ten': 4397, 'four': 1809, 'word': 4937, 'cliché': 841, 'specifically': 4097, 'american': 212, 'jimmy': 2400, 'walter': 4782, 'clue': 861, 'grown': 1981, 'appeal': 269, 'teenager': 4388, 'drugs': 1371, 'education': 1422, 'soon': 4072, 'tells': 4395, 'heavy': 2067, 'handed': 2013, 'treat': 4569, 'us': 4687, 'face': 1614, 'subtlety': 4258, 'statement': 4159, 'means': 2782, 'we': 4821, 'brains': 561, 'prevent': 3385, 'total': 4529, 'start': 4153, 'father': 1664, 'son': 4068, 'speak': 4091, 'drives': 1364, '3000': 42, 'miles': 2843, 'conversations': 978, 'difficult': 1245, 'necessary': 2983, 'grand': 1950, 'especially': 1518, 'similar': 3976, 'tell': 4393, 'glad': 1913, 'chair': 739, 'laughing': 2531, 'damn': 1097, 'baseball': 401, 'ever': 1536, 'lived': 2624, 'getting': 1898, 'training': 4555, 'jack': 2370, 'attempting': 340, 'night': 3012, 'football': 1780, 'game': 1861, 'dinner': 1250, 'wives': 4918, 'williams': 4887, 'russell': 3760, 'overlooked': 3153, 'top': 4523, 'notch': 3042, 'comedy': 887, 'golden': 1931, 'age': 147, 'taking': 4349, 'limited': 2604, 'technology': 4383, 'standards': 4142, 'bears': 419, 'generations': 1881, 'attempts': 341, 'tv': 4607, 'fast': 1659, 'warner': 4797, 'interest': 2320, 'understood': 4644, 'da': 1091, 'trail': 4550, 'everywhere': 1543, 'detective': 1216, 'doctor': 1300, 'eccentric': 1411, 'un': 4627, 'victim': 4727, 'anyway': 259, 'course': 1016, 'william': 4886, 'powell': 3358, 'michael': 2829, 'army': 293, 'cops': 990, 'crime': 1052, 'job': 2402, 'dead': 1129, 'body': 525, 'dog': 1306, 'events': 1534, 'surrounding': 4316, 'murders': 2942, 'model': 2880, 'sets': 3898, 'combine': 881, 'fantastic': 1649, 'camera': 656, 'angles': 235, 'produce': 3413, 'modern': 2882, 'usual': 4696, 'conclusion': 933, 'overall': 3149, 'displayed': 1288, 'somewhat': 4066, 'contrived': 973, 'happens': 2026, 'slightly': 4027, 'opinion': 3117, 'status': 4162, 'classic': 832, 'worst': 4952, 'interested': 2321, 'until': 4677, 'sucked': 4267, 'reached': 3537, 'dinosaurs': 1252, 'ship': 3933, 'weird': 4839, 'named': 2960, 'needed': 2987, 'apparently': 268, 'wishes': 4906, 'decides': 1146, 'grant': 1953, 'wish': 4904, 'times': 4495, 'everybody': 1538, 'exploitation': 1590, 'eat': 1408, 'stuff': 4240, 'bringing': 584, 'stop': 4198, 'disease': 1281, 'power': 3359, 'singing': 3993, 'else': 1446, 'playing': 3300, 'jumping': 2428, 'spider': 4106, 'man': 2719, 'brother': 596, 'blank': 499, 'contract': 970, 'let': 2577, 'instead': 2304, 'evil': 1546, 'give': 1909, 'stupid': 4244, 'him': 2107, 'drop': 1366, 'eaten': 1409, 'walked': 4774, 'filmmakers': 1717, 'violence': 4745, 'escape': 1515, 'bunch': 620, 'completely': 919, 'yeah': 4977, 'back': 376, 'goofy': 1936, 'poorly': 3329, 'written': 4972, 'contains': 961, 'holes': 2130, 'committed': 902, 'episodes': 1506, 'season': 3842, 'twilight': 4611, 'zone': 4999, 'outer': 3142, 'limits': 2605, 'decent': 1143, 'rent': 3625, 'heard': 2059, 'series': 3889, 'dvds': 1389, 'cut': 1086, 'ray': 3533, 'cool': 986, 'younger': 4990, 'predictable': 3367, 'wondering': 4930, 'list': 2615, 'far': 1651, 'spent': 4105, 'majority': 2710, 'lying': 2688, 'bed': 434, 'cannot': 667, 'acting': 98, 'asleep': 318, 'entire': 1500, 'secret': 3848, 'revealed': 3670, 'daughters': 1119, 'closer': 853, 'except': 1554, 'advice': 132, 'happy': 2029, 'relationships': 3597, 'felt': 1689, 'forth': 1801, 'unnecessary': 4669, 'idea': 2210, 'code': 866, 'device': 1223, 'used': 4690, 'romance': 3731, 'cheap': 771, 'none': 3027, 'disappointment': 1271, 'although': 200, 'veteran': 4722, 'richard': 3685, 'okay': 3098, 'silence': 3972, 'days': 1127, 'credibility': 1044, 'breaking': 568, 'itself': 2368, 'leads': 2546, 'nowhere': 3055, 'works': 4945, 'department': 1178, 'safety': 3771, 'office': 3090, 'claire': 828, 'danes': 1105, 'quickly': 3491, 'discovers': 1277, 'obsessed': 3068, 'aint': 162, 'hundreds': 2193, 'calls': 651, 'learns': 2551, 'desperate': 1204, 'methods': 2825, 'conflicts': 937, 'actions': 100, 'letting': 2581, 'brutal': 601, 'touch': 4531, 'teenage': 4387, 'area': 284, 'battles': 413, 'credit': 1046, 'worried': 4949, 'whos': 4875, 'near': 2978, 'responsible': 3655, 'things': 4449, 'beyond': 474, 'theres': 4438, 'dangerous': 1107, 'laughable': 2528, 'whenever': 4861, 'push': 3477, 'destruction': 1212, 'someone': 4062, 'moving': 2927, 'evidence': 1544, 'went': 4845, 'hurt': 2199, 'dropped': 1367, 'leave': 2553, 'isnt': 2359, 'horrible': 2160, 'uncomfortable': 4634, 'moral': 2901, 'last': 2519, 'comedies': 886, 'production': 3419, 'values': 4707, 'actual': 107, 'robot': 3716, 'monster': 2891, 'suit': 4280, 'cardboard': 679, 'arm': 290, 'leg': 2560, 'holy': 2137, 'realistic': 3550, 'kept': 2454, 'shall': 3915, 'pass': 3201, 'worse': 4951, 'funniest': 1848, 'demon': 1173, 'horribly': 2161, 'costume': 1002, 'result': 3659, 'hysterical': 2205, 'watchable': 4810, 'accident': 83, 'money': 2888, 'nothing': 3046, 'boring': 541, 'german': 1893, 'blair': 495, 'witch': 4909, 'couldnt': 1005, 'finish': 1729, 'usually': 4697, 'kinds': 2476, 'earth': 1400, 'wrote': 4974, 'entry': 1502, 'loads': 2631, 'producers': 3416, 'editing': 1419, 'helped': 2077, 'unfortunately': 4651, 'already': 196, 'gotten': 1944, 'producer': 3415, 'author': 357, 'making': 2716, 'long': 2642, 'trek': 4575, 'edge': 1415, 'forever': 1789, 'prefer': 3368, 'current': 1081, 'fairly': 1629, 'gene': 1876, 'original': 3128, 'pilot': 3276, 'excuse': 1562, 'kirk': 2480, 'court': 1017, 'control': 974, 'abilities': 63, 'captain': 671, 'condition': 934, 'physically': 3263, 'bring': 583, 'planet': 3289, 'questions': 3489, 'details': 1215, 'reed': 3580, 'said': 3773, 'julia': 2424, 'specific': 4096, 'looked': 2645, 'shot': 3948, 'reminded': 3618, 'purple': 3473, 'appeared': 274, 'large': 2515, 'faces': 1616, 'focus': 1763, 'extended': 1602, 'among': 216, 'call': 648, 'society': 4048, 'nobody': 3021, 'care': 681, 'shed': 3923, 'historical': 2116, 'light': 2593, 'period': 3236, 'circumstances': 819, 'saying': 3799, 'television': 4392, 'helen': 2072, 'hunt': 2195, 'gave': 1872, 'raw': 3532, 'cop': 988, 'serial': 3888, 'killer': 2468, 'perfectly': 3226, 'falls': 1638, 'kills': 2472, 'kid': 2462, 'talks': 4358, 'wow': 4962, 'steven': 4179, 'shocking': 3939, 'oscar': 3132, 'worthy': 4956, 'killing': 2470, 'scary': 3806, 'realizes': 3554, 'anymore': 256, 'thriller': 4470, 'gory': 1940, 'ago': 153, 'bought': 550, 'recently': 3567, 'wondered': 4927, 'liked': 2598, 'awful': 370, 'typical': 4620, 'fake': 1633, 'costumes': 1003, 'tim': 4492, 'ok': 3097, 'jessica': 2395, 'execution': 1564, 'poor': 3328, 'saving': 3796, 'grace': 1947, 'seriously': 3891, 'accents': 78, 'essence': 1519, 'annoying': 247, 'stereotypes': 4176, 'notice': 3047, 'americans': 213, 'theyd': 4441, 'men': 2804, 'buying': 638, 'hadnt': 2001, 'putting': 3482, 'lately': 2522, 'wall': 4779, 'witty': 4917, 'figures': 1710, 'ratings': 3530, 'ruin': 3749, 'ran': 3512, 'rate': 3526, 'puts': 3481, 'vote': 4764, 'humor': 2189, 'easily': 1403, 'rated': 3527, 'title': 4502, 'description': 1193, 'festival': 1694, 'eager': 1393, 'heck': 2068, 'ended': 1468, 'several': 3904, 'deliver': 1165, 'driven': 1362, 'across': 95, 'united': 4661, 'complexity': 921, 'guide': 1990, 'storytelling': 4206, 'somewhere': 4067, 'location': 2633, 'sloppy': 4028, 'intent': 2315, 'group': 1977, 'invisible': 2341, 'lies': 2589, 'perspective': 3245, 'truck': 4592, 'naive': 2957, 'forward': 1805, 'propaganda': 3435, 'claim': 825, 'outside': 3145, 'generally': 1878, 'burt': 626, 'nuts': 3063, 'greatest': 1963, 'strength': 4216, 'occasionally': 3074, 'rarely': 3524, 'lack': 2500, 'understand': 4640, 'fall': 1635, 'under': 4636, 'spell': 4101, 'smart': 4033, 'obvious': 3070, 'mostly': 2909, 'filmed': 1714, 'stage': 4136, 'wide': 4879, 'open': 3111, '1980': 19, 'lovers': 2671, 'indie': 2273, 'cynical': 1090, 'holds': 2128, 'history': 2118, 'spoiled': 4119, 'feels': 1684, 'bigger': 477, 'dollar': 1310, 'productions': 3420, 'lives': 2626, 'widow': 4882, 'daughter': 1118, 'living': 2627, 'opportunities': 3119, 'position': 3345, 'ad': 109, 'rip': 3699, 'torn': 4526, 'our': 3138, 'appreciated': 278, 'born': 542, 'seven': 3902, 'dollars': 1311, 'moves': 2924, 'move': 2920, 'tiny': 4498, 'property': 3438, 'rolling': 3729, 'endless': 1471, 'broken': 592, 'sounds': 4082, 'animals': 238, 'soul': 4077, 'silent': 3973, 'talk': 4355, 'youd': 4987, 'learn': 2548, 'winter': 4900, 'germany': 1895, 'husband': 2201, 'runs': 3756, 'neighbor': 2991, 'hired': 2114, 'barry': 399, 'routine': 3742, 'meat': 2786, 'ordinary': 3127, 'struggle': 4231, 'nature': 2974, 'land': 2509, 'despite': 1207, 'constant': 954, 'twelve': 4608, 'weeks': 4837, 'pay': 3216, 'naturally': 2973, 'logic': 2636, 'chance': 744, 'offers': 3089, 'solution': 4057, 'marriage': 2742, 'purely': 3472, 'free': 1824, 'genuinely': 1889, 'fond': 1773, 'grow': 1979, 'becomes': 432, 'pregnant': 3369, 'travels': 4566, 'folks': 1768, 'baby': 374, 'herself': 2089, 'help': 2076, 'whatsoever': 4859, 'sick': 3962, 'dies': 1241, 'lose': 2652, 'birth': 484, 'presentation': 3375, 'pull': 3461, 'happened': 2024, 'wooden': 4934, 'appreciate': 277, 'forgotten': 1794, 'harry': 2036, 'inevitable': 2279, 'eventually': 1535, 'sometimes': 4065, 'took': 4521, 'develop': 1218, 'type': 4618, 'dirty': 1264, 'during': 1384, 'silly': 3974, 'fashion': 1657, 'wave': 4816, 'music': 2945, 'supernatural': 4298, 'tales': 4354, 'bbc': 415, 'christmas': 807, 'ghost': 1899, 'fault': 1666, 'hill': 2105, 'mood': 2897, 'lighting': 2594, 'writing': 4971, 'team': 4375, 'plan': 3287, 'sons': 4071, 'prison': 3401, 'reynolds': 3683, 'shirley': 3935, 'begin': 440, 'phone': 3255, 'easy': 1407, 'california': 647, 'trial': 4577, 'dance': 1100, 'students': 4236, 'rich': 3684, 'whom': 4873, 'busy': 632, 'raising': 3509, 'becoming': 433, 'radio': 3504, 'enter': 1492, 'madness': 2696, 'compare': 908, 'whoever': 4870, 'starring': 4151, 'holding': 2127, 'deal': 1132, 'mad': 2694, 'mess': 2817, 'demented': 1172, 'impossible': 2246, 'spoil': 4118, 'ridiculous': 3692, 'gold': 1929, 'tap': 4361, 'dancer': 1101, 'impression': 2249, 'nominated': 3024, 'award': 364, 'citizen': 821, 'kane': 2439, 'quit': 3494, 'hey': 2092, 'realize': 3552, 'purpose': 3474, 'former': 1797, 'stars': 4152, 'post': 3352, 'wwii': 4975, 'british': 587, 'studios': 4238, 'threat': 4465, 'industry': 2277, 'suffice': 4276, 'suffered': 4273, 'sidney': 3966, 'vision': 4752, 'comedic': 885, 'delight': 1163, 'nervous': 2998, 'parker': 3191, 'ruthless': 3763, 'joan': 2401, 'daddy': 1093, 'stone': 4194, 'told': 4511, 'spite': 4114, 'unlikely': 4668, 'opportunity': 3120, 'online': 3108, 'library': 2587, 'purchased': 3470, 'release': 3601, 'depth': 1186, 'vhs': 4723, 'copy': 991, 'speaking': 4092, 'photographer': 3259, 'nearly': 2980, 'cinematographer': 816, 'carry': 697, 'talented': 4352, 'needs': 2989, 'virtually': 4749, 'beauty': 428, 'breath': 571, 'christopher': 808, 'catch': 711, 'loss': 2657, 'subtle': 4257, 'steps': 4174, 'lets': 2578, 'early': 1397, 'space': 4088, 'remarkable': 3612, 'understanding': 4642, 'ties': 4488, 'exist': 1567, 'held': 2071, 'script': 3833, 'allows': 191, 'immensely': 2240, 'respected': 3652, 'glenn': 1915, 'minor': 2857, 'weight': 4838, 'reality': 3551, 'involved': 2343, 'soundtrack': 4083, '1970s': 16, '80s': 58, 'styles': 4247, 'remember': 3615, 'images': 2232, 'understated': 4643, 'knowing': 2488, 'skin': 4013, 'grew': 1969, 'era': 1511, 'north': 3035, 'america': 211, 'sees': 3865, 'wolf': 4920, '1983': 21, 'tender': 4399, 'testament': 4415, 'places': 3284, '1984': 22, 'driving': 1365, 'miss': 2866, 'garden': 1869, 'wendy': 4844, 'lucy': 2682, 'jones': 2415, 'imagined': 2236, 'possible': 3350, 'run': 3754, 'streets': 4214, 'bath': 409, 'dignity': 1248, 'quotes': 3497, 'inappropriate': 2256, 'warning': 4798, 'changed': 747, 'taken': 4347, 'introduce': 2333, 'motives': 2915, 'possibly': 3351, 'disaster': 1272, 'beautifully': 427, 'types': 4619, 'goodness': 1935, 'samurai': 3778, 'lots': 2660, 'protagonists': 3442, 'randomly': 3514, 'walk': 4773, 'independent': 2269, 'load': 2629, 'crap': 1028, 'english': 1481, 'sing': 3990, 'intelligent': 2311, 'surprise': 4309, 'begins': 442, 'anime': 241, 'inspired': 2298, 'sword': 4337, 'conversation': 977, 'theyll': 4442, 'matrix': 2766, 'sorry': 4074, 'martial': 2746, 'arts': 308, 'solid': 4055, 'picked': 3266, 'random': 3513, 'alcoholic': 176, 'laugh': 2527, 'jokes': 2412, 'ultimately': 4625, 'spiritual': 4113, 'kick': 2458, 'ass': 321, 'memorable': 2801, 'today': 4506, 'became': 429, 'dick': 1235, 'francis': 1815, 'mysteries': 2953, 'sidekick': 3964, 'hearing': 2060, 'shows': 3959, 'hands': 2017, 'user': 4693, 'ii': 2223, 'via': 4724, 'gift': 1903, 'knows': 2491, 'typically': 4621, 'market': 2739, 'fit': 1737, 'male': 2717, 'protagonist': 3441, 'ed': 1412, 'lee': 2557, 'elements': 1441, 'paranoia': 3186, 'jane': 2377, 'unconvincing': 4635, 'potential': 3355, 'la': 2498, 'aka': 167, 'queen': 3485, '1972': 17, 'gothic': 1942, 'sub': 4249, 'genres': 1886, 'masterpiece': 2758, 'earlier': 1396, 'giallo': 1901, 'grave': 1959, 'creepy': 1049, 'highly': 2102, 'atmospheric': 332, 'successfully': 4264, 'mixed': 2877, 'instant': 2302, 'overwhelming': 3156, 'italian': 2364, 'lover': 2670, 'consider': 946, 'incredibly': 2267, 'strong': 4226, 'delivers': 1168, 'inventive': 2338, 'compelling': 913, 'chilling': 791, 'colors': 876, 'stylish': 4248, 'barbara': 395, 'outstanding': 3146, 'elegant': 1439, 'terror': 4410, 'castle': 709, 'fighting': 1706, 'grandfather': 1951, 'painting': 3175, 'hundred': 2192, 'kill': 2466, 'suddenly': 4270, 'murdered': 2939, 'proved': 3446, 'incredible': 2266, 'talent': 4351, 'colorful': 875, 'effectively': 1428, 'visually': 4756, 'wise': 4903, 'haunting': 2048, 'arguably': 287, 'frightening': 1836, 'sexy': 3910, 'prime': 3395, 'example': 1551, 'ladies': 2504, 'flicks': 1752, 'appearances': 273, 'starred': 4150, 'cult': 1074, 'masterpieces': 2759, '70s': 55, 'within': 4912, 'highlight': 2100, 'torture': 4527, 'unforgettable': 4649, 'gorgeous': 1939, 'includes': 2260, 'afraid': 139, 'bare': 396, 'eerie': 1425, 'convoluted': 984, 'each': 1392, 'minute': 2858, 'stays': 4166, 'absolute': 70, 'ranks': 3519, 'finest': 1727, 'minutes': 2859, 'began': 439, 'wonder': 4926, 'particularly': 3195, 'explained': 1585, 'facts': 1622, 'offended': 3084, 'christian': 805, 'unrealistic': 4674, 'behavior': 444, 'appropriate': 281, 'church': 810, 'shown': 3958, 'attend': 342, 'political': 3324, 'terribly': 4406, 'easier': 1402, 'believing': 455, 'president': 3378, 'flying': 1761, 'jet': 2397, 'fighter': 1705, 'shooting': 3942, 'aliens': 183, 'note': 3043, 'jaw': 2381, '25': 39, 'seemingly': 3862, 'pointless': 3318, 'questionable': 3488, 'box': 553, 'anyone': 257, '2004': 33, 'research': 3643, 'five': 1740, 'iraq': 2348, 'private': 3404, 'ryan': 3764, 'ludicrous': 2683, 'throw': 4477, 'accurate': 89, 'unbelievable': 4631, 'keep': 2446, 'add': 114, 'review': 3675, 'ahead': 158, 'blob': 505, 'included': 2259, 'scared': 3804, 'mars': 2745, 'werent': 4847, 'recall': 3562, 'late': 2521, 'stretched': 4219, 'floor': 1756, '1980s': 20, 'science': 3815, 'museum': 2944, 'virginia': 4748, 'weekend': 4836, 'color': 874, 'print': 3399, 'pink': 3277, 'dragged': 1339, 'players': 3299, 'bet': 468, 'cheesy': 778, 'watches': 4812, 'banned': 393, 'houses': 2177, 'eva': 1529, 'caused': 721, '1930s': 11, 'population': 3335, 'concerns': 931, 'woman': 4921, 'married': 2743, 'carried': 695, 'wedding': 4834, 'shoes': 3940, 'bugs': 610, 'leaves': 2554, 'tries': 4582, 'explain': 1584, 'situation': 4006, 'hot': 2171, 'ride': 3691, 'swim': 4334, 'naked': 2958, 'lake': 2507, 'woods': 4935, 'finds': 1725, 'clothes': 857, 'returns': 3667, 'wonderfully': 4929, 'thrilling': 4472, 'computer': 924, 'generated': 1879, 'showed': 3955, 'amounts': 219, 'jump': 2426, 'critical': 1059, 'often': 3094, 'opposite': 3122, 'argument': 289, 'titanic': 4501, 'kate': 2443, 'hills': 2106, 'tree': 4573, 'comical': 891, 'hitting': 2123, 'historically': 2117, 'started': 4154, 'dire': 1253, 'theme': 4431, 'cheese': 777, 'tedious': 4385, 'pathetic': 3210, 'died': 1240, 'designed': 1199, 'mtv': 2932, 'car': 677, 'chasing': 769, 'heroic': 2087, 'member': 2799, 'band': 389, 'drag': 1338, 'chick': 783, 'flick': 1751, 'lucky': 2681, 'millions': 2848, 'culture': 1076, 'expensive': 1577, 'celluloid': 728, 'cost': 1000, 'steve': 4178, 'glory': 1919, 'arrived': 299, 'academy': 76, 'awards': 365, 'king': 2477, 'victims': 4728, 'evening': 1532, 'farce': 1652, 'fortune': 1803, 'portraying': 3343, 'sentimental': 3881, 'rubbish': 3747, 'luck': 2679, 'chances': 745, 'pearl': 3220, 'twenty': 4609, 'acted': 97, 'complete': 918, 'directing': 1256, 'awesome': 369, 'bits': 488, 'joey': 2405, 'friend': 1832, 'matt': 2767, 'damon': 1098, 'jason': 2380, 'cia': 811, 'agent': 149, 'paced': 3161, 'stunts': 4243, 'chases': 768, 'surprisingly': 4313, 'due': 1379, 'needless': 2988, 'experience': 1578, 'formulaic': 1800, 'england': 1480, 'familiar': 1641, 'everyday': 1539, 'product': 3418, 'promise': 3430, 'nuclear': 3056, 'energy': 1476, 'wear': 4828, 'workers': 4943, 'business': 630, 'thick': 4445, 'enterprise': 1493, 'worthwhile': 4955, 'blow': 512, 'factory': 1621, 'lab': 2499, 'stiff': 4184, 'upper': 4682, 'fire': 1731, 'alien': 182, 'beings': 447, 'extraordinary': 1605, 'unusual': 4678, 'kicking': 2460, 'form': 1795, 'recorded': 3574, 'dialog': 1228, 'musical': 2946, 'track': 4542, 'piano': 3264, 'sight': 3967, 'section': 3852, 'liberal': 2586, 'cards': 680, 'titles': 4504, 'exaggerated': 1550, 'overdone': 3151, 'intentionally': 2317, 'rather': 3528, 'norman': 3034, 'installment': 2300, 'featuring': 1679, 'fields': 1702, 'lloyd': 2628, 'danny': 1109, 'stranger': 4210, 'mr': 2928, 'keaton': 2445, 'worked': 4941, 'outcome': 3141, 'succeeded': 4260, 'aware': 366, 'fine': 1726, 'player': 3298, 'comfortable': 889, 'front': 1838, 'apparent': 267, 'gags': 1859, 'gag': 1858, 'pants': 3182, 'adams': 111, 'craft': 1025, 'knew': 2484, 'dimensional': 1249, 'bottom': 549, 'rule': 3752, 'stanley': 4145, 'served': 3893, 'straight': 4207, 'jesse': 2394, 'fix': 1741, 'shop': 3944, 'warren': 4799, 'lesson': 2575, 'learned': 2549, 'mentioned': 2810, 'careful': 685, 'ask': 314, 'introduced': 2334, 'reporter': 3635, 'truth': 4596, 'ends': 1472, 'including': 2261, 'graphics': 1956, 'leader': 2544, 'wont': 4932, 'destroy': 1209, 'werewolf': 4848, 'breasts': 570, 'crowd': 1064, '1950s': 13, 'musicals': 2947, 'personally': 3243, 'astaire': 328, 'rogers': 3724, 'bill': 479, 'robinson': 3715, 'ruby': 3748, 'cagney': 643, 'temple': 4396, 'songs': 4070, 'numbers': 3060, 'decade': 1141, 'teacher': 4372, 'spends': 4104, 'thus': 4484, 'julie': 2425, 'andrews': 228, 'capital': 670, 'singers': 3992, 'wood': 4933, 'fair': 1628, 'stereotypical': 4177, 'portray': 3340, 'negative': 2990, 'anna': 243, 'teachers': 4373, 'cure': 1078, 'bite': 487, 'cowboy': 1022, 'yesterday': 4983, 'delivered': 1166, 'basic': 404, 'instinct': 2305, 'answers': 250, 'talking': 4357, 'listen': 2617, 'standard': 4141, 'formula': 1799, 'journey': 2418, 'provide': 3448, 'provoking': 3452, 'urban': 4685, 'innovative': 2292, 'avoid': 361, 'direct': 1254, 'answer': 249, 'interpretation': 2325, 'third': 4453, 'recommended': 3572, 'category': 715, 'swedish': 4332, 'rose': 3738, 'tend': 4398, 'foreign': 1787, 'hell': 2074, 'touches': 4533, 'keeps': 2448, 'village': 4741, 'areas': 285, 'religion': 3606, 'courage': 1015, 'ability': 64, 'meet': 2792, 'desire': 1201, 'described': 1191, 'highlights': 2101, 'thank': 4419, 'kay': 2444, 'introduction': 2336, 'garbo': 1868, 'available': 359, 'usa': 4688, 'primarily': 3393, 'viewed': 4735, 'europe': 1527, 'closely': 852, 'analysis': 223, 'common': 903, 'scripts': 3835, 'presented': 3376, 'absence': 69, 'humorous': 2190, 'park': 3190, 'difference': 1242, 'cause': 720, 'curiosity': 1079, 'speaks': 4093, 'occurred': 3076, 'genuine': 1888, 'effort': 1430, 'created': 1034, 'therefore': 4437, 'comment': 895, 'captivating': 672, 'todays': 4507, 'longer': 2643, 'whose': 4876, 'stood': 4196, 'appears': 276, 'carries': 696, 'shines': 3931, 'chris': 803, 'vs': 4765, 'alcohol': 175, 'fears': 1675, 'meeting': 2793, 'opening': 3113, 'thanks': 4421, 'facial': 1617, 'expressions': 1601, 'flawless': 1748, 'calm': 652, 'nice': 3007, 'moved': 2921, 'league': 2547, 'process': 3412, 'hero': 2085, 'deserves': 1197, 'darker': 1113, 'remarkably': 3613, 'bleak': 501, 'devils': 1225, 'mgm': 2828, 'success': 4262, 'convinced': 981, 'hunting': 2198, 'beloved': 459, 'stronger': 4227, 'studio': 4237, 'system': 4342, 'mitchell': 2875, 'jay': 2383, 'raise': 3507, 'bar': 394, 'six': 4008, 'enjoying': 1485, 'aired': 164, 'disney': 1285, 'presents': 3377, 'channel': 750, 'towards': 4538, 'uwe': 4700, 'boll': 527, 'classics': 834, 'fate': 1663, 'fest': 1693, 'quick': 3490, 'sudden': 4269, 'board': 520, 'ignorant': 2220, 'unaware': 4629, 'rabbit': 3498, 'hideous': 2095, 'unintentionally': 4656, 'discussion': 1280, 'internet': 2324, 'ben': 461, 'arthur': 303, 'gay': 1873, 'crash': 1030, 'whale': 4855, 'sam': 3776, 'terrible': 4405, 'hint': 2109, 'ego': 1433, 'executive': 1565, 'edited': 1418, 'non': 3026, 'existent': 1570, 'genius': 1884, 'ugly': 4622, 'child': 786, 'fails': 1626, 'witness': 4914, 'amateur': 205, 'reel': 3581, 'digital': 1247, 'closet': 855, 'dust': 1385, 'forgive': 1792, 'provided': 3449, 'concept': 927, '20': 28, 'million': 2847, 'hollywoods': 2135, 'suck': 4266, 'atrocious': 333, 'dislike': 1284, 'turned': 4603, 'forgot': 1793, 'root': 3736, 'urge': 4686, 'tame': 4360, 'mild': 2839, 'examples': 1552, 'amongst': 217, 'mistakes': 2873, 'hear': 2058, 'lawyer': 2539, 'spoke': 4122, 'spectacular': 4098, 'mistake': 2871, 'seconds': 3847, 'fly': 1760, 'plane': 3288, 'landing': 2510, 'trees': 4574, 'imagine': 2235, 'combined': 882, 'ourselves': 3139, 'confidence': 935, 'discovered': 1276, 'chinese': 793, 'ghosts': 1900, 'colour': 877, 'humour': 2191, 'spin': 4109, 'considering': 949, 'following': 1771, 'continued': 967, 'chemistry': 779, 'importantly': 2245, 'hints': 2110, 'streep': 4212, 'skill': 4011, 'upset': 4684, 'unpleasant': 4671, 'media': 2788, 'government': 1945, 'initially': 2288, 'animated': 239, 'respect': 3651, 'em': 1450, 'background': 378, 'blowing': 513, 'object': 3065, 'frame': 1812, 'romantic': 3732, 'lovable': 2666, 'blue': 516, 'rocks': 3721, 'rules': 3753, 'creators': 1041, 'theyve': 4444, 'candy': 665, 'beginning': 441, 'wacky': 4767, 'shorts': 3947, 'store': 4201, 'display': 1287, 'dress': 1354, 'speed': 4100, 'tunes': 4600, 'polished': 3323, 'cartoons': 702, 'forms': 1798, 'wit': 4908, 'vacation': 4701, 'pacing': 3162, 'timing': 4496, 'major': 2709, 'win': 4892, 'ha': 1999, 'laughs': 2532, 'flight': 1754, 'airplane': 165, 'clark': 829, 'writers': 4969, 'tried': 4581, 'slap': 4016, 'stick': 4182, 'chase': 766, 'toward': 4537, 'natural': 2972, 'comic': 890, 'randy': 3515, 'cousin': 1018, 'eddie': 1413, 'crude': 1066, 'comments': 898, 'stayed': 4164, 'join': 2409, 'dreadful': 1349, 'adventure': 129, 'countless': 1009, 'crimes': 1053, 'laid': 2506, 'berlin': 465, 'revolution': 3679, 'communist': 904, 'particular': 3194, 'psychotic': 3459, 'murderer': 2940, 'audiences': 351, 'camp': 659, 'unfortunate': 4650, 'planned': 3290, 'eyed': 1610, 'innocent': 2291, 'smile': 4034, 'presumably': 3380, 'multi': 2934, 'machine': 2691, '2001': 30, 'bore': 538, 'faced': 1615, 'saved': 3794, 'bell': 456, 'eighties': 1435, 'freak': 1821, 'willie': 4888, 'doom': 1322, 'obviously': 3071, 'wannabe': 4785, 'trash': 4562, 'buddy': 606, 'family': 1643, 'accepted': 81, 'occurs': 3077, 'misses': 2868, 'wild': 4884, 'carrie': 694, 'fisher': 1736, 'guess': 1986, 'existence': 1569, 'alternate': 199, 'reveal': 3669, 'unwatchable': 4679, 'flashback': 1743, 'chased': 767, 'guys': 1998, 'caught': 719, 'string': 4224, 'neck': 2984, 'somehow': 4061, 'hidden': 2093, 'treasure': 4568, 'minded': 2850, 'boat': 521, 'sisters': 4000, 'inept': 2278, 'seek': 3857, 'beast': 420, 'creatures': 1043, 'brain': 560, 'damage': 1096, 'relatively': 3599, 'dickens': 1236, 'novel': 3051, 'rick': 3688, 'relief': 3604, 'starting': 4155, 'mid': 2832, 'afternoon': 143, 'ie': 2218, 'numerous': 3061, 'london': 2639, 'editor': 1421, 'losing': 2656, 'nicholas': 3009, 'intrigued': 2331, 'douglas': 1330, 'handled': 2016, 'georges': 1891, 'demand': 1170, 'agrees': 156, 'marry': 2744, 'agreed': 155, 'merely': 2814, 'wife': 4883, 'obscure': 3067, 'nonetheless': 3028, 'shouldnt': 3951, 'immediately': 2239, 'suspect': 4324, 'importance': 2243, 'impact': 2241, 'sir': 3998, 'investigation': 2340, 'subsequent': 4254, 'search': 3840, 'legal': 2561, 'effect': 1426, 'failing': 1625, 'despair': 1203, 'health': 2057, 'hold': 2126, 'screenplay': 3830, 'discovery': 1278, 'individual': 2274, 'tragedy': 4548, 'powerful': 3360, 'adaptation': 112, '2005': 34, 'andrew': 227, 'davies': 1122, 'books': 534, 'mainly': 2706, 'reference': 3582, 'staff': 4135, 'mickey': 2831, 'stands': 4144, 'stopped': 4199, 'helping': 2078, 'realise': 3548, 'swear': 4331, 'uses': 4694, 'express': 1598, 'arrogant': 301, 'theatre': 4427, 'nail': 2956, 'lewis': 2584, 'alice': 181, 'excited': 1559, 'normally': 3033, 'treated': 4570, 'pop': 3330, 'juvenile': 2438, 'ridiculously': 3693, 'assume': 326, 'imitation': 2238, 'joke': 2411, 'angry': 236, 'artistic': 306, 'southern': 4086, 'hang': 2019, 'schools': 3813, 'racial': 3501, 'hanging': 2020, 'waiting': 4770, 'race': 3499, 'paper': 3183, 'otherwise': 3136, 'creating': 1036, 'racism': 3502, 'existed': 1568, 'racist': 3503, 'fortunately': 1802, 'incident': 2257, 'learning': 2550, 'mark': 2738, 'dozen': 1334, 'similarly': 3978, 'underrated': 4639, 'ford': 1786, 'moody': 2898, 'tough': 4535, 'hates': 2045, 'criminals': 1055, 'accidentally': 84, 'involving': 2346, 'illegal': 2226, 'cover': 1019, 'justice': 2435, 'killed': 2467, 'joseph': 2416, 'ages': 151, 'laura': 2534, 'documentary': 1303, 'themselves': 4433, 'junk': 2433, 'suppose': 4302, 'brings': 585, 'sad': 3766, 'ex': 1547, 'scientist': 3817, 'dad': 1092, 'gross': 1975, 'engaged': 1478, 'shallow': 3916, 'thinks': 4452, 'kiss': 2481, 'hed': 2069, 'happily': 2027, 'share': 3919, 'unless': 4666, 'narrative': 2965, 'brooks': 594, 'cole': 870, 'relate': 3592, 'topless': 4525, 'context': 965, 'exposed': 1596, 'babe': 373, 'albert': 173, 'wishing': 4907, 'placed': 3283, 'step': 4172, 'broadcast': 589, 'news': 3004, 'shape': 3918, 'credible': 1045, 'allowed': 189, 'rare': 3523, 'fans': 1648, 'pain': 3170, 'intended': 2312, 'nightmare': 3013, 'bizarre': 490, 'jumps': 2429, 'dreams': 1351, 'nightmares': 3014, 'generous': 1883, 'wizard': 4919, 'oz': 3159, 'worthless': 4954, 'gonna': 1933, 'ya': 4976, 'reviewers': 3677, 'heres': 2084, 'religious': 3607, 'stanwyck': 4146, 'bat': 408, 'whatever': 4857, 'ultimate': 4624, 'goal': 1922, 'message': 2818, 'material': 2765, 'critics': 1061, 'messages': 2819, 'substance': 4255, '70': 54, 'harris': 2035, 'remote': 3621, 'breathtaking': 572, 'wore': 4939, 'convincing': 982, '24': 38, 'flat': 1745, 'extras': 1606, 'spoiler': 4120, 'orders': 3126, 'cuba': 1072, 'australian': 355, 'surprising': 4312, 'dare': 1110, 'brilliance': 580, 'reminiscent': 3620, 'mini': 2854, 'hal': 2003, 'video': 4731, 'plus': 3311, 'rented': 3627, 'hated': 2044, 'price': 3389, 'italy': 2365, 'cave': 724, 'road': 3708, 'train': 4553, 'legendary': 2563, 'pot': 3354, 'weapon': 4826, 'walks': 4778, 'errors': 1514, 'searching': 3841, 'break': 567, 'paul': 3214, 'thomas': 4456, 'lovely': 2669, 'smith': 4036, 'aunt': 353, 'concerned': 929, 'animal': 237, 'save': 3793, 'personality': 3242, 'hence': 2080, '45': 49, 'skip': 4014, 'asking': 316, 'guard': 1985, 'intentions': 2318, 'plots': 3310, 'building': 612, 'scenery': 3809, 'picks': 3268, 'subplots': 4253, 'tie': 4486, 'alive': 185, 'stale': 4138, 'persona': 3239, 'build': 611, 'suggest': 4277, 'company': 907, 'principal': 3398, 'ms': 2930, 'influence': 2283, 'performing': 3233, 'roberts': 3713, 'struck': 4229, 'joe': 2404, 'hopefully': 2154, 'concert': 932, 'providing': 3451, 'priceless': 3390, 'art': 302, 'crazy': 1032, 'writer': 4968, 'shoot': 3941, 'glorious': 1918, 'clichés': 843, 'throwing': 4478, 'tag': 4345, 'treatment': 4571, 'bang': 391, 'manage': 2720, 'clip': 848, 'dig': 1246, 'perform': 3227, 'tracks': 4543, 'artists': 307, 'underground': 4637, 'cooper': 987, 'segments': 3867, 'slapstick': 4017, 'tongue': 4516, 'cheek': 776, 'measure': 2785, 'variety': 4711, 'range': 3516, 'added': 115, 'halloween': 2007, 'vincent': 4744, 'van': 4710, 'clint': 847, 'howard': 2179, 'send': 3874, 'pushing': 3479, 'campy': 661, 'hall': 2006, 'beating': 423, 'bush': 629, 'cleverly': 839, 'suitable': 4281, 'yellow': 4981, 'gruesome': 1983, '17': 9, 'flaws': 1749, 'admire': 120, 'thin': 4447, 'tad': 4344, 'featured': 1677, 'catchy': 714, 'engaging': 1479, 'clown': 859, 'favourite': 1671, 'explains': 1587, 'developed': 1219, 'warming': 4793, 'entertained': 1496, 'voice': 4759, 'kenneth': 2453, 'dinosaur': 1251, '75': 56, 'cox': 1023, 'trailers': 4552, 'african': 141, 'bus': 628, 'visit': 4753, 'los': 2651, 'angeles': 231, 'arrives': 300, 'door': 1324, 'elderly': 1438, 'wake': 4772, 'refuses': 3586, 'jaws': 2382, 'glimpse': 1916, 'carol': 690, 'brady': 559, 'fathers': 1665, 'reach': 3536, 'mexico': 2827, 'pack': 3164, 'revelation': 3673, 'sounding': 4081, 'emotions': 1459, 'thoughts': 4462, 'parent': 3187, 'toilet': 4510, 'trained': 4554, 'driver': 1363, 'appearing': 275, 'eight': 1434, 'parents': 3188, 'reads': 3545, 'foot': 1778, 'prostitute': 3440, 'hair': 2002, 'loose': 2648, 'crappy': 1029, 'yelling': 4980, 'rape': 3521, 'basis': 406, 'relationship': 3596, 'drunk': 1372, 'extreme': 1607, '30': 41, 'offensive': 3085, 'desperately': 1205, 'willing': 4889, 'sleep': 4022, 'de': 1128, 'website': 4832, 'greater': 1962, 'conflict': 936, 'creates': 1035, 'provides': 3450, 'civil': 823, 'focuses': 1765, 'depiction': 1181, 'manages': 2723, 'include': 2258, 'infamous': 2281, 'lawrence': 2537, 'succeeds': 4261, 'union': 4658, 'state': 4157, 'border': 537, 'increasingly': 2265, 'aid': 159, 'considered': 948, 'regular': 3591, 'troops': 4588, 'heat': 2064, 'jake': 2374, 'standing': 4143, 'pitt': 3280, 'jonathan': 2414, 'vehicle': 4715, 'gain': 1860, 'souls': 4078, 'odds': 3081, 'attitudes': 345, 'depicting': 1180, 'deeper': 1151, 'grasp': 1957, 'motivations': 2914, 'drink': 1358, 'honor': 2147, 'warrior': 4800, 'tiger': 4489, 'dragon': 1340, 'exception': 1555, 'brilliantly': 582, 'poetry': 3314, 'adds': 118, 'telling': 4394, 'innocence': 2290, 'develops': 1222, 'convincingly': 983, 'encounters': 1465, 'troubled': 4590, 'beliefs': 450, 'granted': 1954, 'recognized': 3570, 'debut': 1140, 'sue': 4271, 'jeffrey': 2388, 'daniel': 1108, 'walken': 4775, 'menace': 2805, 'cameo': 654, 'baker': 383, 'brown': 599, 'nation': 2968, 'medium': 2791, 'educational': 1423, 'sensitive': 3878, 'opera': 3115, 'elaborate': 1437, 'clips': 849, 'vaguely': 4703, 'commentary': 896, 'failed': 1624, 'listening': 2618, 'sheer': 3924, 'required': 3640, 'cheated': 772, 'detailed': 1214, 'explanation': 1588, 'strangely': 4209, '60': 52, 'structure': 4230, 'remind': 3617, 'punishment': 3467, 'environment': 1503, 'crying': 1071, 'makeup': 2715, 'brutally': 602, 'depressing': 1184, 'key': 2456, 'pamela': 3179, 'jobs': 2403, 'disappear': 1266, 'believable': 451, 'recognize': 3569, 'metal': 2822, 'frank': 1818, 'mill': 2845, 'rights': 3696, 'acts': 106, 'domestic': 1314, 'muslim': 2948, 'according': 87, 'law': 2536, 'efforts': 1431, 'movement': 2922, 'contain': 959, 'footage': 1779, 'consists': 952, 'cases': 705, 'involve': 2342, 'repeated': 3630, 'involves': 2345, 'forced': 1784, 'beaten': 422, 'seeking': 3858, 'divorce': 1297, 'receive': 3563, 'criminal': 1054, 'gender': 1875, 'parties': 3196, 'guilty': 1992, 'dealt': 1135, 'related': 3593, 'subtitles': 4256, 'revenge': 3674, 'received': 3564, 'robots': 3717, 'robbery': 3710, 'police': 3322, 'names': 2962, 'attached': 334, 'frequent': 1828, 'relative': 3598, 'phantom': 3251, 'constantly': 955, 'sings': 3995, 'glass': 1914, 'al': 169, 'unfunny': 4652, 'antics': 253, 'super': 4291, 'adequate': 119, 'bob': 522, 'aforementioned': 138, 'absurd': 72, 'achievement': 93, 'tremendous': 4576, 'blake': 496, 'scott': 3823, 'oddly': 3080, 'matched': 2762, 'killers': 2469, 'dr': 1336, 'decision': 1147, 'perry': 3237, 'professor': 3422, 'experiments': 1582, 'succeed': 4259, 'heavily': 2066, 'mere': 2813, 'curse': 1083, 'potentially': 3356, 'horrendous': 2159, 'endure': 1473, 'source': 4084, 'besides': 466, 'unoriginal': 4670, 'enjoyment': 1486, 'horses': 2168, 'members': 2800, 'allen': 187, 'bland': 498, 'dull': 1381, 'hardly': 2033, 'mystery': 2955, 'mst3k': 2931, 'marks': 2741, 'scale': 3801, 'bedroom': 435, 'priest': 3392, 'twisted': 4615, 'wicked': 4878, 'shock': 3937, 'master': 2756, 'fits': 1738, 'trick': 4579, 'simmons': 3979, 'originality': 3129, 'wears': 4830, 'charisma': 759, 'defense': 1155, 'dogs': 1307, 'scream': 3825, 'paltrow': 3178, 'complaint': 917, 'turner': 4604, 'combination': 880, 'commercials': 900, 'resort': 3649, 'disturbed': 1295, 'construction': 957, 'nearby': 2979, 'quote': 3496, 'survivors': 4322, 'panic': 3181, 'months': 2896, 'met': 2821, 'built': 615, 'connected': 942, 'badly': 381, 'drive': 1360, 'filmmaker': 1716, 'par': 3184, 'soft': 4049, 'dropping': 1368, 'stupidity': 4245, 'grim': 1971, 'bumbling': 619, 'idiot': 2215, 'cinderella': 812, 'blonde': 509, 'pie': 3271, 'catherine': 716, 'determined': 1217, 'godfather': 1924, 'handsome': 2018, 'prince': 3396, 'teaching': 4374, 'wholly': 4872, 'acceptable': 80, 'directs': 1263, 'thumbs': 4483, 'abysmal': 75, 'forest': 1788, 'hilariously': 2104, 'louis': 2663, 'plastic': 3294, 'gratuitous': 1958, 'irritating': 2356, 'hong': 2146, 'korean': 2493, 'minds': 2852, 'choices': 795, 'claimed': 826, 'recognition': 3568, 'york': 4985, 'tone': 4515, 'ritter': 3704, 'essentially': 1521, 'fellow': 1688, 'smoking': 4038, 'dorothy': 1326, 'sadly': 3768, 'bloody': 511, 'resemblance': 3644, 'stops': 4200, 'intense': 2313, 'childish': 788, 'remarks': 3614, 'masters': 2760, 'comparing': 910, 'pleased': 3305, 'buff': 608, 'slasher': 4018, 'pictures': 3270, 'demons': 1174, 'weve': 4854, 'university': 4664, 'die': 1239, 'believes': 454, 'student': 4235, 'levels': 2583, 'college': 872, 'caliber': 646, 'military': 2844, 'retired': 3663, 'crew': 1050, 'deliberately': 1162, 'nine': 3016, 'professional': 3421, 'report': 3634, 'navy': 2975, 'chief': 785, 'officer': 3091, 'sunday': 4289, '2nd': 40, 'passed': 3202, 'paid': 3169, 'ocean': 3078, 'complex': 920, 'proud': 3444, 'pleasantly': 3303, 'convey': 979, 'flynn': 1762, 'theatrical': 4428, 'executed': 1563, 'spending': 4103, 'competent': 914, 'write': 4967, 'angel': 230, 'accused': 90, 'originally': 3130, 'surely': 4306, 'holiday': 2131, 'unseen': 4675, 'maniac': 2725, 'gore': 1938, 'creativity': 1039, 'pulling': 3463, 'resources': 3650, 'belongs': 458, 'reading': 3544, 'concern': 928, 'regarding': 3588, 'format': 1796, 'resolution': 3648, 'larger': 2517, 'size': 4010, 'improved': 2252, 'giant': 1902, 'virus': 4750, 'security': 3853, 'keeping': 2447, 'closed': 851, 'porn': 3336, 'unable': 4628, 'tech': 4378, 'exercise': 1566, 'heads': 2056, 'record': 3573, 'carradine': 692, 'businessman': 631, 'convince': 980, 'brian': 574, 'resulting': 3660, 'tooth': 4522, 'humans': 2187, 'bright': 579, 'walking': 4777, 'commit': 901, 'deals': 1134, 'ignore': 2221, 'affected': 136, 'harsh': 2037, 'issues': 2362, 'balls': 388, 'ron': 3733, 'mine': 2853, 'sent': 3879, 'worn': 4948, 'commented': 897, 'criticism': 1060, 'advantage': 128, 'audio': 352, 'imagination': 2233, 'charming': 765, 'embarrassing': 1452, 'guessed': 1987, 'amazingly': 209, 'satisfied': 3788, 'emotion': 1456, 'kissing': 2482, 'missed': 2867, 'kevin': 2455, 'interaction': 2319, 'disgusting': 1282, 'appalling': 266, 'technically': 4380, 'experiences': 1580, 'directions': 1258, 'traveling': 4565, 'staying': 4165, 'occur': 3075, 'sleeping': 4023, 'nick': 3011, 'guessing': 1988, 'bette': 469, 'davis': 1123, 'delightful': 1164, 'helps': 2079, 'morning': 2905, 'hbo': 2052, 'offered': 3087, 'letters': 2580, 'amount': 218, 'meets': 2794, 'wind': 4893, 'trite': 4586, 'inane': 2255, 'initial': 2287, 'fear': 1674, 'terrifying': 4408, 'jewish': 2398, 'lazy': 2541, 'myers': 2951, 'managed': 2721, 'scare': 3802, 'escapes': 1517, 'mental': 2807, 'describes': 1192, 'mission': 2870, 'jamie': 2376, 'virgin': 4747, 'pays': 3218, 'psycho': 3457, 'doors': 1325, 'lights': 2595, 'wasted': 4807, 'funnier': 1847, 'approach': 280, 'street': 4213, 'trouble': 4589, 'continues': 968, 'manager': 2722, 'fired': 1732, 'claims': 827, 'hire': 2113, 'lol': 2638, 'anger': 233, 'popular': 3333, 'gang': 1864, 'photo': 3257, 'shoots': 3943, 'chaos': 752, 'winner': 4897, 'lasted': 2520, 'brave': 565, 'bomb': 529, 'expert': 1583, 'explored': 1593, 'politics': 3326, 'ignored': 2222, 'insight': 2295, 'unit': 4660, 'belief': 449, 'overcome': 3150, 'frankenstein': 1819, 'relevant': 3603, 'narrator': 2966, 'versions': 4719, 'narration': 2964, 'shortly': 3946, 'bank': 392, 'party': 3200, 'cat': 710, 'segment': 3866, 'date': 1115, 'spot': 4128, 'san': 3779, 'introduces': 2335, 'tied': 4487, 'switch': 4336, 'listed': 2616, 'ingredients': 2286, 'program': 3424, 'shakespeare': 3914, 'sounded': 4080, 'literature': 2621, 'bible': 475, 'prove': 3445, 'growing': 1980, 'changing': 749, 'changes': 748, 'christ': 804, 'translation': 4559, 'greek': 1967, 'exists': 1571, 'disappeared': 1267, 'screams': 3827, 'explaining': 1586, 'homer': 2141, 'simpson': 3985, 'attempted': 339, 'centered': 730, 'jerk': 2392, 'walls': 4781, 'disc': 1274, 'pan': 3180, 'clean': 835, '80': 57, 'choice': 794, 'chest': 781, 'spooky': 4125, 'century': 733, 'france': 1813, 'screaming': 3826, 'staged': 4137, 'careers': 684, 'broadway': 590, 'paying': 3217, 'kings': 2479, 'caine': 644, 'react': 3540, 'fight': 1704, 'shame': 3917, 'reduced': 3579, 'survived': 4319, 'timothy': 4497, 'sheriff': 3928, 'blond': 508, 'thugs': 4482, 'justify': 2436, 'irony': 2354, 'pulp': 3465, 'chose': 801, 'gangsters': 1866, 'shell': 3926, 'secretary': 3849, 'survive': 4318, 'unsettling': 4676, 'excitement': 1560, 'albeit': 172, 'heroine': 2088, 'undoubtedly': 4645, 'thrill': 4469, 'renting': 3628, 'politically': 3325, 'correct': 997, 'term': 4403, 'views': 4740, 'touched': 4532, 'logical': 2637, 'scientists': 3818, 'host': 2170, 'interviews': 2327, 'freedom': 1825, 'pointed': 3317, '20th': 37, 'bonus': 532, 'deaths': 1139, 'miserable': 2863, 'weakest': 4823, 'general': 1877, 'interview': 2326, 'duty': 1387, 'demands': 1171, 'christians': 806, 'groups': 1978, 'allow': 188, 'builds': 614, 'doomed': 1323, 'failure': 1627, 'qualities': 3483, 'wanted': 4787, 'wrap': 4963, 'sucks': 4268, 'firstly': 1734, 'marketing': 2740, 'fulci': 1842, 'zombie': 4997, 'fare': 1653, 'terrorists': 4412, 'steal': 4167, 'plague': 3285, 'brief': 577, 'gas': 1871, 'zombies': 4998, 'corner': 993, 'birds': 483, 'legs': 2564, 'station': 4161, 'notably': 3041, 'significant': 3970, 'molly': 2884, 'columbo': 878, 'mafia': 2698, 'falk': 1634, 'spielberg': 4107, 'filming': 1715, 'apartment': 263, 'decades': 1142, 'retarded': 3662, 'beat': 421, 'hood': 2148, 'sports': 4127, 'kelly': 2450, 'tomatoes': 4513, 'fourth': 1810, 'branagh': 562, 'accent': 77, 'surrounded': 4315, 'jr': 2420, 'fallen': 1636, 'blown': 514, 'expressed': 1599, 'challenging': 741, 'officers': 3092, 'native': 2971, 'worlds': 4947, 'spirits': 4112, 'feelings': 1683, 'lyrics': 2690, 'force': 1783, 'tears': 4377, 'lousy': 2665, 'fred': 1822, 'plain': 3286, 'resist': 3647, 'assault': 322, '1996': 25, 'resembles': 3645, 'identity': 2214, '1st': 27, 'trade': 4545, 'pick': 3265, 'weapons': 4827, 'destroyed': 1210, 'ships': 3934, 'scripted': 3834, 'mouse': 2918, '2003': 32, 'rings': 3698, 'occasion': 3072, 'powers': 3361, 'lengthy': 2568, 'ballet': 387, 'poem': 3312, 'alan': 170, 'admittedly': 122, 'artist': 305, 'matters': 2769, 'leslie': 2572, 'kennedy': 2452, 'airport': 166, 'dances': 1103, 'oscars': 3133, 'chosen': 802, 'experiment': 1581, 'photography': 3260, 'bold': 526, 'stellar': 4171, 'incoherent': 2262, 'madonna': 2697, 'stunt': 4242, 'pre': 3365, 'press': 3379, 'appearance': 272, 'tracy': 4544, 'slightest': 4026, 'relation': 3594, 'portion': 3338, 'bother': 546, 'gabriel': 1856, 'poverty': 3357, 'useless': 4692, 'pretentious': 3383, 'passion': 3205, 'personalities': 3241, 'seventies': 3903, 'tricks': 4580, 'mix': 2876, 'blend': 502, 'edition': 1420, 'triumph': 4587, 'aside': 313, 'event': 1533, 'evident': 1545, 'hitler': 2121, 'unbearable': 4630, 'peoples': 3222, 'franchise': 1814, 'somebody': 4060, 'con': 925, 'weak': 4822, 'likewise': 2601, 'hide': 2094, 'scares': 3805, 'utter': 4698, 'crisis': 1057, 'unpredictable': 4672, 'lumet': 2686, 'pacino': 3163, 'revealing': 3671, 'oil': 3096, 'irish': 2350, 'riveting': 3707, 'sorts': 4076, 'dramas': 1343, 'struggling': 4233, 'matches': 2763, 'grey': 1970, 'mike': 2838, 'sold': 4050, 'inspector': 2296, 'knock': 2486, 'revolves': 3681, 'relatives': 3600, 'arms': 292, 'japan': 2378, 'basketball': 407, 'cities': 820, 'beer': 437, 'fish': 1735, 'raised': 3508, 'curious': 1080, 'jesus': 2396, 'mel': 2795, 'conservative': 945, 'dated': 1116, 'philosophical': 3253, 'commercial': 899, 'nowadays': 3054, 'corrupt': 998, 'pleasure': 3306, 'ah': 157, 'reaching': 3539, 'button': 636, 'sadness': 3769, 'inspiration': 2297, 'amateurish': 206, 'integrity': 2308, 'drivel': 1361, 'warn': 4795, 'moon': 2899, '14': 6, 'crush': 1069, 'emily': 1454, 'familys': 1644, 'winning': 4898, 'quiet': 3492, 'kudos': 2495, '13': 4, 'buddies': 605, 'billy': 480, 'warned': 4796, 'gordon': 1937, 'followed': 1770, 'empire': 1462, 'rental': 3626, 'orson': 3131, 'welles': 4842, 'bothered': 547, '1968': 15, 'teeth': 4391, 'semi': 3873, 'challenge': 740, 'climax': 846, 'turning': 4605, 'boys': 557, 'versus': 4720, 'elizabeth': 1443, 'taylor': 4369, 'elephant': 1442, 'path': 3209, 'mansion': 2730, 'struggles': 4232, 'remain': 3608, 'faithful': 1632, 'barely': 397, 'scores': 3822, 'henry': 2081, 'washington': 4804, 'square': 4133, 'exceptional': 1556, 'chaplin': 753, 'miscast': 2862, 'maggie': 2700, 'lacking': 2502, 'exceptionally': 1557, 'caring': 688, 'morris': 2907, 'definite': 1157, 'depressed': 1183, 'flop': 1757, 'doubts': 1329, 'consequences': 944, 'circle': 818, 'influenced': 2284, 'serves': 3894, 'serving': 3896, 'humanity': 2186, 'destiny': 1208, 'throws': 4480, 'continuity': 969, 'individuals': 2275, 'projects': 3428, 'pile': 3275, 'dry': 1374, 'situations': 4007, 'dealing': 1133, 'womans': 4922, 'motivation': 2913, 'fabulous': 1613, 'seeks': 3859, 'repeat': 3629, 'shelf': 3925, 'finger': 1728, 'travel': 4564, 'judy': 2423, 'neighborhood': 2992, 'credits': 1047, 'carrying': 698, 'raped': 3522, 'encounter': 1464, 'hospital': 2169, 'whilst': 4867, 'doctors': 1301, 'luckily': 2680, 'forgettable': 1791, 'superhero': 4295, 'strip': 4225, 'batman': 411, 'risk': 3703, 'opens': 3114, 'sharp': 3921, 'neil': 2994, 'macy': 2693, 'hank': 2021, 'stiller': 4186, 'rush': 3758, 'adventures': 130, 'freeman': 1826, 'household': 2176, 'jerry': 2393, 'roy': 3744, 'woody': 4936, 'waitress': 4771, 'wisdom': 4902, 'wes': 4849, 'waves': 4817, 'ring': 3697, 'attracted': 347, 'lena': 2566, 'dreck': 1353, 'strictly': 4220, 'lane': 2513, '1940s': 12, 'synopsis': 4341, 'victor': 4729, 'connection': 943, 'montage': 2893, 'hardcore': 2031, 'fifteen': 1703, 'serve': 3892, 'painfully': 3172, 'partly': 3197, 'horrors': 2166, 'continue': 966, 'lifestyle': 2591, 'villains': 4743, 'alongside': 195, 'secrets': 3851, 'disturbing': 1296, 'rubber': 3746, 'window': 4894, 'dressing': 1356, 'max': 2773, 'punch': 3466, 'burn': 622, 'buildings': 613, 'directly': 1259, 'superficial': 4294, 'mindless': 2851, 'crafted': 1026, 'fox': 1811, 'blacks': 492, 'behave': 443, 'annoyed': 246, 'tarzan': 4364, 'mate': 2764, 'ape': 264, 'jungle': 2431, 'attitude': 344, 'superior': 4296, 'likable': 2596, 'decide': 1144, 'satisfying': 3790, 'screens': 3831, 'sell': 3870, 'vulnerable': 4766, 'icon': 2208, 'fonda': 1774, 'aging': 152, 'steals': 4169, 'bone': 531, 'susan': 4323, 'dub': 1375, 'ham': 2008, 'countryside': 1012, 'craig': 1027, 'loses': 2655, 'meaningful': 2780, 'text': 4417, 'morgan': 2904, 'spanish': 4089, 'intimate': 2328, 'strangers': 4211, 'headed': 2055, 'pursuit': 3476, 'happiness': 2028, 'relations': 3595, 'wanna': 4784, 'newly': 3003, 'ticket': 4485, 'blind': 504, 'remake': 3611, 'vietnam': 4733, 'engage': 1477, 'greedy': 1966, 'machines': 2692, 'skills': 4012, 'wing': 4896, 'awake': 363, 'nicholson': 3010, 'outfit': 3143, '11': 2, 'bin': 481, 'canadian': 664, 'families': 1642, 'spread': 4130, 'pops': 3332, 'handle': 2015, 'river': 3706, '50': 50, 'checking': 775, 'toy': 4540, 'underlying': 4638, 'severe': 3905, 'hasnt': 2041, 'nonsense': 3029, 'ashamed': 310, 'argue': 288, 'pride': 3391, 'landscapes': 2512, 'chicago': 782, 'understandable': 4641, 'aimed': 161, 'table': 4343, 'tall': 4359, 'armed': 291, 'anybody': 255, 'heaven': 2065, 'mans': 2729, 'fame': 1640, 'iron': 2351, 'teach': 4371, 'distant': 1291, 'ted': 4384, 'allowing': 190, 'hatred': 2046, 'bodies': 524, 'knowledge': 2489, 'youth': 4994, 'abandoned': 61, 'inspiring': 2299, 'achieve': 91, 'defeat': 1153, 'surviving': 4320, 'bands': 390, 'cameras': 657, 'fascinated': 1655, 'fat': 1661, 'cats': 718, 'cuts': 1088, 'drags': 1341, 'guts': 1996, 'dalton': 1095, 'tight': 4490, 'rochester': 3718, 'sympathy': 4340, 'charlotte': 763, 'passionate': 3206, 'ensemble': 1490, 'andy': 229, 'khan': 2457, 'robin': 3714, 'ethan': 1526, 'rachel': 3500, 'meaningless': 2781, 'uneven': 4646, 'brooklyn': 593, 'consistent': 950, 'fitting': 1739, 'enjoys': 1487, 'dating': 1117, 'tragic': 4549, 'amy': 221, 'delivery': 1169, 'crack': 1024, 'room': 3734, 'sutherland': 4330, 'von': 4763, 'morality': 2902, 'soviet': 4087, 'notes': 3045, 'deserved': 1196, 'showcase': 3953, 'charlie': 762, 'burton': 627, 'fail': 1623, 'widmark': 4881, 'dying': 1390, 'valuable': 4705, 'danger': 1106, 'hiding': 2096, 'choreographed': 798, 'rat': 3525, 'design': 1198, 'jackson': 2372, 'bottle': 548, 'unintentional': 4655, 'disjointed': 1283, 'fights': 1707, 'montana': 2894, 'brad': 558, 'rebel': 3561, 'channels': 751, 'hearted': 2062, 'burns': 625, 'loser': 2653, 'kung': 2496, 'fu': 1841, 'causing': 723, 'choreography': 799, 'profound': 3423, 'highest': 2099, 'bullet': 617, 'fx': 1855, 'cd': 725, 'stevens': 4180, 'valley': 4704, 'cary': 703, 'india': 2270, 'soldiers': 4052, 'rank': 3518, 'lower': 2675, 'suited': 4282, 'blows': 515, 'mountain': 2916, 'gandhi': 1863, 'replaced': 3633, 'rival': 3705, 'east': 1404, 'saturday': 3791, 'fever': 1696, 'brosnan': 595, 'chain': 738, 'rocky': 3722, 'philip': 3252, 'anti': 252, 'conventional': 976, 'suspend': 4326, 'deadly': 1130, 'cared': 682, 'cried': 1051, 'south': 4085, 'kim': 2473, 'costs': 1001, 'spike': 4108, 'drug': 1370, 'daily': 1094, 'forces': 1785, 'loaded': 2630, 'secondly': 3846, 'pages': 3168, 'distance': 1290, 'downright': 1333, 'kingdom': 2478, 'lone': 2640, 'pet': 3246, 'bo': 519, 'incomprehensible': 2264, 'inside': 2294, 'suspicious': 4329, 'pig': 3274, 'warriors': 4801, 'complain': 916, 'messed': 2820, 'focused': 1764, 'depicts': 1182, 'burned': 623, 'saves': 3795, 'safe': 3770, 'empty': 1463, 'cable': 641, 'instantly': 2303, 'earl': 1395, 'gritty': 1974, 'emphasis': 1461, '12': 3, 'monkeys': 2890, 'improvement': 2253, 'target': 4363, 'greatly': 1964, 'proceedings': 3410, 'flaw': 1746, 'centers': 731, 'talked': 4356, 'mildly': 2840, 'outrageous': 3144, 'fetched': 1695, 'hip': 2111, 'alike': 184, 'pal': 3177, 'sally': 3775, 'hyde': 2203, 'st': 4134, 'sean': 3839, 'shy': 3961, 'cameos': 655, 'connect': 941, 'territory': 4409, 'mirror': 2861, 'birthday': 485, 'previously': 3388, 'mainstream': 2707, 'pieces': 3273, '2002': 31, 'expression': 1600, 'degree': 1160, 'graphic': 1955, 'regret': 3590, 'confusion': 940, 'descent': 1189, 'zero': 4996, 'stock': 4190, 'field': 1701, 'signs': 3971, 'universe': 4663, 'farm': 1654, 'performer': 3231, 'sun': 4288, 'round': 3741, 'nose': 3036, 'jail': 2373, 'settle': 3901, 'corruption': 999, 'vague': 4702, 'humble': 2188, 'choose': 796, 'thoughtful': 4461, 'idiots': 2217, 'classes': 831, 'taught': 4367, 'bergman': 464, 'represent': 3636, 'proper': 3436, 'discuss': 1279, 'soap': 4045, 'fictional': 1700, 'repeatedly': 3631, 'suffer': 4272, 'mario': 2737, 'cash': 706, 'per': 3223, 'double': 1327, 'spy': 4132, 'kidnapped': 2464, 'promises': 3432, 'troubles': 4591, 'arrive': 298, 'slaughter': 4019, 'wreck': 4965, 'plans': 3292, 'murderous': 2941, 'dozens': 1335, 'enemies': 1474, 'laws': 2538, 'basement': 403, '1990s': 24, 'cinemas': 814, 'throat': 4474, 'adult': 124, 'mail': 2704, 'avoided': 362, 'depicted': 1179, 'represented': 3637, 'modesty': 2883, 'disagree': 1265, 'sequels': 3885, 'che': 770, 'vampire': 4708, 'enemy': 1475, 'draw': 1345, 'theory': 4435, 'leonard': 2570, 'wayne': 4819, 'texas': 4416, 'dennis': 1175, 'keith': 2449, 'slave': 4020, 'ironic': 2352, 'selling': 3872, 'knife': 2485, 'santa': 3782, 'mexican': 2826, 'conceived': 926, 'controversial': 975, 'briefly': 578, 'eric': 1512, 'iii': 2224, '60s': 53, 'whoopi': 4874, 'goldberg': 1930, 'comedian': 884, 'titled': 4503, 'assistant': 324, 'practically': 3362, 'angle': 234, 'laughably': 2529, 'possessed': 3347, 'favorites': 1670, 'consistently': 951, 'anyways': 260, 'snow': 4043, 'cutting': 1089, 'latter': 2526, 'sexuality': 3908, 'lust': 2687, 'homosexual': 2142, 'surreal': 4314, 'parallel': 3185, 'slowly': 4030, 'progresses': 3426, 'ken': 2451, 'guarantee': 1984, 'web': 4831, 'catches': 712, 'gerard': 1892, 'wealthy': 4825, 'mysterious': 2954, 'led': 2556, 'hoffman': 2125, 'junior': 2432, 'eve': 1530, 'ideal': 2211, 'miserably': 2864, 'splatter': 4115, 'massacre': 2753, 'intention': 2316, 'britain': 586, 'nations': 2970, 'onto': 3110, 'arnold': 294, 'nevertheless': 3001, 'childrens': 790, 'stinker': 4188, 'bitter': 489, 'critic': 1058, 'gotta': 1943, 'cell': 727, 'bond': 530, 'couples': 1014, 'forty': 1804, 'broad': 588, 'wars': 4802, 'cruise': 1068, 'insult': 2306, 'sea': 3837, 'results': 3661, 'merit': 2815, 'sophisticated': 4073, 'walker': 4776, '2007': 36, 'jumped': 2427, 'carter': 700, 'lily': 2603, 'liking': 2602, 'counter': 1008, 'intellectual': 2309, 'reasonable': 3558, 'moore': 2900, 'opposed': 3121, 'todd': 4508, 'spoof': 4124, 'drinking': 1359, 'site': 4003, 'wasting': 4808, 'pity': 3281, 'center': 729, 'anderson': 226, 'psychic': 3456, 'partner': 3198, 'creator': 1040, 'scientific': 3816, 'technical': 4379, 'friday': 1831, 'pretending': 3382, 'endearing': 1467, 'ruth': 3762, 'gangster': 1865, 'newspaper': 3005, 'dressed': 1355, 'miller': 2846, 'sexually': 3909, 'explicit': 1589, 'visits': 4754, 'psychiatrist': 3455, 'frustrated': 1839, 'attacked': 336, 'nancy': 2963, 'suspects': 4325, 'witnesses': 4916, 'psychological': 3458, 'plausible': 3295, 'uninspired': 4654, 'shower': 3956, 'neighbors': 2993, 'boss': 544, 'opened': 3112, 'terry': 4413, 'creep': 1048, 'relies': 3605, 'melodrama': 2796, 'dean': 1136, 'colonel': 873, 'afterwards': 144, 'thirty': 4454, 'length': 2567, 'ultra': 4626, 'sarah': 3784, 'hype': 2204, 'margaret': 2734, 'smoke': 4037, 'aids': 160, 'satire': 3787, 'obsession': 3069, 'shirt': 3936, 'anywhere': 261, 'welcome': 4840, 'pretend': 3381, 'emma': 1455, 'drew': 1357, 'pat': 3208, 'cook': 985, 'kinda': 2475, 'charge': 758, 'food': 1775, 'darkness': 1114, 'lit': 2619, 'climactic': 845, 'contemporary': 962, 'holmes': 2136, 'alfred': 180, 'nights': 3015, 'stuck': 4234, 'lisa': 2614, 'lucas': 2678, 'edgy': 1416, 'sides': 3965, 'dutch': 1386, 'menacing': 2806, 'subplot': 4252, 'halfway': 2005, 'mentioning': 2811, 'nurse': 3062, 'orange': 3124, 'method': 2824, 'parody': 3192, '13th': 5, 'devoted': 1227, 'survivor': 4321, 'prepared': 3371, 'patrick': 3213, 'restaurant': 3657, 'donna': 1319, 'jealous': 2385, 'jenny': 2390, 'altogether': 201, 'dreary': 1352, 'womens': 4924, 'april': 282, 'study': 4239, 'coffee': 867, 'teenagers': 4389, 'awe': 368, 'nomination': 3025, 'rage': 3505, 'blatant': 500, 'dancers': 1102, 'annie': 245, 'delivering': 1167, 'diane': 1234, 'visuals': 4757, 'nonsensical': 3030, 'uk': 4623, 'beats': 424, 'cheating': 773, 'catholic': 717, 'heights': 2070, 'matthew': 2771, 'supported': 4300, 'receives': 3565, 'persons': 3244, 'september': 3883, 'brazil': 566, 'elsewhere': 1447, 'hat': 2042, 'rob': 3709, 'burning': 624, 'passes': 3203, 'focusing': 1766, 'friendship': 1835, 'catching': 713, 'ought': 3137, 'awkward': 372, 'noted': 3044, 'progress': 3425, 'precious': 3366, 'vampires': 4709, 'eating': 1410, 'senseless': 3877, 'slight': 4025, 'feminist': 1692, 'escaped': 1516, 'wealth': 4824, 'contrast': 972, 'charismatic': 760, 'fancy': 1647, 'producing': 3417, 'represents': 3638, 'sink': 3997, 'beneath': 462, 'lowest': 2676, 'notion': 3049, 'primary': 3394, 'sixties': 4009, 'improve': 2251, 'bound': 551, 'porno': 3337, 'monsters': 2892, 'green': 1968, 'information': 2285, 'recording': 3575, 'transfer': 4556, 'boxing': 554, 'diana': 1233, 'someones': 4063, 'michelle': 2830, 'shine': 3930, 'luke': 2685, 'denzel': 1177, 'donald': 1317, 'peace': 3219, '3d': 45, 'props': 3439, 'rocket': 3720, 'hippie': 2112, 'blew': 503, 'sneak': 4041, 'shocked': 3938, 'artificial': 304, 'suffers': 4275, 'covered': 1020, 'shining': 3932, 'possibilities': 3348, 'accept': 79, 'wished': 4905, 'funeral': 1846, 'inevitably': 2280, 'solve': 4058, 'clues': 862, 'gradually': 1949, 'thrills': 4473, 'hitchcock': 2120, 'metaphor': 2823, 'captured': 674, 'roman': 3730, 'shadow': 3911, 'heroes': 2086, 'clumsy': 863, 'australia': 354, 'obnoxious': 3066, 'hanks': 2022, 'equivalent': 1510, 'laurel': 2535, 'hardy': 2034, 'stan': 4139, 'composed': 923, 'edward': 1424, 'ps': 3453, 'rolled': 3728, 'oliver': 3101, 'march': 2733, 'overacting': 3148, 'doll': 1309, 'explosion': 1594, 'feet': 1685, 'brenda': 573, 'financial': 1722, 'decisions': 1148, 'popcorn': 3331, 'explosions': 1595, 'harder': 2032, 'responsibility': 3654, 'ashley': 311, 'adapted': 113, 'compelled': 912, 'sacrifice': 3765, 'strongly': 4228, 'tortured': 4528, 'adam': 110, 'smooth': 4039, 'command': 894, 'global': 1917, 'stinks': 4189, 'jackie': 2371, 'mall': 2718, 'frequently': 1829, 'broke': 591, 'vegas': 4714, 'horrifying': 2164, 'jazz': 2384, 'incompetent': 2263, 'desert': 1194, 'sadistic': 3767, 'investigate': 2339, 'earned': 1398, 'killings': 2471, 'alexander': 179, 'characterization': 756, 'craven': 1031, 'embarrassed': 1451, 'stealing': 4168, 'lively': 2625, 'subjects': 4251, 'vast': 4713, '1960s': 14, 'spare': 4090, 'patient': 3211, 'pulls': 3464, 'carefully': 686, 'ambitious': 210, '1973': 18, 'coherent': 868, 'satan': 3786, 'marvelous': 2749, 'frankly': 1820, 'drops': 1369, 'awfully': 371, 'beatty': 425, 'mob': 2879, 'tommy': 4514, 'le': 2542, '100': 1, 'neat': 2981, 'stretch': 4218, 'closest': 854, 'separate': 3882, 'ancient': 224, 'prior': 3400, 'alex': 178, 'comics': 892, 'hammer': 2011, 'foul': 1807, 'cinematic': 815, 'widely': 4880, 'entertain': 1495, 'toys': 4541, 'duo': 1383, 'prisoners': 3403, 'ruined': 3750, 'florida': 1758, 'hunter': 2196, 'derek': 1188, 'jon': 2413, 'hunters': 2197, 'assigned': 323, 'carpenter': 691, 'pg': 3250, 'scheme': 3811, 'affair': 134, 'spots': 4129, 'karen': 2441, 'kitchen': 2483, 'copies': 989, 'offering': 3088, 'hurts': 2200, 'reflect': 3584, 'franco': 1817, 'uninteresting': 4657, 'blockbuster': 507, 'mile': 2842, 'eastern': 1405, 'block': 506, 'journalist': 2417, 'facing': 1618, 'sticks': 4183, 'writes': 4970, 'proceeds': 3411, 'superbly': 4293, 'pit': 3278, 'bobby': 523, 'reaches': 3538, 'ready': 3546, 'draws': 1348, 'prisoner': 3402, 'backdrop': 377, 'appreciation': 279, 'worry': 4950, 'gadget': 1857, 'remotely': 3622, 'distinct': 1292, 'lacked': 2501, 'nazi': 2976, 'bridge': 576, 'nazis': 2977, 'pseudo': 3454, 'arrested': 296, 'thousands': 4464, 'don': 1316, 'tonight': 4517, 'screening': 3829, 'spoken': 4123, 'freddy': 1823, 'downhill': 1332, 'rid': 3689, 'huh': 2184, 'promised': 3431, 'row': 3743, 'enthusiasm': 1499, 'wandering': 4783, 'friendly': 1833, 'contrary': 971, 'arrival': 297, 'strikes': 4222, 'tribute': 4578, 'mistress': 2874, 'mentions': 2812, 'rain': 3506, 'lonely': 2641, 'fool': 1776, 'cabin': 640, 'everyones': 1541, 'alas': 171, 'eg': 1432, 'desperation': 1206, 'devoid': 1226, 'surprises': 4311, 'masterful': 2757, 'alert': 177, 'flow': 1759, 'victoria': 4730, 'lesser': 2574, 'omen': 3103, 'superman': 4297, 'estate': 1523, 'striking': 4223, 'flashbacks': 1744, 'pulled': 3462, 'depression': 1185, 'sinister': 3996, 'sends': 3875, 'trap': 4560, 'wrapped': 4964, 'loosely': 2649, 'kong': 2492, 'unfolds': 4648, 'hung': 2194, 'cameron': 658, 'stole': 4191, 'map': 2732, 'uncle': 4633, 'sky': 4015, 'notorious': 3050, 'foster': 1806, 'performers': 3232, 'sunshine': 4290, '2006': 35, 'sandler': 3780, 'currently': 1082, 'exploration': 1591, 'johnson': 2408, 'dentist': 1176, 'terrorist': 4411, 'manhattan': 2724, 'games': 1862, 'task': 4365, 'hollow': 2132, 'abusive': 74, 'glover': 1920, 'removed': 3623, 'tends': 4400, 'vivid': 4758, 'threw': 4468, 'buck': 603, 'adding': 116, 'insane': 2293, 'lees': 2558, 'lessons': 2576, 'videos': 4732, 'gray': 1960, 'june': 2430, 'explore': 1592, 'illogical': 2228, 'experienced': 1579, 'lie': 2588, 'embarrassment': 1453, 'waited': 4769, 'melting': 2798, 'daring': 1111, 'alright': 197, 'topic': 4524, 'equal': 1507, 'kicked': 2459, 'redemption': 3578, 'combat': 879, 'feed': 1680, 'kidding': 2463, 'imaginative': 2234, 'overlook': 3152, 'clothing': 858, 'grinch': 1972, 'lou': 2661, 'proof': 3434, 'twin': 4612, 'gary': 1870, 'desired': 1202, 'cage': 642, 'hopper': 2158, 'realizing': 3555, 'isolated': 2360, 'greed': 1965, 'dear': 1137, 'spirited': 4111, 'network': 2999, 'purchase': 3469, 'wed': 4833, 'directorial': 1261, 'gifted': 1904, 'coach': 865, 'possibility': 3349, 'jeremy': 2391, 'sport': 4126, 'sentence': 3880, 'dialogues': 1231, 'landscape': 2511, '1999': 26, 'futuristic': 1854, 'seasons': 3843, 'exotic': 1572, 'fashioned': 1658, 'dave': 1120, 'quirky': 3493, 'cube': 1073, 'opinions': 3118, 'turkey': 4601, 'practice': 3363, 'agents': 150, 'olivier': 3102, 'brand': 563, 'itll': 2366, 'females': 1691, 'illness': 2227, 'furthermore': 1851, 'latin': 2525, 'defend': 1154, 'drunken': 1373, 'kapoor': 2440, 'wonders': 4931, 'card': 678, 'horrid': 2162, 'transition': 4558, 'lugosi': 2684, 'karloff': 2442, 'haunted': 2047, 'butler': 634, 'conspiracy': 953, 'minimum': 2856, 'twins': 4613, 'justin': 2437, 'indians': 2272, 'endings': 1470, 'whereas': 4863, 'tense': 4401, 'lincoln': 2606, 'philosophy': 3254, 'beach': 417, 'transformation': 4557, 'access': 82, 'inner': 2289, 'returning': 3666, '2000': 29, 'et': 1524, 'resident': 3646, 'rotten': 3739, 'assumed': 327, 'returned': 3665, 'simplicity': 3982, 'activities': 101, 'linda': 2607, 'disappoint': 1268, 'planning': 3291, 'considerable': 947, 'perfection': 3225, 'link': 2611, 'medical': 2789, 'mildred': 2841, 'selfish': 3869, 'ironically': 2353, 'deaf': 1131, 'response': 3653, 'floating': 1755, 'championship': 742, 'sullivan': 4284, 'marty': 2748, 'chicks': 784, 'bela': 448, 'ireland': 2349, 'tons': 4518, 'ginger': 1905, 'cannibal': 666, 'countries': 1010, 'misery': 2865, 'pro': 3406, 'scooby': 3819, 'doo': 1321, 'prom': 3429, 'pushed': 3478, 'niro': 3018, 'protect': 3443, 'ease': 1401, 'performed': 3230, 'grows': 1982, 'bargain': 398, 'guest': 1989, 'operation': 3116, 'idiotic': 2216, 'ears': 1399, 'corpse': 996, 'sits': 4004, 'bathroom': 410, 'meanwhile': 2784, 'concerning': 930, 'stomach': 4193, 'timeless': 4494, 'asian': 312, 'helicopter': 2073, 'regardless': 3589, 'official': 3093, 'hamlet': 2010, 'bird': 482, 'mentally': 2808, 'chess': 780, 'scottish': 3824, 'insulting': 2307, 'ho': 2124, 'bakshi': 384, 'savage': 3792, 'showdown': 3954, 'ralph': 3510, 'belong': 457, 'faith': 1631, 'paulie': 3215, 'solely': 4054, 'tiresome': 4500, 'accomplished': 86, '16': 8, '1990': 23, 'liners': 2609, 'visible': 4751, 'shadows': 3912, 'stargate': 4148, 'buried': 621, 'moronic': 2906, 'closing': 856, 'steel': 4170, 'restored': 3658, 'silver': 3975, 'dolls': 1312, 'carl': 689, 'neo': 2997, 'leo': 2569, 'models': 2881, 'rap': 3520, 'sandra': 3781, 'properly': 3437, 'sleazy': 4021, 'photos': 3261, 'viewings': 4739, 'butt': 635, 'willis': 4890, 'picking': 3267, 'designs': 1200, 'celebrity': 726, 'tour': 4536, 'survival': 4317, 'species': 4095, 'doc': 1299, 'poster': 3353, 'distribution': 1294, 'faults': 1667, 'screenwriter': 3832, 'empathy': 1460, 'split': 4117, 'multiple': 2935, 'horrific': 2163, 'rooms': 3735, 'contest': 964, 'sinatra': 3987, 'chapter': 754, 'strike': 4221, 'chorus': 800, 'cringe': 1056, 'pitch': 3279, 'signed': 3969, 'domino': 1315, 'satisfy': 3789, 'harvey': 2039, 'soccer': 4046, 'portrait': 3339, 'sincere': 3989, 'dawson': 1125, 'hamilton': 2009, 'li': 2585, 'chan': 743, 'trapped': 4561, 'lemmon': 2565, 'heston': 2091, 'scrooge': 3836, 'blah': 494, 'benefit': 463, 'speech': 4099, 'masses': 2754, 'base': 400, 'travesty': 4567, 'merits': 2816, 'nelson': 2996, 'plant': 3293, 'vengeance': 4716, 'seagal': 3838, 'trashy': 4563, 'lion': 2612, 'preview': 3386, 'saga': 3772, 'maria': 2735, 'flawed': 1747, 'francisco': 1816, 'unbelievably': 4632, 'ian': 2206, 'richardson': 3687, 'stated': 4158, 'midnight': 2834, 'causes': 722, 'theaters': 4426, 'excessive': 1558, 'noise': 3023, 'unreal': 4673, 'murphy': 2943, 'campbell': 660, 'buffs': 609, 'stereotype': 4175, 'russian': 3761, 'rangers': 3517, 'taxi': 4368, 'fbi': 1673, 'companion': 906, 'vice': 4725, 'jean': 2386, 'definition': 1159, 'verhoeven': 4717, 'intrigue': 2330, 'associated': 325, 'hugh': 2183, 'sole': 4053, 'jeff': 2387, 'monkey': 2889, 'hop': 2151, 'symbolism': 4338, 'movements': 2923, 'polanski': 3321, 'exposure': 1597, 'cusack': 1085, 'roots': 3737, 'package': 3165, 'hoped': 2153, 'implausible': 2242, 'edie': 1417, 'shut': 3960, 'amazed': 207, 'snl': 4042, 'voight': 4762, 'unhappy': 4653, 'nyc': 3064, 'extent': 1603, 'afford': 137, 'apes': 265, 'prequel': 3372, 'classical': 833, 'patients': 3212, 'chuck': 809, 'wrestling': 4966, 'abc': 62, 'crucial': 1065, 'boredom': 540, 'performs': 3234, 'revolutionary': 3680, 'snake': 4040, 'joined': 2410, 'larry': 2518, 'spring': 4131, 'destroying': 1211, 'mummy': 2936, 'disneys': 1286, 'gundam': 1994, 'equipment': 1509, 'staring': 4149, 'china': 792, 'inferior': 2282, 'cake': 645, 'reunion': 3668, 'mass': 2752, 'advertising': 131, 'thousand': 4463, 'noble': 3020, 'rendition': 3624, 'americas': 214, 'stooges': 4197, 'attorney': 346, 'kubrick': 2494, 'solo': 4056, 'hopeless': 2155, 'mountains': 2917, 'scope': 3820, 'kurt': 2497, 'johnny': 2407, 'winds': 4895, 'bucks': 604, 'stilted': 4187, 'ninja': 3017, 'lips': 2613, 'ned': 2985, 'richards': 3686, 'abraham': 68, 'treats': 4572, 'wallace': 4780, 'smiling': 4035, 'stones': 4195, 'locked': 2635, 'matthau': 2770, 'maintain': 2708, 'raymond': 3534, 'inducing': 2276, 'canada': 663, 'dynamic': 1391, 'thru': 4481, 'hooked': 2150, 'crocodile': 1062, 'wounded': 4961, 'cliff': 844, 'impress': 2247, 'robbins': 3711, 'chooses': 797, 'invasion': 2337, 'slick': 4024, 'shake': 3913, 'secretly': 3850, 'homeless': 2140, 'ward': 4791, 'worker': 4942, 'germans': 1894, 'stress': 4217, 'streisand': 4215, 'wet': 4853, 'blunt': 518, 'grandmother': 1952, '35': 44, 'advise': 133, 'corporate': 995, 'waters': 4815, 'voiced': 4760, 'del': 1161, 'kicks': 2461, 'lay': 2540, 'authority': 358, 'royal': 3745, 'amitabh': 215, 'akshay': 168, 'dolph': 1313, 'hart': 2038, 'brando': 564, 'elvis': 1449, 'rambo': 3511, 'sellers': 3871, 'peters': 3248, 'surfing': 4308, 'punk': 3468, 'documentaries': 1302, 'pokemon': 3320, 'magazine': 2699, 'edgar': 1414, 'bollywood': 528, 'affect': 135, 'enters': 1494, 'elm': 1445, 'folk': 1767, 'witnessed': 4915, 'remaining': 3609, 'mundane': 2937, 'forbidden': 1782, 'competition': 915, 'duke': 1380, 'reasonably': 3559, 'ensues': 1491, 'seed': 3855, 'acid': 94, 'eastwood': 1406, 'atlantis': 330, 'betty': 472, 'ridden': 3690, 'advanced': 127, 'iran': 2347, 'fay': 1672, 'miike': 2837, 'elvira': 1448, 'godzilla': 1926, 'mayor': 2776, 'defined': 1156, 'holly': 2133, 'felix': 1686, 'rats': 3531, 'bacall': 375, 'bettie': 471, 'dracula': 1337, 'eyre': 1612}\n"
     ]
    }
   ],
   "source": [
    "print(str(vocabulary))"
   ]
  },
  {
   "cell_type": "markdown",
   "metadata": {},
   "source": [
    "Once you have added the endpoint name to the Lambda function, click on **Save**. Your Lambda function is now up and running. Next we need to create a way for our web app to execute the Lambda function."
   ]
  },
  {
   "cell_type": "markdown",
   "metadata": {},
   "source": [
    "### Setting up API Gateway\n",
    "\n",
    "Now that our Lambda function is set up, it is time to create a new API using API Gateway that will trigger the Lambda function we have just created.\n",
    "\n",
    "Using AWS Console, navigate to **Amazon API Gateway** and then click on **Get started**.\n",
    "\n",
    "On the next page, make sure that **New API** is selected and give the new api a name, for example, `sentiment_analysis_web_app`. Then, click on **Create API**.\n",
    "\n",
    "Now we have created an API, however it doesn't currently do anything. What we want it to do is to trigger the Lambda function that we created earlier.\n",
    "\n",
    "Select the **Actions** dropdown menu and click **Create Method**. A new blank method will be created, select its dropdown menu and select **POST**, then click on the check mark beside it.\n",
    "\n",
    "For the integration point, make sure that **Lambda Function** is selected and click on the **Use Lambda Proxy integration**. This option makes sure that the data that is sent to the API is then sent directly to the Lambda function with no processing. It also means that the return value must be a proper response object as it will also not be processed by API Gateway.\n",
    "\n",
    "Type the name of the Lambda function you created earlier into the **Lambda Function** text entry box and then click on **Save**. Click on **OK** in the pop-up box that then appears, giving permission to API Gateway to invoke the Lambda function you created.\n",
    "\n",
    "The last step in creating the API Gateway is to select the **Actions** dropdown and click on **Deploy API**. You will need to create a new Deployment stage and name it anything you like, for example `prod`.\n",
    "\n",
    "You have now successfully set up a public API to access your SageMaker model. Make sure to copy or write down the URL provided to invoke your newly created public API as this will be needed in the next step. This URL can be found at the top of the page, highlighted in blue next to the text **Invoke URL**."
   ]
  },
  {
   "cell_type": "markdown",
   "metadata": {},
   "source": [
    "## Step 7: Deploying our web app\n",
    "\n",
    "Now that we have a publicly available API, we can start using it in a web app. For our purposes, we have provided a simple static html file which can make use of the public api you created earlier.\n",
    "\n",
    "In the `website` folder there should be a file called `index.html`. Download the file to your computer and open that file up in a text editor of your choice. There should be a line which contains **\\*\\*REPLACE WITH PUBLIC API URL\\*\\***. Replace this string with the url that you wrote down in the last step and then save the file.\n",
    "\n",
    "Now, if you open `index.html` on your local computer, your browser will behave as a local web server and you can use the provided site to interact with your SageMaker model.\n",
    "\n",
    "If you'd like to go further, you can host this html file anywhere you'd like, for example using github or hosting a static site on Amazon's S3. Once you have done this you can share the link with anyone you'd like and have them play with it too!\n",
    "\n",
    "> **Important Note** In order for the web app to communicate with the SageMaker endpoint, the endpoint has to actually be deployed and running. This means that you are paying for it. Make sure that the endpoint is running when you want to use the web app but that you shut it down when you don't need it, otherwise you will end up with a surprisingly large AWS bill."
   ]
  },
  {
   "cell_type": "markdown",
   "metadata": {},
   "source": [
    "### Delete the endpoint\n",
    "\n",
    "Remember to always shut down your endpoint if you are no longer using it. You are charged for the length of time that the endpoint is running so if you forget and leave it on you could end up with an unexpectedly large bill."
   ]
  },
  {
   "cell_type": "code",
   "execution_count": 67,
   "metadata": {},
   "outputs": [],
   "source": [
    "xgb_predictor.delete_endpoint()"
   ]
  },
  {
   "cell_type": "markdown",
   "metadata": {},
   "source": [
    "## Optional: Clean up\n",
    "\n",
    "The default notebook instance on SageMaker doesn't have a lot of excess disk space available. As you continue to complete and execute notebooks you will eventually fill up this disk space, leading to errors which can be difficult to diagnose. Once you are completely finished using a notebook it is a good idea to remove the files that you created along the way. Of course, you can do this from the terminal or from the notebook hub if you would like. The cell below contains some commands to clean up the created files from within the notebook."
   ]
  },
  {
   "cell_type": "code",
   "execution_count": null,
   "metadata": {},
   "outputs": [],
   "source": [
    "# First we will remove all of the files contained in the data_dir directory\n",
    "!rm $data_dir/*\n",
    "\n",
    "# And then we delete the directory itself\n",
    "!rmdir $data_dir\n",
    "\n",
    "# Similarly we remove the files in the cache_dir directory and the directory itself\n",
    "!rm $cache_dir/*\n",
    "!rmdir $cache_dir"
   ]
  },
  {
   "cell_type": "code",
   "execution_count": null,
   "metadata": {},
   "outputs": [],
   "source": []
  }
 ],
 "metadata": {
  "kernelspec": {
   "display_name": "conda_python3",
   "language": "python",
   "name": "conda_python3"
  },
  "language_info": {
   "codemirror_mode": {
    "name": "ipython",
    "version": 3
   },
   "file_extension": ".py",
   "mimetype": "text/x-python",
   "name": "python",
   "nbconvert_exporter": "python",
   "pygments_lexer": "ipython3",
   "version": "3.6.10"
  }
 },
 "nbformat": 4,
 "nbformat_minor": 2
}
